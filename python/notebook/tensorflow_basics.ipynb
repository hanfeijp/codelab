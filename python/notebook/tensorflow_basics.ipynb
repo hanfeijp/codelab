{
 "cells": [
  {
   "cell_type": "markdown",
   "metadata": {},
   "source": [
    "References:\n",
    "- [Tensorflow Mechanics 101](https://www.tensorflow.org/versions/r0.9/tutorials/mnist/tf/index.html)\n",
    "- [Running Graphs](https://www.tensorflow.org/versions/r0.9/api_docs/python/client.html)\n",
    "- [Building Graphs](https://www.tensorflow.org/versions/r0.9/api_docs/python/framework.html)\n"
   ]
  },
  {
   "cell_type": "code",
   "execution_count": 1,
   "metadata": {
    "collapsed": true
   },
   "outputs": [],
   "source": [
    "from IPython.display import display\n",
    "import tensorflow as tf"
   ]
  },
  {
   "cell_type": "code",
   "execution_count": 2,
   "metadata": {
    "collapsed": false
   },
   "outputs": [
    {
     "name": "stdout",
     "output_type": "stream",
     "text": [
      "z == Tensor(\"add:0\", shape=(), dtype=float32)\n",
      "z.graph == <tensorflow.python.framework.ops.Graph object at 0x10d8a6c50>\n",
      "x.graph == z.graph:  True\n",
      "x.graph == default_graph():  True\n",
      "run(z) == 7.0\n",
      "run(z) == 7.0\n"
     ]
    }
   ],
   "source": [
    "x = tf.constant(3.0)\n",
    "y = tf.constant(4.0)\n",
    "z = x + y\n",
    "\n",
    "print 'z ==', z\n",
    "print 'z.graph ==', z.graph\n",
    "print 'x.graph == z.graph: ', z.graph == y.graph\n",
    "print 'x.graph == default_graph(): ', x.graph == tf.get_default_graph()\n",
    "sess = tf.Session()\n",
    "# 7.0\n",
    "print 'run(z) ==', sess.run(z)\n",
    "# 7.0\n",
    "print 'run(z) ==', sess.run(z)\n",
    "sess.close()\n",
    "\n",
    "# Error\n",
    "# print 'run(z) ==', sess.run(z)"
   ]
  },
  {
   "cell_type": "code",
   "execution_count": 3,
   "metadata": {
    "collapsed": false
   },
   "outputs": [
    {
     "name": "stdout",
     "output_type": "stream",
     "text": [
      "run(z) == 7.0\n",
      "z.eval() == 7.0\n"
     ]
    }
   ],
   "source": [
    "# Call close() automatically by with-statement.\n",
    "# Also, with-statement calls as_default() implicitly.\n",
    "with tf.Session() as sess:\n",
    "  print 'run(z) ==', sess.run(z)\n",
    "  print 'z.eval() ==', z.eval()"
   ]
  },
  {
   "cell_type": "code",
   "execution_count": 4,
   "metadata": {
    "collapsed": false
   },
   "outputs": [
    {
     "name": "stdout",
     "output_type": "stream",
     "text": [
      "get_default_session None\n",
      "get_default_session <tensorflow.python.client.session.Session object at 0x10d8a6610> True\n",
      "z.eval() == 7.0\n"
     ]
    }
   ],
   "source": [
    "sess = tf.Session()\n",
    "\n",
    "# This is error.\n",
    "# z.eval()\n",
    "print 'get_default_session', tf.get_default_session()\n",
    "\n",
    "with sess.as_default():\n",
    "    print 'get_default_session', tf.get_default_session(), tf.get_default_session() == sess\n",
    "    print 'z.eval() ==', z.eval()"
   ]
  },
  {
   "cell_type": "code",
   "execution_count": 5,
   "metadata": {
    "collapsed": false,
    "scrolled": false
   },
   "outputs": [
    {
     "name": "stdout",
     "output_type": "stream",
     "text": [
      "name: \"GradientDescent\"\n",
      "op: \"NoOp\"\n",
      "input: \"^GradientDescent/update_Variable/ApplyGradientDescent\"\n",
      "\n",
      "===== default session =====\n",
      "3.6\n",
      "3.7\n",
      "3.8\n",
      "3.9\n",
      "4.0\n",
      "4.1\n",
      "4.0\n",
      "4.1\n",
      "4.0\n",
      "4.1\n",
      "===== explicit session =====\n",
      "3.6\n",
      "3.7\n",
      "3.8\n",
      "3.9\n",
      "4.0\n",
      "4.1\n",
      "4.0\n",
      "4.1\n",
      "4.0\n",
      "4.1\n",
      "===== explicit session as arg=====\n",
      "3.6\n",
      "3.7\n",
      "3.8\n",
      "3.9\n",
      "4.0\n",
      "4.1\n",
      "4.0\n",
      "4.1\n",
      "4.0\n",
      "4.1\n"
     ]
    }
   ],
   "source": [
    "x = tf.Variable(3.5)\n",
    "y = x - tf.constant(4.0)\n",
    "step = tf.train.GradientDescentOptimizer(0.1).minimize(tf.abs(y))\n",
    "print step\n",
    "\n",
    "print '===== default session ====='\n",
    "with tf.Session():\n",
    "    # FailedPreconditionError: Attempting to use uninitialized value \n",
    "    # x.eval()\n",
    "    init = tf.initialize_all_variables()\n",
    "    init.run()\n",
    "    for i in xrange(10):\n",
    "        step.run()\n",
    "        print x.eval()\n",
    "\n",
    "print '===== explicit session ====='\n",
    "sess = tf.Session()\n",
    "init = tf.initialize_all_variables()\n",
    "sess.run(init)\n",
    "for i in xrange(10):\n",
    "    sess.run(step)\n",
    "    print sess.run(x)  # sess does not have 'eval'. Use run.\n",
    "sess.close()\n",
    "\n",
    "print '===== explicit session as arg====='\n",
    "sess = tf.Session()\n",
    "init = tf.initialize_all_variables()\n",
    "init.run(session=sess)\n",
    "for i in xrange(10):\n",
    "    step.run(session=sess)\n",
    "    print x.eval(session=sess)\n",
    "sess.close()"
   ]
  }
 ],
 "metadata": {
  "kernelspec": {
   "display_name": "Python 2",
   "language": "python",
   "name": "python2"
  },
  "language_info": {
   "codemirror_mode": {
    "name": "ipython",
    "version": 2
   },
   "file_extension": ".py",
   "mimetype": "text/x-python",
   "name": "python",
   "nbconvert_exporter": "python",
   "pygments_lexer": "ipython2",
   "version": "2.7.11"
  }
 },
 "nbformat": 4,
 "nbformat_minor": 0
}
