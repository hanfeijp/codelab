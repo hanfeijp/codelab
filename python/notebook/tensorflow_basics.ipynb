{
 "cells": [
  {
   "cell_type": "code",
   "execution_count": 1,
   "metadata": {
    "collapsed": true
   },
   "outputs": [],
   "source": [
    "import collections\n",
    "import math\n",
    "\n",
    "from IPython.display import display\n",
    "import pandas as pd\n",
    "import numpy as np"
   ]
  },
  {
   "cell_type": "markdown",
   "metadata": {},
   "source": [
    "References:\n",
    "- [Tensorflow Mechanics 101](https://www.tensorflow.org/versions/r0.9/tutorials/mnist/tf/index.html)\n",
    "- [Running Graphs](https://www.tensorflow.org/versions/r0.9/api_docs/python/client.html)\n",
    "- [Building Graphs](https://www.tensorflow.org/versions/r0.9/api_docs/python/framework.html)\n"
   ]
  },
  {
   "cell_type": "code",
   "execution_count": 2,
   "metadata": {
    "collapsed": true
   },
   "outputs": [],
   "source": [
    "import tensorflow as tf"
   ]
  },
  {
   "cell_type": "code",
   "execution_count": 3,
   "metadata": {
    "collapsed": false
   },
   "outputs": [
    {
     "data": {
      "text/plain": [
       "'0.9.0'"
      ]
     },
     "execution_count": 3,
     "metadata": {},
     "output_type": "execute_result"
    }
   ],
   "source": [
    "tf.__version__"
   ]
  },
  {
   "cell_type": "code",
   "execution_count": 4,
   "metadata": {
    "collapsed": false
   },
   "outputs": [
    {
     "name": "stdout",
     "output_type": "stream",
     "text": [
      "z == Tensor(\"add:0\", shape=(), dtype=float32)\n",
      "z.graph == <tensorflow.python.framework.ops.Graph object at 0x10d76af50>\n",
      "x.graph == z.graph:  True\n",
      "x.graph == default_graph():  True\n",
      "run(z) == 7.0\n",
      "run(z) == 7.0\n"
     ]
    }
   ],
   "source": [
    "x = tf.constant(3.0)\n",
    "y = tf.constant(4.0)\n",
    "z = x + y\n",
    "\n",
    "print 'z ==', z\n",
    "print 'z.graph ==', z.graph\n",
    "print 'x.graph == z.graph: ', z.graph == y.graph\n",
    "print 'x.graph == default_graph(): ', x.graph == tf.get_default_graph()\n",
    "sess = tf.Session()\n",
    "# 7.0\n",
    "print 'run(z) ==', sess.run(z)\n",
    "# 7.0\n",
    "print 'run(z) ==', sess.run(z)\n",
    "sess.close()\n",
    "\n",
    "# Error\n",
    "# print 'run(z) ==', sess.run(z)"
   ]
  },
  {
   "cell_type": "code",
   "execution_count": 5,
   "metadata": {
    "collapsed": false
   },
   "outputs": [
    {
     "name": "stdout",
     "output_type": "stream",
     "text": [
      "run(z) == 7.0\n",
      "z.eval() == 7.0\n"
     ]
    }
   ],
   "source": [
    "# Call close() automatically by with-statement.\n",
    "# Also, with-statement calls as_default() implicitly.\n",
    "with tf.Session() as sess:\n",
    "  print 'run(z) ==', sess.run(z)\n",
    "  print 'z.eval() ==', z.eval()"
   ]
  },
  {
   "cell_type": "code",
   "execution_count": 6,
   "metadata": {
    "collapsed": false
   },
   "outputs": [
    {
     "name": "stdout",
     "output_type": "stream",
     "text": [
      "get_default_session None\n",
      "get_default_session <tensorflow.python.client.session.Session object at 0x10d76a990> True\n",
      "z.eval() == 7.0\n"
     ]
    }
   ],
   "source": [
    "sess = tf.Session()\n",
    "\n",
    "# This is error.\n",
    "# z.eval()\n",
    "print 'get_default_session', tf.get_default_session()\n",
    "\n",
    "with sess.as_default():\n",
    "    print 'get_default_session', tf.get_default_session(), tf.get_default_session() == sess\n",
    "    print 'z.eval() ==', z.eval()"
   ]
  },
  {
   "cell_type": "code",
   "execution_count": 7,
   "metadata": {
    "collapsed": false,
    "scrolled": false
   },
   "outputs": [
    {
     "name": "stdout",
     "output_type": "stream",
     "text": [
      "name: \"GradientDescent\"\n",
      "op: \"NoOp\"\n",
      "input: \"^GradientDescent/update_Variable/ApplyGradientDescent\"\n",
      "\n",
      "True\n",
      "===== default session =====\n",
      "3.6\n",
      "3.7\n",
      "3.8\n",
      "3.9\n",
      "4.0\n",
      "4.1\n",
      "4.0\n",
      "4.1\n",
      "4.0\n",
      "4.1\n",
      "===== explicit session =====\n",
      "3.6\n",
      "3.7\n",
      "3.8\n",
      "3.9\n",
      "4.0\n",
      "4.1\n",
      "4.0\n",
      "4.1\n",
      "4.0\n",
      "4.1\n",
      "===== explicit session as arg=====\n",
      "3.6\n",
      "3.7\n",
      "3.8\n",
      "3.9\n",
      "4.0\n",
      "4.1\n",
      "4.0\n",
      "4.1\n",
      "4.0\n",
      "4.1\n"
     ]
    }
   ],
   "source": [
    "x = tf.Variable(3.5)\n",
    "y = x - tf.constant(4.0)\n",
    "step = tf.train.GradientDescentOptimizer(0.1).minimize(tf.abs(y))\n",
    "print step\n",
    "print isinstance(step, tf.Operation)\n",
    "\n",
    "print '===== default session ====='\n",
    "with tf.Session():\n",
    "    # FailedPreconditionError: Attempting to use uninitialized value \n",
    "    # x.eval()\n",
    "    init = tf.initialize_all_variables()\n",
    "    init.run()\n",
    "    for i in xrange(10):\n",
    "        step.run()\n",
    "        print x.eval()\n",
    "\n",
    "print '===== explicit session ====='\n",
    "sess = tf.Session()\n",
    "init = tf.initialize_all_variables()\n",
    "sess.run(init)\n",
    "for i in xrange(10):\n",
    "    sess.run(step)\n",
    "    print sess.run(x)  # sess does not have 'eval'. Use run.\n",
    "sess.close()\n",
    "\n",
    "print '===== explicit session as arg====='\n",
    "sess = tf.Session()\n",
    "init = tf.initialize_all_variables()\n",
    "init.run(session=sess)\n",
    "for i in xrange(10):\n",
    "    step.run(session=sess)\n",
    "    print x.eval(session=sess)\n",
    "sess.close()"
   ]
  },
  {
   "cell_type": "markdown",
   "metadata": {},
   "source": [
    "# Graph\n",
    "- A session is under a graph\n",
    "- Methods to generate tensors (like constant) do not have 'graph' argument unlike eval/run and session."
   ]
  },
  {
   "cell_type": "code",
   "execution_count": 8,
   "metadata": {
    "collapsed": false,
    "scrolled": true
   },
   "outputs": [
    {
     "name": "stdout",
     "output_type": "stream",
     "text": [
      "c0, c1, c2 = Tensor(\"Const:0\", shape=(), dtype=float32) Tensor(\"Const_1:0\", shape=(), dtype=float32) Tensor(\"Const:0\", shape=(), dtype=float32)\n",
      "Graph equality: True False\n",
      "c0.eval == 3.0\n",
      "==== (c0 + c1) ====\n",
      "7.0\n",
      "True\n",
      "=== finalize Graphs ===\n",
      "False False\n",
      "True True\n"
     ]
    }
   ],
   "source": [
    "g0 = tf.Graph()\n",
    "g1 = tf.Graph()\n",
    "with g0.as_default():\n",
    "    c0 = tf.constant(3.0)\n",
    "    c1 = tf.constant(4.0)\n",
    "    sess0 = tf.Session()\n",
    "with g1.as_default():\n",
    "    c2 = tf.constant(4.0)\n",
    "    sess1 = tf.Session()\n",
    "\n",
    "print 'c0, c1, c2 =', c0, c1, c2\n",
    "print 'Graph equality:', c0.graph == c1.graph, c0.graph == c2.graph\n",
    "\n",
    "print 'c0.eval ==', c0.eval(session=sess0)\n",
    "\n",
    "# Error!\n",
    "# ValueError: Cannot use the given session to evaluate tensor: the tensor's graph is different from the session's graph.\n",
    "# print 'c0.eval ==', c0.eval(session=sess1)\n",
    "\n",
    "# 'c0 + c1' works even if g0 is not 'default'.\n",
    "print '==== (c0 + c1) ===='\n",
    "print (c0 + c1).eval(session=sess0)\n",
    "print (c0 + c1).graph == c0.graph\n",
    "\n",
    "# Error!\n",
    "# ValueError: Tensor(\"Const:0\", shape=(), dtype=float32) must be from the same graph as Tensor(\"Const:0\", shape=(), dtype=float32).\n",
    "# c2 = c0 + c1\n",
    "\n",
    "sess0.close()\n",
    "sess1.close()\n",
    "print '=== finalize Graphs ==='\n",
    "# Graphs are not finalized.\n",
    "print g0.finalized, g1.finalized\n",
    "g0.finalize()\n",
    "g1.finalize()\n",
    "print g0.finalized, g1.finalized"
   ]
  },
  {
   "cell_type": "markdown",
   "metadata": {},
   "source": [
    "# What are Tensor, Variable and Operation?\n",
    "- [tf.Tensor](https://www.tensorflow.org/versions/r0.9/api_docs/python/framework.html#Tensor)\n",
    "- [tf.Variable](https://www.tensorflow.org/versions/r0.9/api_docs/python/framework.html#Variable)\n",
    "- [tf.Operation](https://www.tensorflow.org/versions/r0.9/api_docs/python/framework.html#Operation)\n"
   ]
  },
  {
   "cell_type": "code",
   "execution_count": 9,
   "metadata": {
    "collapsed": false
   },
   "outputs": [
    {
     "data": {
      "text/html": [
       "<div>\n",
       "<table border=\"1\" class=\"dataframe\">\n",
       "  <thead>\n",
       "    <tr style=\"text-align: right;\">\n",
       "      <th></th>\n",
       "      <th>Tensor</th>\n",
       "      <th>Variable</th>\n",
       "      <th>Operation</th>\n",
       "    </tr>\n",
       "  </thead>\n",
       "  <tbody>\n",
       "    <tr>\n",
       "      <th>x</th>\n",
       "      <td>✓</td>\n",
       "      <td></td>\n",
       "      <td></td>\n",
       "    </tr>\n",
       "    <tr>\n",
       "      <th>z</th>\n",
       "      <td>✓</td>\n",
       "      <td></td>\n",
       "      <td></td>\n",
       "    </tr>\n",
       "    <tr>\n",
       "      <th>p</th>\n",
       "      <td>✓</td>\n",
       "      <td></td>\n",
       "      <td></td>\n",
       "    </tr>\n",
       "    <tr>\n",
       "      <th>v</th>\n",
       "      <td></td>\n",
       "      <td>✓</td>\n",
       "      <td></td>\n",
       "    </tr>\n",
       "    <tr>\n",
       "      <th>w</th>\n",
       "      <td>✓</td>\n",
       "      <td></td>\n",
       "      <td></td>\n",
       "    </tr>\n",
       "    <tr>\n",
       "      <th>step</th>\n",
       "      <td></td>\n",
       "      <td></td>\n",
       "      <td>✓</td>\n",
       "    </tr>\n",
       "    <tr>\n",
       "      <th>mat</th>\n",
       "      <td>✓</td>\n",
       "      <td></td>\n",
       "      <td></td>\n",
       "    </tr>\n",
       "    <tr>\n",
       "      <th>mul</th>\n",
       "      <td>✓</td>\n",
       "      <td></td>\n",
       "      <td></td>\n",
       "    </tr>\n",
       "  </tbody>\n",
       "</table>\n",
       "</div>"
      ],
      "text/plain": [
       "     Tensor Variable Operation\n",
       "x         ✓                   \n",
       "z         ✓                   \n",
       "p         ✓                   \n",
       "v                  ✓          \n",
       "w         ✓                   \n",
       "step                         ✓\n",
       "mat       ✓                   \n",
       "mul       ✓                   "
      ]
     },
     "execution_count": 9,
     "metadata": {},
     "output_type": "execute_result"
    }
   ],
   "source": [
    "tensor = pd.Series()\n",
    "operation = pd.Series()\n",
    "variable = pd.Series()\n",
    "\n",
    "def check_type(label, v):\n",
    "    tensor[label] = isinstance(v, tf.Tensor)\n",
    "    operation[label] = isinstance(v, tf.Operation)\n",
    "    variable[label] = isinstance(v, tf.Variable)\n",
    "\n",
    "x = tf.constant(3.0)\n",
    "y = tf.constant(4.0)\n",
    "z = x + y\n",
    "v = tf.Variable(1.0)\n",
    "w = v + x\n",
    "# This is Operation.\n",
    "step = tf.train.GradientDescentOptimizer(0.1).minimize(w)\n",
    "\n",
    "p = tf.placeholder(tf.float64)\n",
    "\n",
    "mat = tf.constant([[1, 2], [3, 4]])\n",
    "mul = tf.matmul(mat, mat)\n",
    "\n",
    "check_type('x', x)\n",
    "check_type('z', z)\n",
    "check_type('p', p)\n",
    "check_type('v', v)\n",
    "check_type('w', w)\n",
    "check_type('step', step)\n",
    "\n",
    "check_type('mat', mat)\n",
    "# It seems like the comment in\n",
    "# https://www.tensorflow.org/versions/r0.9/api_docs/python/framework.html#Operation\n",
    "# is wrong.\n",
    "# \"Objects of type Operation are created by calling a Python op constructor (such as tf.matmul())\"\n",
    "check_type('mul', mul)\n",
    "\n",
    "df = pd.DataFrame(collections.OrderedDict([('Tensor', tensor), ('Variable', variable), ('Operation', operation)]))\n",
    "df.applymap(lambda b:u'\\u2713' if b else u'')"
   ]
  },
  {
   "cell_type": "markdown",
   "metadata": {},
   "source": [
    "# Random and Session"
   ]
  },
  {
   "cell_type": "code",
   "execution_count": 10,
   "metadata": {
    "collapsed": false
   },
   "outputs": [
    {
     "data": {
      "text/plain": [
       "array([[ 0.00827565,  0.68900472],\n",
       "       [-3.17785239, -0.5679031 ]], dtype=float32)"
      ]
     },
     "metadata": {},
     "output_type": "display_data"
    },
    {
     "data": {
      "text/plain": [
       "array([[ 1.86137152,  0.00334948],\n",
       "       [ 1.00825703,  1.35924137]], dtype=float32)"
      ]
     },
     "metadata": {},
     "output_type": "display_data"
    },
    {
     "data": {
      "text/plain": [
       "[array([[-0.14897029, -0.71787143],\n",
       "        [ 0.17828424,  1.41917324]], dtype=float32),\n",
       " array([[ 0.85102969,  0.28212857],\n",
       "        [ 1.17828429,  2.41917324]], dtype=float32)]"
      ]
     },
     "metadata": {},
     "output_type": "display_data"
    },
    {
     "name": "stdout",
     "output_type": "stream",
     "text": [
      "----- Random variable -------\n"
     ]
    },
    {
     "data": {
      "text/plain": [
       "array([[ 1.51605272,  0.34388641],\n",
       "       [ 0.87834281,  1.14176714]], dtype=float32)"
      ]
     },
     "metadata": {},
     "output_type": "display_data"
    },
    {
     "data": {
      "text/plain": [
       "array([[ 1.51605272,  0.34388641],\n",
       "       [ 0.87834281,  1.14176714]], dtype=float32)"
      ]
     },
     "metadata": {},
     "output_type": "display_data"
    }
   ],
   "source": [
    "mat0 = tf.random_normal([2,2])\n",
    "mat1 = mat0 + 1\n",
    "with tf.Session() as sess:\n",
    "    # mat1.eval() != mat0.eval() + 1\n",
    "    display(mat0.eval())\n",
    "    display(mat1.eval())\n",
    "    # mat1.eval() == mat0.eval() + 1\n",
    "    display(sess.run((mat0, mat1)))\n",
    "\n",
    "print '----- Random variable -------'\n",
    "mat2 = tf.Variable(tf.random_normal([2, 2]))\n",
    "with tf.Session():\n",
    "    # Do not forget to initialize variables.\n",
    "    tf.initialize_all_variables().run()\n",
    "    # mat2.eval() == mat2.eval().\n",
    "    display(mat2.eval())\n",
    "    display(mat2.eval())"
   ]
  }
 ],
 "metadata": {
  "kernelspec": {
   "display_name": "Python 2",
   "language": "python",
   "name": "python2"
  },
  "language_info": {
   "codemirror_mode": {
    "name": "ipython",
    "version": 2
   },
   "file_extension": ".py",
   "mimetype": "text/x-python",
   "name": "python",
   "nbconvert_exporter": "python",
   "pygments_lexer": "ipython2",
   "version": "2.7.11"
  }
 },
 "nbformat": 4,
 "nbformat_minor": 0
}
