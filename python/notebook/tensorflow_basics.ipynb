{
 "cells": [
  {
   "cell_type": "code",
   "execution_count": 1,
   "metadata": {
    "collapsed": true
   },
   "outputs": [],
   "source": [
    "import datetime\n",
    "import collections\n",
    "import math\n",
    "import os\n",
    "\n",
    "from IPython.display import display\n",
    "import pandas as pd\n",
    "import numpy as np"
   ]
  },
  {
   "cell_type": "markdown",
   "metadata": {},
   "source": [
    "# References\n",
    "- [Tensorflow Mechanics 101](https://www.tensorflow.org/versions/r0.9/tutorials/mnist/tf/index.html)\n",
    "- [Running Graphs](https://www.tensorflow.org/versions/r0.9/api_docs/python/client.html)\n",
    "- [Building Graphs](https://www.tensorflow.org/versions/r0.9/api_docs/python/framework.html)\n"
   ]
  },
  {
   "cell_type": "code",
   "execution_count": 2,
   "metadata": {
    "collapsed": true
   },
   "outputs": [],
   "source": [
    "import tensorflow as tf"
   ]
  },
  {
   "cell_type": "code",
   "execution_count": 3,
   "metadata": {
    "collapsed": false
   },
   "outputs": [
    {
     "data": {
      "text/plain": [
       "'0.9.0'"
      ]
     },
     "execution_count": 3,
     "metadata": {},
     "output_type": "execute_result"
    }
   ],
   "source": [
    "tf.__version__"
   ]
  },
  {
   "cell_type": "code",
   "execution_count": 4,
   "metadata": {
    "collapsed": false,
    "scrolled": true
   },
   "outputs": [
    {
     "name": "stdout",
     "output_type": "stream",
     "text": [
      "z == Tensor(\"add:0\", shape=(), dtype=float32)\n",
      "z.graph == <tensorflow.python.framework.ops.Graph object at 0x10f32e4d0>\n",
      "x.graph == z.graph:  True\n",
      "x.graph == default_graph():  True\n",
      "run(z) == 7.0\n",
      "run(z) == 7.0\n"
     ]
    }
   ],
   "source": [
    "x = tf.constant(3.0)\n",
    "y = tf.constant(4.0)\n",
    "z = x + y\n",
    "\n",
    "print 'z ==', z\n",
    "print 'z.graph ==', z.graph\n",
    "print 'x.graph == z.graph: ', z.graph == y.graph\n",
    "print 'x.graph == default_graph(): ', x.graph == tf.get_default_graph()\n",
    "sess = tf.Session()\n",
    "# 7.0\n",
    "print 'run(z) ==', sess.run(z)\n",
    "# Evaluate z multiple times (7.0).\n",
    "print 'run(z) ==', sess.run(z)\n",
    "sess.close()\n",
    "\n",
    "# RuntimeError: Attempted to use a closed Session.\n",
    "# print 'run(z) ==', sess.run(z)"
   ]
  },
  {
   "cell_type": "code",
   "execution_count": 5,
   "metadata": {
    "collapsed": false
   },
   "outputs": [
    {
     "name": "stdout",
     "output_type": "stream",
     "text": [
      "run(z) == 7.0\n",
      "z.eval() == 7.0\n"
     ]
    }
   ],
   "source": [
    "# Call close() automatically by with-statement.\n",
    "# Also, with-statement calls as_default() implicitly.\n",
    "with tf.Session() as sess:\n",
    "  print 'run(z) ==', sess.run(z)\n",
    "  print 'z.eval() ==', z.eval()"
   ]
  },
  {
   "cell_type": "code",
   "execution_count": 6,
   "metadata": {
    "collapsed": false
   },
   "outputs": [
    {
     "name": "stdout",
     "output_type": "stream",
     "text": [
      "get_default_session None\n",
      "get_default_session <tensorflow.python.client.session.Session object at 0x10f323710> True\n",
      "z.eval() == 7.0\n"
     ]
    }
   ],
   "source": [
    "sess = tf.Session()\n",
    "\n",
    "# This is error.\n",
    "# z.eval()\n",
    "print 'get_default_session', tf.get_default_session()\n",
    "\n",
    "with sess.as_default():\n",
    "    print 'get_default_session', tf.get_default_session(), tf.get_default_session() == sess\n",
    "    print 'z.eval() ==', z.eval()"
   ]
  },
  {
   "cell_type": "markdown",
   "metadata": {},
   "source": [
    "# Variable and assign\n",
    "- [tf.Variable](https://www.tensorflow.org/versions/r0.9/api_docs/python/state_ops.html#Variable)\n",
    "- [tf.Graph.control_dependencies](https://www.tensorflow.org/versions/r0.9/api_docs/python/framework.html#Graph.control_dependencies)"
   ]
  },
  {
   "cell_type": "code",
   "execution_count": 7,
   "metadata": {
    "collapsed": false
   },
   "outputs": [
    {
     "name": "stdout",
     "output_type": "stream",
     "text": [
      "Tensor(\"Assign:0\", shape=(), dtype=float32_ref)\n",
      "=== init ===\n",
      "v = 5.0\n",
      "=== assign ===\n",
      "assign = 6.0\n",
      "v = 6.0\n",
      "=== run two \"assign\"s\n",
      "[7.0, 7.0]\n",
      "7.0\n",
      "=== assign and v ===\n",
      "[8.0, 8.0]\n",
      "[9.0, 9.0]\n",
      "=== a, b, c d and assign ===\n",
      "[10.0, 9.0, 10.0, 10.0, 10.0]\n"
     ]
    }
   ],
   "source": [
    "# Why is not the spec of assign documented well in Tensorflow?\n",
    "v = tf.Variable(5.0)\n",
    "w = v + 1\n",
    "assign = v.assign(w)\n",
    "\n",
    "# It seems like the order of assign and other operations is not defined\n",
    "# unless control_dependencies is used.\n",
    "# TODO: Is there a document about this rule?\n",
    "a = tf.identity(v)\n",
    "b = v + 0\n",
    "\n",
    "# control_dependencies\n",
    "with tf.get_default_graph().control_dependencies([assign]):\n",
    "    c = tf.identity(v)\n",
    "    d = v + 0\n",
    "\n",
    "print assign\n",
    "\n",
    "with tf.Session() as sess:\n",
    "    tf.initialize_all_variables().run()\n",
    "    print '=== init ==='\n",
    "    print 'v =', v.eval()\n",
    "    print '=== assign ==='\n",
    "    print 'assign =', assign.eval()\n",
    "    print 'v =', v.eval()\n",
    "    print '=== run two \"assign\"s'\n",
    "    print sess.run([assign, assign])\n",
    "    print v.eval()\n",
    "    print '=== assign and v ==='\n",
    "    print sess.run([v, assign])\n",
    "    print sess.run([assign, v])\n",
    "    print '=== a, b, c d and assign ==='\n",
    "    print sess.run([a, b, c, d, assign])"
   ]
  },
  {
   "cell_type": "markdown",
   "metadata": {},
   "source": [
    "# Placeholder"
   ]
  },
  {
   "cell_type": "code",
   "execution_count": 8,
   "metadata": {
    "collapsed": false
   },
   "outputs": [
    {
     "name": "stdout",
     "output_type": "stream",
     "text": [
      "=== q (p: 3.0) ===\n",
      "7.0\n",
      "=== q (p: 10.0) ===\n",
      "14.0\n",
      "=== matrix ===\n",
      "[[  1.   4.   9.]\n",
      " [ 16.  25.  36.]]\n",
      "[[ 14.  32.]\n",
      " [ 32.  77.]]\n",
      "=== None in shape of placeholder ===\n",
      "[[ 14.]\n",
      " [ 32.]]\n"
     ]
    }
   ],
   "source": [
    "p = tf.placeholder(tf.float32)\n",
    "q = p + 4.0\n",
    "\n",
    "p_matrix = tf.placeholder(tf.float32, [2, 3])\n",
    "# Note: This is not matmul :)\n",
    "pp = p_matrix * p_matrix\n",
    "mul = tf.matmul(p_matrix, tf.transpose(p_matrix))\n",
    "\n",
    "q_matrix = tf.placeholder(tf.float32, [None, 3])\n",
    "q_mul = tf.matmul(q_matrix, [[1.0], [2.0], [3.0]])\n",
    "\n",
    "with tf.Session() as sess:\n",
    "    print '=== q (p: 3.0) ==='\n",
    "    print sess.run(q, {p: 3.0})\n",
    "    print '=== q (p: 10.0) ==='\n",
    "    print q.eval({p: 10.0})\n",
    "    \n",
    "    print '=== matrix ==='\n",
    "    print sess.run(pp, {p_matrix: [[1,2,3], [4,5,6]]})\n",
    "    print sess.run(mul, {p_matrix: [[1,2,3], [4,5,6]]})\n",
    "    \n",
    "    print '=== None in shape of placeholder ==='\n",
    "    print sess.run(q_mul, {q_matrix: [[1.0, 2.0, 3.0], [4.0, 5.0, 6.0]]})"
   ]
  },
  {
   "cell_type": "markdown",
   "metadata": {},
   "source": [
    "# Optimization"
   ]
  },
  {
   "cell_type": "code",
   "execution_count": 9,
   "metadata": {
    "collapsed": false,
    "scrolled": false
   },
   "outputs": [
    {
     "name": "stdout",
     "output_type": "stream",
     "text": [
      "name: \"GradientDescent\"\n",
      "op: \"NoOp\"\n",
      "input: \"^GradientDescent/update_Variable_1/ApplyGradientDescent\"\n",
      "\n",
      "True\n",
      "===== default session =====\n",
      "3.6\n",
      "3.7\n",
      "3.8\n",
      "3.9\n",
      "4.0\n",
      "4.1\n",
      "4.0\n",
      "4.1\n",
      "4.0\n",
      "4.1\n",
      "===== explicit session =====\n",
      "3.6\n",
      "3.7\n",
      "3.8\n",
      "3.9\n",
      "4.0\n",
      "4.1\n",
      "4.0\n",
      "4.1\n",
      "4.0\n",
      "4.1\n",
      "===== explicit session as arg=====\n",
      "3.6\n",
      "3.7\n",
      "3.8\n",
      "3.9\n",
      "4.0\n",
      "4.1\n",
      "4.0\n",
      "4.1\n",
      "4.0\n",
      "4.1\n"
     ]
    }
   ],
   "source": [
    "x = tf.Variable(3.5)\n",
    "y = x - tf.constant(4.0)\n",
    "step = tf.train.GradientDescentOptimizer(0.1).minimize(tf.abs(y))\n",
    "print step\n",
    "print isinstance(step, tf.Operation)\n",
    "\n",
    "print '===== default session ====='\n",
    "with tf.Session():\n",
    "    # FailedPreconditionError: Attempting to use uninitialized value \n",
    "    # x.eval()\n",
    "    init = tf.initialize_all_variables()\n",
    "    init.run()\n",
    "    for i in xrange(10):\n",
    "        step.run()\n",
    "        print x.eval()\n",
    "\n",
    "print '===== explicit session ====='\n",
    "sess = tf.Session()\n",
    "init = tf.initialize_all_variables()\n",
    "sess.run(init)\n",
    "for i in xrange(10):\n",
    "    sess.run(step)\n",
    "    print sess.run(x)  # sess does not have 'eval'. Use run.\n",
    "sess.close()\n",
    "\n",
    "print '===== explicit session as arg====='\n",
    "sess = tf.Session()\n",
    "init = tf.initialize_all_variables()\n",
    "init.run(session=sess)\n",
    "for i in xrange(10):\n",
    "    step.run(session=sess)\n",
    "    print x.eval(session=sess)\n",
    "sess.close()"
   ]
  },
  {
   "cell_type": "markdown",
   "metadata": {},
   "source": [
    "# Graph\n",
    "- A session is under a graph\n",
    "- Methods to generate tensors (like constant) do not have 'graph' argument unlike eval/run and session."
   ]
  },
  {
   "cell_type": "code",
   "execution_count": 10,
   "metadata": {
    "collapsed": false,
    "scrolled": true
   },
   "outputs": [
    {
     "name": "stdout",
     "output_type": "stream",
     "text": [
      "c0, c1, c2 = Tensor(\"Const:0\", shape=(), dtype=float32) Tensor(\"Const_1:0\", shape=(), dtype=float32) Tensor(\"Const:0\", shape=(), dtype=float32)\n",
      "Graph equality: True False\n",
      "c0.eval == 3.0\n",
      "==== (c0 + c1) ====\n",
      "7.0\n",
      "True\n",
      "=== finalize Graphs ===\n",
      "False False\n",
      "True True\n"
     ]
    }
   ],
   "source": [
    "g0 = tf.Graph()\n",
    "g1 = tf.Graph()\n",
    "with g0.as_default():\n",
    "    c0 = tf.constant(3.0)\n",
    "    c1 = tf.constant(4.0)\n",
    "    sess0 = tf.Session()\n",
    "with g1.as_default():\n",
    "    c2 = tf.constant(4.0)\n",
    "    sess1 = tf.Session()\n",
    "\n",
    "print 'c0, c1, c2 =', c0, c1, c2\n",
    "print 'Graph equality:', c0.graph == c1.graph, c0.graph == c2.graph\n",
    "\n",
    "print 'c0.eval ==', c0.eval(session=sess0)\n",
    "\n",
    "# Error!\n",
    "# ValueError: Cannot use the given session to evaluate tensor: the tensor's graph is different from the session's graph.\n",
    "# print 'c0.eval ==', c0.eval(session=sess1)\n",
    "\n",
    "# 'c0 + c1' works even if g0 is not 'default'.\n",
    "print '==== (c0 + c1) ===='\n",
    "print (c0 + c1).eval(session=sess0)\n",
    "print (c0 + c1).graph == c0.graph\n",
    "\n",
    "# Error!\n",
    "# ValueError: Tensor(\"Const:0\", shape=(), dtype=float32) must be from the same graph as Tensor(\"Const:0\", shape=(), dtype=float32).\n",
    "# c2 = c0 + c1\n",
    "\n",
    "sess0.close()\n",
    "sess1.close()\n",
    "print '=== finalize Graphs ==='\n",
    "# Graphs are not finalized.\n",
    "print g0.finalized, g1.finalized\n",
    "g0.finalize()\n",
    "g1.finalize()\n",
    "print g0.finalized, g1.finalized\n",
    "\n",
    "with g0.as_default():\n",
    "    # RuntimeError: Graph is finalized and cannot be modified.\n",
    "    # tf.constant(5.0)\n",
    "    pass"
   ]
  },
  {
   "cell_type": "code",
   "execution_count": 11,
   "metadata": {
    "collapsed": false
   },
   "outputs": [
    {
     "name": "stdout",
     "output_type": "stream",
     "text": [
      "Tensor(\"my_scope/my_const:0\", shape=(), dtype=float32)\n"
     ]
    }
   ],
   "source": [
    "# https://www.tensorflow.org/versions/r0.9/api_docs/python/framework.html#name_scope\n",
    "# https://www.tensorflow.org/versions/r0.9/api_docs/python/framework.html#Graph.name_scope\n",
    "with tf.name_scope('my_scope'):\n",
    "    c = tf.constant(1.0, name='my_const')\n",
    "\n",
    "print c"
   ]
  },
  {
   "cell_type": "markdown",
   "metadata": {},
   "source": [
    "# What are Tensor, Variable and Operation?\n",
    "- [tf.Tensor](https://www.tensorflow.org/versions/r0.9/api_docs/python/framework.html#Tensor)\n",
    "- [tf.Variable](https://www.tensorflow.org/versions/r0.9/api_docs/python/framework.html#Variable)\n",
    "- [tf.Operation](https://www.tensorflow.org/versions/r0.9/api_docs/python/framework.html#Operation)\n"
   ]
  },
  {
   "cell_type": "code",
   "execution_count": 12,
   "metadata": {
    "collapsed": false
   },
   "outputs": [
    {
     "data": {
      "text/html": [
       "<div>\n",
       "<table border=\"1\" class=\"dataframe\">\n",
       "  <thead>\n",
       "    <tr style=\"text-align: right;\">\n",
       "      <th></th>\n",
       "      <th>Tensor</th>\n",
       "      <th>Variable</th>\n",
       "      <th>Operation</th>\n",
       "    </tr>\n",
       "  </thead>\n",
       "  <tbody>\n",
       "    <tr>\n",
       "      <th>x</th>\n",
       "      <td>✓</td>\n",
       "      <td></td>\n",
       "      <td></td>\n",
       "    </tr>\n",
       "    <tr>\n",
       "      <th>z</th>\n",
       "      <td>✓</td>\n",
       "      <td></td>\n",
       "      <td></td>\n",
       "    </tr>\n",
       "    <tr>\n",
       "      <th>init</th>\n",
       "      <td></td>\n",
       "      <td></td>\n",
       "      <td>✓</td>\n",
       "    </tr>\n",
       "    <tr>\n",
       "      <th>p</th>\n",
       "      <td>✓</td>\n",
       "      <td></td>\n",
       "      <td></td>\n",
       "    </tr>\n",
       "    <tr>\n",
       "      <th>v</th>\n",
       "      <td></td>\n",
       "      <td>✓</td>\n",
       "      <td></td>\n",
       "    </tr>\n",
       "    <tr>\n",
       "      <th>w</th>\n",
       "      <td>✓</td>\n",
       "      <td></td>\n",
       "      <td></td>\n",
       "    </tr>\n",
       "    <tr>\n",
       "      <th>assign</th>\n",
       "      <td>✓</td>\n",
       "      <td></td>\n",
       "      <td></td>\n",
       "    </tr>\n",
       "    <tr>\n",
       "      <th>step</th>\n",
       "      <td></td>\n",
       "      <td></td>\n",
       "      <td>✓</td>\n",
       "    </tr>\n",
       "    <tr>\n",
       "      <th>mat</th>\n",
       "      <td>✓</td>\n",
       "      <td></td>\n",
       "      <td></td>\n",
       "    </tr>\n",
       "    <tr>\n",
       "      <th>mul</th>\n",
       "      <td>✓</td>\n",
       "      <td></td>\n",
       "      <td></td>\n",
       "    </tr>\n",
       "  </tbody>\n",
       "</table>\n",
       "</div>"
      ],
      "text/plain": [
       "       Tensor Variable Operation\n",
       "x           ✓                   \n",
       "z           ✓                   \n",
       "init                           ✓\n",
       "p           ✓                   \n",
       "v                    ✓          \n",
       "w           ✓                   \n",
       "assign      ✓                   \n",
       "step                           ✓\n",
       "mat         ✓                   \n",
       "mul         ✓                   "
      ]
     },
     "execution_count": 12,
     "metadata": {},
     "output_type": "execute_result"
    }
   ],
   "source": [
    "tensor = pd.Series()\n",
    "operation = pd.Series()\n",
    "variable = pd.Series()\n",
    "\n",
    "def check_type(label, v):\n",
    "    tensor[label] = isinstance(v, tf.Tensor)\n",
    "    operation[label] = isinstance(v, tf.Operation)\n",
    "    variable[label] = isinstance(v, tf.Variable)\n",
    "\n",
    "x = tf.constant(3.0)\n",
    "y = tf.constant(4.0)\n",
    "z = x + y\n",
    "v = tf.Variable(1.0)\n",
    "w = v + x\n",
    "# This is Tensor\n",
    "assign = v.assign(w)\n",
    "\n",
    "# This is Operation.\n",
    "step = tf.train.GradientDescentOptimizer(0.1).minimize(w)\n",
    "\n",
    "# This is Operation too.\n",
    "init = tf.initialize_all_variables()\n",
    "\n",
    "p = tf.placeholder(tf.float64)\n",
    "\n",
    "mat = tf.constant([[1, 2], [3, 4]])\n",
    "mul = tf.matmul(mat, mat)\n",
    "\n",
    "check_type('x', x)\n",
    "check_type('z', z)\n",
    "check_type('init', init)\n",
    "check_type('p', p)\n",
    "check_type('v', v)\n",
    "check_type('w', w)\n",
    "check_type('assign', assign)\n",
    "check_type('step', step)\n",
    "\n",
    "check_type('mat', mat)\n",
    "# It seems like the comment in\n",
    "# https://www.tensorflow.org/versions/r0.9/api_docs/python/framework.html#Operation\n",
    "# is wrong.\n",
    "# \"Objects of type Operation are created by calling a Python op constructor (such as tf.matmul())\"\n",
    "check_type('mul', mul)\n",
    "\n",
    "df = pd.DataFrame(collections.OrderedDict([('Tensor', tensor), ('Variable', variable), ('Operation', operation)]))\n",
    "df.applymap(lambda b:u'\\u2713' if b else u'')"
   ]
  },
  {
   "cell_type": "markdown",
   "metadata": {},
   "source": [
    "# Random and Session"
   ]
  },
  {
   "cell_type": "code",
   "execution_count": 13,
   "metadata": {
    "collapsed": false,
    "scrolled": true
   },
   "outputs": [
    {
     "data": {
      "text/plain": [
       "array([[ 1.0328182 ,  0.34343874],\n",
       "       [-0.47436199, -2.49098158]], dtype=float32)"
      ]
     },
     "metadata": {},
     "output_type": "display_data"
    },
    {
     "data": {
      "text/plain": [
       "array([[ 0.42207646,  1.74090791],\n",
       "       [ 1.78141737,  1.68370342]], dtype=float32)"
      ]
     },
     "metadata": {},
     "output_type": "display_data"
    },
    {
     "data": {
      "text/plain": [
       "[array([[-1.14442492, -0.75665456],\n",
       "        [-0.54312569,  2.40435791]], dtype=float32),\n",
       " array([[-0.14442492,  0.24334544],\n",
       "        [ 0.45687431,  3.40435791]], dtype=float32)]"
      ]
     },
     "metadata": {},
     "output_type": "display_data"
    },
    {
     "name": "stdout",
     "output_type": "stream",
     "text": [
      "----- Random variable -------\n"
     ]
    },
    {
     "data": {
      "text/plain": [
       "array([[ 0.67183959, -1.25063252],\n",
       "       [-0.66712266,  0.7336309 ]], dtype=float32)"
      ]
     },
     "metadata": {},
     "output_type": "display_data"
    },
    {
     "data": {
      "text/plain": [
       "array([[ 0.67183959, -1.25063252],\n",
       "       [-0.66712266,  0.7336309 ]], dtype=float32)"
      ]
     },
     "metadata": {},
     "output_type": "display_data"
    }
   ],
   "source": [
    "mat0 = tf.random_normal([2,2])\n",
    "mat1 = mat0 + 1\n",
    "with tf.Session() as sess:\n",
    "    # mat1.eval() != mat0.eval() + 1\n",
    "    display(mat0.eval())\n",
    "    display(mat1.eval())\n",
    "    # mat1.eval() == mat0.eval() + 1\n",
    "    display(sess.run((mat0, mat1)))\n",
    "\n",
    "print '----- Random variable -------'\n",
    "mat2 = tf.Variable(tf.random_normal([2, 2]))\n",
    "with tf.Session():\n",
    "    # Do not forget to initialize variables.\n",
    "    tf.initialize_all_variables().run()\n",
    "    # mat2.eval() == mat2.eval().\n",
    "    display(mat2.eval())\n",
    "    display(mat2.eval())"
   ]
  },
  {
   "cell_type": "markdown",
   "metadata": {},
   "source": [
    "# Saver\n",
    "Saver saves and restores variables.\n",
    "- [Saver](https://www.tensorflow.org/versions/r0.9/api_docs/python/state_ops.html#Saver)"
   ]
  },
  {
   "cell_type": "code",
   "execution_count": 14,
   "metadata": {
    "collapsed": false
   },
   "outputs": [
    {
     "name": "stdout",
     "output_type": "stream",
     "text": [
      "saved(step=0): tf_saver_dir/saved-0\n",
      "saved(step=1): tf_saver_dir/saved-1\n",
      "saved(step=2): tf_saver_dir/saved-2\n",
      "saved(step=3): tf_saver_dir/saved-3\n",
      "saved(step=4): tf_saver_dir/saved-4\n",
      "saved(step=5): tf_saver_dir/saved-5\n",
      "saved(step=6): tf_saver_dir/saved-6\n",
      "saved(step=7): tf_saver_dir/saved-7\n",
      "saved(step=8): tf_saver_dir/saved-8\n",
      "saved(step=9): tf_saver_dir/saved-9\n",
      "=== v after reset ===\n",
      "0.0\n",
      "=== Show not-yet-deleted checkpoints ===\n",
      "['tf_saver_dir/saved-5', 'tf_saver_dir/saved-6', 'tf_saver_dir/saved-7', 'tf_saver_dir/saved-8', 'tf_saver_dir/saved-9']\n",
      "=== v after restore ===\n",
      "8.0\n"
     ]
    }
   ],
   "source": [
    "try:\n",
    "    os.mkdir('tf_saver_dir')\n",
    "except OSError:\n",
    "    pass\n",
    "\n",
    "v = tf.Variable(0.0)\n",
    "assign = v.assign_add(1.0)\n",
    "\n",
    "saver = tf.train.Saver()\n",
    "with tf.Session() as sess:\n",
    "    tf.initialize_all_variables().run()\n",
    "    for step in xrange(10):\n",
    "        assign.eval()\n",
    "        print 'saved(step=%d):' % step, saver.save(sess, 'tf_saver_dir/saved', global_step=step)\n",
    "    \n",
    "    tf.initialize_all_variables().run()\n",
    "    print '=== v after reset ==='\n",
    "    print v.eval()\n",
    "\n",
    "    print '=== Show not-yet-deleted checkpoints ==='\n",
    "    # Old checkpoints are deleted automatically.\n",
    "    # The default value of max_to_keep is 5.\n",
    "    print saver.last_checkpoints\n",
    "\n",
    "    print '=== v after restore ==='\n",
    "    # Pass 'step' as a part of prefix string.\n",
    "    saver.restore(sess, 'tf_saver_dir/saved-7')\n",
    "    print v.eval()"
   ]
  },
  {
   "cell_type": "markdown",
   "metadata": {},
   "source": [
    "# GraphDef\n",
    "How to serialize/deserialize Tensorflow Graph and variables. Suprisingly, this is not well documented in Tensorflow manual as of July 2016.\n",
    "\n",
    "## Notes\n",
    "- graph.as_graph_def returns GraphDef [protocol buffer](https://developers.google.com/protocol-buffers/docs/pythontutorial)\n",
    "  - GraphDef is defined in `tensorflow.core.framework.graph_pb2`\n",
    "  - *GraphDef* does not include the contents of variables. You need to store the contents of variables by Saver separately.\n",
    "- TODO:\n",
    "  - Understand why we need to use `x:0` rather than `x` ([Stackoverflow](http://stackoverflow.com/a/37147387)).\n",
    "  - `restore_op` part is tricky. I copied this code from freeze_graph.py. Find the document to help understand this part.\n",
    "\n",
    "## References\n",
    "- [A Tool Developer's Guide to TensorFlow Model Files](https://www.tensorflow.org/versions/r0.9/how_tos/tool_developers/index.html)\n",
    "- [tf.import_graph_def](https://www.tensorflow.org/versions/r0.9/api_docs/python/framework.html#import_graph_def)\n",
    "- [Code in freeze_graph.py](https://github.com/tensorflow/tensorflow/blob/master/tensorflow/python/tools/freeze_graph.py)"
   ]
  },
  {
   "cell_type": "code",
   "execution_count": 15,
   "metadata": {
    "collapsed": false,
    "scrolled": false
   },
   "outputs": [
    {
     "name": "stdout",
     "output_type": "stream",
     "text": [
      "x.graph == new_graph: True\n",
      "z == 7.0\n"
     ]
    }
   ],
   "source": [
    "from tensorflow.core.framework.graph_pb2 import GraphDef\n",
    "\n",
    "graph = tf.Graph()\n",
    "with graph.as_default():\n",
    "    x = tf.Variable(3.0, dtype=tf.float32, name='x')\n",
    "    y = tf.placeholder(tf.float32, name='y')\n",
    "    z = tf.add(x, y, name='z')\n",
    "    \n",
    "    init = tf.initialize_all_variables()\n",
    "    saver = tf.train.Saver(name='mysaver')\n",
    "\n",
    "with tf.Session(graph=graph) as sess:\n",
    "    init.run()\n",
    "    saver.save(sess, 'tf_saver_dir/graph-vars')\n",
    "\n",
    "# Convert to GraphDef protobuf.\n",
    "graph_proto = graph.as_graph_def()\n",
    "binary = graph_proto.SerializeToString()\n",
    "\n",
    "#### Deserialize ####\n",
    "\n",
    "deserialized = GraphDef()\n",
    "deserialized.MergeFromString(binary)\n",
    "\n",
    "new_graph = tf.Graph()\n",
    "# Import serialized graph to new_graph.\n",
    "with new_graph.as_default():\n",
    "    x, y, z, restore_op, filename = tf.import_graph_def(\n",
    "        deserialized, return_elements=[\n",
    "            'x:0', 'y:0', 'z:0', 'mysaver/restore_all', 'mysaver/Const:0'])\n",
    "\n",
    "print 'x.graph == new_graph:', x.graph == new_graph\n",
    "\n",
    "with tf.Session(graph=new_graph) as sess:\n",
    "    # Error! \"Attempting to use uninitialized value\".\n",
    "    # print x.eval()\n",
    "    sess.run([restore_op], {filename: 'tf_saver_dir/graph-vars'})\n",
    "    print 'z ==', sess.run(z, {y: 4.0})"
   ]
  },
  {
   "cell_type": "markdown",
   "metadata": {},
   "source": [
    "# TensorBoard\n",
    "Run the following code block then open tensorboard with\n",
    "\n",
    "    tensorboard --logdir /your/dir/tensorflow_summary --reload_interval 5\n",
    "\n",
    "## Tips\n",
    "- [TensorBoard Tutorial](https://www.tensorflow.org/versions/r0.9/how_tos/summaries_and_tensorboard/index.html)\n",
    "- [tf.SummaryWriter](https://www.tensorflow.org/versions/r0.9/api_docs/python/train.html#SummaryWriter)\n",
    "  - Pass flush_secs arg to the constructor to control flush intervals.\n",
    "  - You need to change the output directory every run. Otherwise, summaries from multiple runs are mixed and sometimes are overwritten and gone.\n",
    "  - You should call `close` to flush data immediately.\n",
    "    - It helped me notice the problem above.\n",
    "- [datetime.strftime](# https://docs.python.org/2/library/datetime.html#strftime-strptime-behavior\n",
    ")"
   ]
  },
  {
   "cell_type": "code",
   "execution_count": 16,
   "metadata": {
    "collapsed": false
   },
   "outputs": [
    {
     "name": "stdout",
     "output_type": "stream",
     "text": [
      "Weight: [[ 3.009408  ]\n",
      " [ 4.01078558]\n",
      " [ 2.01212025]]\n",
      "Bias: -4.94595\n"
     ]
    }
   ],
   "source": [
    "BATCH_SIZE = 100\n",
    "\n",
    "dataset = collections.namedtuple('dataset', ('inputs', 'outputs'))\n",
    "\n",
    "def create_dataset(size):\n",
    "    inputs = np.random.uniform(0.0, 10.0, [size, 3])\n",
    "    outputs = np.matmul(inputs, np.array([3, 4, 2])) - 5\n",
    "    outputs += np.random.normal(scale=0.5, size=[size])\n",
    "    return dataset(inputs, outputs)\n",
    "\n",
    "data = collections.namedtuple('data', ('train', 'test'))(\n",
    "    create_dataset(1000 * BATCH_SIZE),\n",
    "    create_dataset(100 * BATCH_SIZE)\n",
    ")\n",
    "\n",
    "def train_batch_generator():\n",
    "    index = 0\n",
    "    while True:\n",
    "        yield (data.train.inputs[index:index + BATCH_SIZE],\n",
    "               data.train.outputs[index:index + BATCH_SIZE])\n",
    "        index += BATCH_SIZE\n",
    "        if index >= data.train.inputs.shape[0]:\n",
    "            index = 0\n",
    "train_batch = train_batch_generator()\n",
    "\n",
    "def now_str():\n",
    "    return datetime.datetime.now().strftime('%Y%m%d_%H%M%S_%f')\n",
    "\n",
    "graph = tf.Graph()\n",
    "sess = tf.Session(graph=graph)\n",
    "with graph.as_default():\n",
    "    inputs = tf.placeholder(tf.float32, [None, 3])\n",
    "    outputs = tf.placeholder(tf.float32, [None])\n",
    "\n",
    "    weights = tf.Variable(tf.truncated_normal([3, 1], stddev=1))\n",
    "    bias = tf.Variable(0.0)\n",
    "    pred = tf.matmul(inputs, weights) + bias\n",
    "    loss = tf.reduce_mean(tf.square(pred - outputs))\n",
    "    # Do not forget to reshape!\n",
    "    # Again, do not forget to reshape!\n",
    "    diff = pred - tf.reshape(outputs, shape=[-1, 1])\n",
    "    loss = tf.reduce_mean(tf.square(diff))\n",
    "    \n",
    "    optimizer = tf.train.GradientDescentOptimizer(0.01).minimize(loss)\n",
    "    \n",
    "    # Summary\n",
    "    tf.scalar_summary('loss', loss)\n",
    "    for i in xrange(3):\n",
    "        tf.scalar_summary('coef/%d' % i, weights[i, 0])\n",
    "    tf.scalar_summary('bias', bias)\n",
    "    merged = tf.merge_all_summaries()\n",
    "    \n",
    "    # You do not need to pass `graph` if you do not need to show \"Graph\" in TensorBoard.\n",
    "    writer = tf.train.SummaryWriter(\n",
    "        'tensorflow_summary/test/%s' % now_str(),\n",
    "        flush_secs=10,\n",
    "        graph=graph)\n",
    "    \n",
    "    init_variables = tf.initialize_all_variables()\n",
    "\n",
    "\n",
    "with sess.as_default():\n",
    "    init_variables.run()\n",
    "    \n",
    "    for step in xrange(2500):\n",
    "        batch_inputs, batch_outputs = train_batch.next()\n",
    "        optimizer.run({inputs: batch_inputs, outputs: batch_outputs})\n",
    "        if step % 10 == 0 and step > 0:\n",
    "            summary = merged.eval({inputs: data.test.inputs, outputs: data.test.outputs})\n",
    "            writer.add_summary(summary, global_step=step)\n",
    "    print 'Weight:', weights.eval()\n",
    "    print 'Bias:', bias.eval()\n",
    "\n",
    "# close to flush data immediately.\n",
    "writer.close()"
   ]
  }
 ],
 "metadata": {
  "kernelspec": {
   "display_name": "Python 2",
   "language": "python",
   "name": "python2"
  },
  "language_info": {
   "codemirror_mode": {
    "name": "ipython",
    "version": 2
   },
   "file_extension": ".py",
   "mimetype": "text/x-python",
   "name": "python",
   "nbconvert_exporter": "python",
   "pygments_lexer": "ipython2",
   "version": "2.7.11"
  }
 },
 "nbformat": 4,
 "nbformat_minor": 0
}
