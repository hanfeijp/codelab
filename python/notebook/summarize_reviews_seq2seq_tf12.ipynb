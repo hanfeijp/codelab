{
 "cells": [
  {
   "cell_type": "markdown",
   "metadata": {},
   "source": [
    "# Summarizing Text with Amazon Reviews"
   ]
  },
  {
   "cell_type": "markdown",
   "metadata": {},
   "source": [
    "The objective of this project is to build a model that can create relevant summaries for reviews written about fine foods sold on Amazon. This dataset contains above 500,000 reviews, and is hosted on [Kaggle.](https://www.kaggle.com/snap/amazon-fine-food-reviews)\n",
    "\n",
    "To build our model we will use a two-layered bidirectional RNN with LSTMs on the input data and two layers, each with an LSTM using bahdanau attention on the target data. [Jaemin Cho's tutorial](https://github.com/j-min/tf_tutorial_plus/tree/master/RNN_seq2seq/contrib_seq2seq) for seq2seq was really helpful to get the code in working order because this is my first project with TensorFlow 1.1; some of the functions are very different from 1.0. The architecture for this model is similar to Xin Pan's and Peter Liu's, here's their [GitHub page.](https://github.com/tensorflow/models/tree/master/textsum)\n",
    "\n",
    "The sections of this project are:\n",
    "- Inspecting the Data\n",
    "- Preparing the Data\n",
    "- Building the Model\n",
    "- Training the Model\n",
    "- Making Our Own Summaries"
   ]
  },
  {
   "cell_type": "code",
   "execution_count": 3,
   "metadata": {},
   "outputs": [
    {
     "name": "stdout",
     "output_type": "stream",
     "text": [
      "TensorFlow Version: 1.2.0\n"
     ]
    }
   ],
   "source": [
    "import pandas as pd\n",
    "import numpy as np\n",
    "import tensorflow as tf\n",
    "import re\n",
    "from nltk.corpus import stopwords\n",
    "import time\n",
    "from tensorflow.python.layers.core import Dense\n",
    "from tensorflow.python.ops.rnn_cell_impl import _zero_state_tensors\n",
    "print('TensorFlow Version: {}'.format(tf.__version__))"
   ]
  },
  {
   "cell_type": "code",
   "execution_count": 6,
   "metadata": {
    "collapsed": true
   },
   "outputs": [],
   "source": [
    "# import nltk\n",
    "# nltk.download('stopwords')"
   ]
  },
  {
   "cell_type": "markdown",
   "metadata": {},
   "source": [
    "## Insepcting the Data"
   ]
  },
  {
   "cell_type": "code",
   "execution_count": 7,
   "metadata": {
    "collapsed": true
   },
   "outputs": [],
   "source": [
    "reviews = pd.read_csv(\"Reviews.csv\")"
   ]
  },
  {
   "cell_type": "code",
   "execution_count": 8,
   "metadata": {},
   "outputs": [
    {
     "data": {
      "text/plain": [
       "(568454, 10)"
      ]
     },
     "execution_count": 8,
     "metadata": {},
     "output_type": "execute_result"
    }
   ],
   "source": [
    "reviews.shape"
   ]
  },
  {
   "cell_type": "code",
   "execution_count": 9,
   "metadata": {},
   "outputs": [
    {
     "data": {
      "text/plain": [
       "(50000, 10)"
      ]
     },
     "execution_count": 9,
     "metadata": {},
     "output_type": "execute_result"
    }
   ],
   "source": [
    "reviews = reviews.head(50000)\n",
    "reviews.shape"
   ]
  },
  {
   "cell_type": "code",
   "execution_count": 10,
   "metadata": {},
   "outputs": [
    {
     "data": {
      "text/plain": [
       "Id                        0\n",
       "ProductId                 0\n",
       "UserId                    0\n",
       "ProfileName               3\n",
       "HelpfulnessNumerator      0\n",
       "HelpfulnessDenominator    0\n",
       "Score                     0\n",
       "Time                      0\n",
       "Summary                   2\n",
       "Text                      0\n",
       "dtype: int64"
      ]
     },
     "execution_count": 10,
     "metadata": {},
     "output_type": "execute_result"
    }
   ],
   "source": [
    "# Check for any nulls values\n",
    "reviews.isnull().sum()"
   ]
  },
  {
   "cell_type": "code",
   "execution_count": 11,
   "metadata": {
    "collapsed": true
   },
   "outputs": [],
   "source": [
    "# Remove null values and unneeded features\n",
    "reviews = reviews.dropna()\n",
    "reviews = reviews.drop(['Id','ProductId','UserId','ProfileName','HelpfulnessNumerator','HelpfulnessDenominator',\n",
    "                        'Score','Time'], 1)\n",
    "reviews = reviews.reset_index(drop=True)"
   ]
  },
  {
   "cell_type": "code",
   "execution_count": 12,
   "metadata": {},
   "outputs": [
    {
     "data": {
      "text/html": [
       "<div>\n",
       "<style>\n",
       "    .dataframe thead tr:only-child th {\n",
       "        text-align: right;\n",
       "    }\n",
       "\n",
       "    .dataframe thead th {\n",
       "        text-align: left;\n",
       "    }\n",
       "\n",
       "    .dataframe tbody tr th {\n",
       "        vertical-align: top;\n",
       "    }\n",
       "</style>\n",
       "<table border=\"1\" class=\"dataframe\">\n",
       "  <thead>\n",
       "    <tr style=\"text-align: right;\">\n",
       "      <th></th>\n",
       "      <th>Summary</th>\n",
       "      <th>Text</th>\n",
       "    </tr>\n",
       "  </thead>\n",
       "  <tbody>\n",
       "    <tr>\n",
       "      <th>0</th>\n",
       "      <td>Good Quality Dog Food</td>\n",
       "      <td>I have bought several of the Vitality canned d...</td>\n",
       "    </tr>\n",
       "    <tr>\n",
       "      <th>1</th>\n",
       "      <td>Not as Advertised</td>\n",
       "      <td>Product arrived labeled as Jumbo Salted Peanut...</td>\n",
       "    </tr>\n",
       "    <tr>\n",
       "      <th>2</th>\n",
       "      <td>\"Delight\" says it all</td>\n",
       "      <td>This is a confection that has been around a fe...</td>\n",
       "    </tr>\n",
       "    <tr>\n",
       "      <th>3</th>\n",
       "      <td>Cough Medicine</td>\n",
       "      <td>If you are looking for the secret ingredient i...</td>\n",
       "    </tr>\n",
       "    <tr>\n",
       "      <th>4</th>\n",
       "      <td>Great taffy</td>\n",
       "      <td>Great taffy at a great price.  There was a wid...</td>\n",
       "    </tr>\n",
       "  </tbody>\n",
       "</table>\n",
       "</div>"
      ],
      "text/plain": [
       "                 Summary                                               Text\n",
       "0  Good Quality Dog Food  I have bought several of the Vitality canned d...\n",
       "1      Not as Advertised  Product arrived labeled as Jumbo Salted Peanut...\n",
       "2  \"Delight\" says it all  This is a confection that has been around a fe...\n",
       "3         Cough Medicine  If you are looking for the secret ingredient i...\n",
       "4            Great taffy  Great taffy at a great price.  There was a wid..."
      ]
     },
     "execution_count": 12,
     "metadata": {},
     "output_type": "execute_result"
    }
   ],
   "source": [
    "reviews.head()"
   ]
  },
  {
   "cell_type": "code",
   "execution_count": 13,
   "metadata": {},
   "outputs": [
    {
     "name": "stdout",
     "output_type": "stream",
     "text": [
      "('Review #', 1)\n",
      "Good Quality Dog Food\n",
      "I have bought several of the Vitality canned dog food products and have found them all to be of good quality. The product looks more like a stew than a processed meat and it smells better. My Labrador is finicky and she appreciates this product better than  most.\n",
      "()\n",
      "('Review #', 2)\n",
      "Not as Advertised\n",
      "Product arrived labeled as Jumbo Salted Peanuts...the peanuts were actually small sized unsalted. Not sure if this was an error or if the vendor intended to represent the product as \"Jumbo\".\n",
      "()\n",
      "('Review #', 3)\n",
      "\"Delight\" says it all\n",
      "This is a confection that has been around a few centuries.  It is a light, pillowy citrus gelatin with nuts - in this case Filberts. And it is cut into tiny squares and then liberally coated with powdered sugar.  And it is a tiny mouthful of heaven.  Not too chewy, and very flavorful.  I highly recommend this yummy treat.  If you are familiar with the story of C.S. Lewis' \"The Lion, The Witch, and The Wardrobe\" - this is the treat that seduces Edmund into selling out his Brother and Sisters to the Witch.\n",
      "()\n",
      "('Review #', 4)\n",
      "Cough Medicine\n",
      "If you are looking for the secret ingredient in Robitussin I believe I have found it.  I got this in addition to the Root Beer Extract I ordered (which was good) and made some cherry soda.  The flavor is very medicinal.\n",
      "()\n",
      "('Review #', 5)\n",
      "Great taffy\n",
      "Great taffy at a great price.  There was a wide assortment of yummy taffy.  Delivery was very quick.  If your a taffy lover, this is a deal.\n",
      "()\n"
     ]
    }
   ],
   "source": [
    "# Inspecting some of the reviews\n",
    "for i in range(5):\n",
    "    print(\"Review #\",i+1)\n",
    "    print(reviews.Summary[i])\n",
    "    print(reviews.Text[i])\n",
    "    print()"
   ]
  },
  {
   "cell_type": "markdown",
   "metadata": {},
   "source": [
    "## Preparing the Data"
   ]
  },
  {
   "cell_type": "code",
   "execution_count": 22,
   "metadata": {
    "collapsed": true
   },
   "outputs": [],
   "source": [
    "# A list of contractions from http://stackoverflow.com/questions/19790188/expanding-english-language-contractions-in-python\n",
    "contractions = { \n",
    "\"ain't\": \"am not\",\n",
    "\"aren't\": \"are not\",\n",
    "\"can't\": \"cannot\",\n",
    "\"can't've\": \"cannot have\",\n",
    "\"'cause\": \"because\",\n",
    "\"could've\": \"could have\",\n",
    "\"couldn't\": \"could not\",\n",
    "\"couldn't've\": \"could not have\",\n",
    "\"didn't\": \"did not\",\n",
    "\"doesn't\": \"does not\",\n",
    "\"don't\": \"do not\",\n",
    "\"hadn't\": \"had not\",\n",
    "\"hadn't've\": \"had not have\",\n",
    "\"hasn't\": \"has not\",\n",
    "\"haven't\": \"have not\",\n",
    "\"he'd\": \"he would\",\n",
    "\"he'd've\": \"he would have\",\n",
    "\"he'll\": \"he will\",\n",
    "\"he's\": \"he is\",\n",
    "\"how'd\": \"how did\",\n",
    "\"how'll\": \"how will\",\n",
    "\"how's\": \"how is\",\n",
    "\"i'd\": \"i would\",\n",
    "\"i'll\": \"i will\",\n",
    "\"i'm\": \"i am\",\n",
    "\"i've\": \"i have\",\n",
    "\"isn't\": \"is not\",\n",
    "\"it'd\": \"it would\",\n",
    "\"it'll\": \"it will\",\n",
    "\"it's\": \"it is\",\n",
    "\"let's\": \"let us\",\n",
    "\"ma'am\": \"madam\",\n",
    "\"mayn't\": \"may not\",\n",
    "\"might've\": \"might have\",\n",
    "\"mightn't\": \"might not\",\n",
    "\"must've\": \"must have\",\n",
    "\"mustn't\": \"must not\",\n",
    "\"needn't\": \"need not\",\n",
    "\"oughtn't\": \"ought not\",\n",
    "\"shan't\": \"shall not\",\n",
    "\"sha'n't\": \"shall not\",\n",
    "\"she'd\": \"she would\",\n",
    "\"she'll\": \"she will\",\n",
    "\"she's\": \"she is\",\n",
    "\"should've\": \"should have\",\n",
    "\"shouldn't\": \"should not\",\n",
    "\"that'd\": \"that would\",\n",
    "\"that's\": \"that is\",\n",
    "\"there'd\": \"there had\",\n",
    "\"there's\": \"there is\",\n",
    "\"they'd\": \"they would\",\n",
    "\"they'll\": \"they will\",\n",
    "\"they're\": \"they are\",\n",
    "\"they've\": \"they have\",\n",
    "\"wasn't\": \"was not\",\n",
    "\"we'd\": \"we would\",\n",
    "\"we'll\": \"we will\",\n",
    "\"we're\": \"we are\",\n",
    "\"we've\": \"we have\",\n",
    "\"weren't\": \"were not\",\n",
    "\"what'll\": \"what will\",\n",
    "\"what're\": \"what are\",\n",
    "\"what's\": \"what is\",\n",
    "\"what've\": \"what have\",\n",
    "\"where'd\": \"where did\",\n",
    "\"where's\": \"where is\",\n",
    "\"who'll\": \"who will\",\n",
    "\"who's\": \"who is\",\n",
    "\"won't\": \"will not\",\n",
    "\"wouldn't\": \"would not\",\n",
    "\"you'd\": \"you would\",\n",
    "\"you'll\": \"you will\",\n",
    "\"you're\": \"you are\"\n",
    "}"
   ]
  },
  {
   "cell_type": "code",
   "execution_count": 23,
   "metadata": {
    "collapsed": true
   },
   "outputs": [],
   "source": [
    "def clean_text(text, remove_stopwords = True):\n",
    "    '''Remove unwanted characters, stopwords, and format the text to create fewer nulls word embeddings'''\n",
    "    \n",
    "    # Convert words to lower case\n",
    "    text = text.lower()\n",
    "    \n",
    "    # Replace contractions with their longer forms \n",
    "    if True:\n",
    "        text = text.split()\n",
    "        new_text = []\n",
    "        for word in text:\n",
    "            if word in contractions:\n",
    "                new_text.append(contractions[word])\n",
    "            else:\n",
    "                new_text.append(word)\n",
    "        text = \" \".join(new_text)\n",
    "    \n",
    "    # Format words and remove unwanted characters\n",
    "    text = re.sub(r'https?:\\/\\/.*[\\r\\n]*', '', text, flags=re.MULTILINE)\n",
    "    text = re.sub(r'\\<a href', ' ', text)\n",
    "    text = re.sub(r'&amp;', '', text) \n",
    "    text = re.sub(r'[_\"\\-;%()|+&=*%.,!?:#$@\\[\\]/]', ' ', text)\n",
    "    text = re.sub(r'<br />', ' ', text)\n",
    "    text = re.sub(r'\\'', ' ', text)\n",
    "    \n",
    "    # Optionally, remove stop words\n",
    "    if remove_stopwords:\n",
    "        text = text.split()\n",
    "        stops = set(stopwords.words(\"english\"))\n",
    "        text = [w for w in text if not w in stops]\n",
    "        text = \" \".join(text)\n",
    "\n",
    "    return text"
   ]
  },
  {
   "cell_type": "markdown",
   "metadata": {},
   "source": [
    "We will remove the stopwords from the texts because they do not provide much use for training our model. However, we will keep them for our summaries so that they sound more like natural phrases. "
   ]
  },
  {
   "cell_type": "code",
   "execution_count": 24,
   "metadata": {},
   "outputs": [
    {
     "name": "stdout",
     "output_type": "stream",
     "text": [
      "Summaries are complete.\n",
      "Texts are complete.\n"
     ]
    }
   ],
   "source": [
    "# Clean the summaries and texts\n",
    "clean_summaries = []\n",
    "for summary in reviews.Summary:\n",
    "    clean_summaries.append(clean_text(summary, remove_stopwords=False))\n",
    "print(\"Summaries are complete.\")\n",
    "\n",
    "clean_texts = []\n",
    "for text in reviews.Text:\n",
    "    clean_texts.append(clean_text(text))\n",
    "print(\"Texts are complete.\")"
   ]
  },
  {
   "cell_type": "code",
   "execution_count": 25,
   "metadata": {},
   "outputs": [
    {
     "name": "stdout",
     "output_type": "stream",
     "text": [
      "('Clean Review #', 1)\n",
      "good quality dog food\n",
      "bought several vitality canned dog food products found good quality product looks like stew processed meat smells better labrador finicky appreciates product better\n",
      "()\n",
      "('Clean Review #', 2)\n",
      "not as advertised\n",
      "product arrived labeled jumbo salted peanuts peanuts actually small sized unsalted sure error vendor intended represent product jumbo\n",
      "()\n",
      "('Clean Review #', 3)\n",
      " delight  says it all\n",
      "confection around centuries light pillowy citrus gelatin nuts case filberts cut tiny squares liberally coated powdered sugar tiny mouthful heaven chewy flavorful highly recommend yummy treat familiar story c lewis lion witch wardrobe treat seduces edmund selling brother sisters witch\n",
      "()\n",
      "('Clean Review #', 4)\n",
      "cough medicine\n",
      "looking secret ingredient robitussin believe found got addition root beer extract ordered good made cherry soda flavor medicinal\n",
      "()\n",
      "('Clean Review #', 5)\n",
      "great taffy\n",
      "great taffy great price wide assortment yummy taffy delivery quick taffy lover deal\n",
      "()\n"
     ]
    }
   ],
   "source": [
    "# Inspect the cleaned summaries and texts to ensure they have been cleaned well\n",
    "for i in range(5):\n",
    "    print(\"Clean Review #\",i+1)\n",
    "    print(clean_summaries[i])\n",
    "    print(clean_texts[i])\n",
    "    print()"
   ]
  },
  {
   "cell_type": "code",
   "execution_count": 26,
   "metadata": {
    "collapsed": true
   },
   "outputs": [],
   "source": [
    "def count_words(count_dict, text):\n",
    "    '''Count the number of occurrences of each word in a set of text'''\n",
    "    for sentence in text:\n",
    "        for word in sentence.split():\n",
    "            if word not in count_dict:\n",
    "                count_dict[word] = 1\n",
    "            else:\n",
    "                count_dict[word] += 1"
   ]
  },
  {
   "cell_type": "code",
   "execution_count": 27,
   "metadata": {},
   "outputs": [
    {
     "name": "stdout",
     "output_type": "stream",
     "text": [
      "('Size of Vocabulary:', 44065)\n"
     ]
    }
   ],
   "source": [
    "# Find the number of times each word was used and the size of the vocabulary\n",
    "word_counts = {}\n",
    "\n",
    "count_words(word_counts, clean_summaries)\n",
    "count_words(word_counts, clean_texts)\n",
    "            \n",
    "print(\"Size of Vocabulary:\", len(word_counts))"
   ]
  },
  {
   "cell_type": "code",
   "execution_count": 28,
   "metadata": {},
   "outputs": [
    {
     "name": "stdout",
     "output_type": "stream",
     "text": [
      "('Word embeddings:', 484557)\n"
     ]
    }
   ],
   "source": [
    "# Load Conceptnet Numberbatch's (CN) embeddings, similar to GloVe, but probably better \n",
    "# (https://github.com/commonsense/conceptnet-numberbatch)\n",
    "embeddings_index = {}\n",
    "with open('numberbatch-en-17.02.txt') as f:\n",
    "    for line in f:\n",
    "        values = line.split(' ')\n",
    "        word = values[0]\n",
    "        embedding = np.asarray(values[1:], dtype='float32')\n",
    "        embeddings_index[word] = embedding\n",
    "\n",
    "print('Word embeddings:', len(embeddings_index))"
   ]
  },
  {
   "cell_type": "code",
   "execution_count": 29,
   "metadata": {},
   "outputs": [
    {
     "name": "stdout",
     "output_type": "stream",
     "text": [
      "('Number of words missing from CN:', 357)\n",
      "Percent of words that are missing from vocabulary: 0.0%\n"
     ]
    }
   ],
   "source": [
    "# Find the number of words that are missing from CN, and are used more than our threshold.\n",
    "missing_words = 0\n",
    "threshold = 20\n",
    "\n",
    "for word, count in word_counts.items():\n",
    "    if count > threshold:\n",
    "        if word not in embeddings_index:\n",
    "            missing_words += 1\n",
    "            \n",
    "missing_ratio = round(missing_words/len(word_counts),4)*100\n",
    "            \n",
    "print(\"Number of words missing from CN:\", missing_words)\n",
    "print(\"Percent of words that are missing from vocabulary: {}%\".format(missing_ratio))"
   ]
  },
  {
   "cell_type": "markdown",
   "metadata": {},
   "source": [
    "I use a threshold of 20, so that words not in CN can be added to our word_embedding_matrix, but they need to be common enough in the reviews so that the model can understand their meaning."
   ]
  },
  {
   "cell_type": "code",
   "execution_count": 30,
   "metadata": {},
   "outputs": [
    {
     "name": "stdout",
     "output_type": "stream",
     "text": [
      "('Total number of unique words:', 44065)\n",
      "('Number of words we will use:', 30685)\n",
      "Percent of words we will use: 0.0%\n"
     ]
    }
   ],
   "source": [
    "# Limit the vocab that we will use to words that appear ≥ threshold or are in GloVe\n",
    "\n",
    "#dictionary to convert words to integers\n",
    "vocab_to_int = {} \n",
    "\n",
    "value = 0\n",
    "for word, count in word_counts.items():\n",
    "    if count >= threshold or word in embeddings_index:\n",
    "        vocab_to_int[word] = value\n",
    "        value += 1\n",
    "\n",
    "# Special tokens that will be added to our vocab\n",
    "codes = [\"<UNK>\",\"<PAD>\",\"<EOS>\",\"<GO>\"]   \n",
    "\n",
    "# Add codes to vocab\n",
    "for code in codes:\n",
    "    vocab_to_int[code] = len(vocab_to_int)\n",
    "\n",
    "# Dictionary to convert integers to words\n",
    "int_to_vocab = {}\n",
    "for word, value in vocab_to_int.items():\n",
    "    int_to_vocab[value] = word\n",
    "\n",
    "usage_ratio = round(len(vocab_to_int) / len(word_counts),4)*100\n",
    "\n",
    "print(\"Total number of unique words:\", len(word_counts))\n",
    "print(\"Number of words we will use:\", len(vocab_to_int))\n",
    "print(\"Percent of words we will use: {}%\".format(usage_ratio))"
   ]
  },
  {
   "cell_type": "code",
   "execution_count": 31,
   "metadata": {},
   "outputs": [
    {
     "name": "stdout",
     "output_type": "stream",
     "text": [
      "30685\n"
     ]
    }
   ],
   "source": [
    "# Need to use 300 for embedding dimensions to match CN's vectors.\n",
    "embedding_dim = 300\n",
    "nb_words = len(vocab_to_int)\n",
    "\n",
    "# Create matrix with default values of zero\n",
    "word_embedding_matrix = np.zeros((nb_words, embedding_dim), dtype=np.float32)\n",
    "for word, i in vocab_to_int.items():\n",
    "    if word in embeddings_index:\n",
    "        word_embedding_matrix[i] = embeddings_index[word]\n",
    "    else:\n",
    "        # If word not in CN, create a random embedding for it\n",
    "        new_embedding = np.array(np.random.uniform(-1.0, 1.0, embedding_dim))\n",
    "        embeddings_index[word] = new_embedding\n",
    "        word_embedding_matrix[i] = new_embedding\n",
    "\n",
    "# Check if value matches len(vocab_to_int)\n",
    "print(len(word_embedding_matrix))"
   ]
  },
  {
   "cell_type": "code",
   "execution_count": 32,
   "metadata": {
    "collapsed": true
   },
   "outputs": [],
   "source": [
    "def convert_to_ints(text, word_count, unk_count, eos=False):\n",
    "    '''Convert words in text to an integer.\n",
    "       If word is not in vocab_to_int, use UNK's integer.\n",
    "       Total the number of words and UNKs.\n",
    "       Add EOS token to the end of texts'''\n",
    "    ints = []\n",
    "    for sentence in text:\n",
    "        sentence_ints = []\n",
    "        for word in sentence.split():\n",
    "            word_count += 1\n",
    "            if word in vocab_to_int:\n",
    "                sentence_ints.append(vocab_to_int[word])\n",
    "            else:\n",
    "                sentence_ints.append(vocab_to_int[\"<UNK>\"])\n",
    "                unk_count += 1\n",
    "        if eos:\n",
    "            sentence_ints.append(vocab_to_int[\"<EOS>\"])\n",
    "        ints.append(sentence_ints)\n",
    "    return ints, word_count, unk_count"
   ]
  },
  {
   "cell_type": "code",
   "execution_count": 33,
   "metadata": {},
   "outputs": [
    {
     "name": "stdout",
     "output_type": "stream",
     "text": [
      "('Total number of words in headlines:', 2233023)\n",
      "('Total number of UNKs in headlines:', 26131)\n",
      "Percent of words that are UNK: 0.0%\n"
     ]
    }
   ],
   "source": [
    "# Apply convert_to_ints to clean_summaries and clean_texts\n",
    "word_count = 0\n",
    "unk_count = 0\n",
    "\n",
    "int_summaries, word_count, unk_count = convert_to_ints(clean_summaries, word_count, unk_count)\n",
    "int_texts, word_count, unk_count = convert_to_ints(clean_texts, word_count, unk_count, eos=True)\n",
    "\n",
    "unk_percent = round(unk_count/word_count,4)*100\n",
    "\n",
    "print(\"Total number of words in headlines:\", word_count)\n",
    "print(\"Total number of UNKs in headlines:\", unk_count)\n",
    "print(\"Percent of words that are UNK: {}%\".format(unk_percent))"
   ]
  },
  {
   "cell_type": "code",
   "execution_count": 34,
   "metadata": {
    "collapsed": true
   },
   "outputs": [],
   "source": [
    "def create_lengths(text):\n",
    "    '''Create a data frame of the sentence lengths from a text'''\n",
    "    lengths = []\n",
    "    for sentence in text:\n",
    "        lengths.append(len(sentence))\n",
    "    return pd.DataFrame(lengths, columns=['counts'])"
   ]
  },
  {
   "cell_type": "code",
   "execution_count": 35,
   "metadata": {},
   "outputs": [
    {
     "name": "stdout",
     "output_type": "stream",
     "text": [
      "Summaries:\n",
      "             counts\n",
      "count  49995.000000\n",
      "mean       4.173137\n",
      "std        2.648567\n",
      "min        0.000000\n",
      "25%        2.000000\n",
      "50%        4.000000\n",
      "75%        5.000000\n",
      "max       30.000000\n",
      "()\n",
      "Texts:\n",
      "             counts\n",
      "count  49995.000000\n",
      "mean      41.491789\n",
      "std       40.082950\n",
      "min        1.000000\n",
      "25%       18.000000\n",
      "50%       29.000000\n",
      "75%       50.000000\n",
      "max      783.000000\n"
     ]
    }
   ],
   "source": [
    "lengths_summaries = create_lengths(int_summaries)\n",
    "lengths_texts = create_lengths(int_texts)\n",
    "\n",
    "print(\"Summaries:\")\n",
    "print(lengths_summaries.describe())\n",
    "print()\n",
    "print(\"Texts:\")\n",
    "print(lengths_texts.describe())"
   ]
  },
  {
   "cell_type": "code",
   "execution_count": 36,
   "metadata": {},
   "outputs": [
    {
     "name": "stdout",
     "output_type": "stream",
     "text": [
      "83.0\n",
      "111.3\n",
      "200.0\n"
     ]
    }
   ],
   "source": [
    "# Inspect the length of texts\n",
    "print(np.percentile(lengths_texts.counts, 90))\n",
    "print(np.percentile(lengths_texts.counts, 95))\n",
    "print(np.percentile(lengths_texts.counts, 99))"
   ]
  },
  {
   "cell_type": "code",
   "execution_count": 37,
   "metadata": {},
   "outputs": [
    {
     "name": "stdout",
     "output_type": "stream",
     "text": [
      "8.0\n",
      "9.0\n",
      "13.0\n"
     ]
    }
   ],
   "source": [
    "# Inspect the length of summaries\n",
    "print(np.percentile(lengths_summaries.counts, 90))\n",
    "print(np.percentile(lengths_summaries.counts, 95))\n",
    "print(np.percentile(lengths_summaries.counts, 99))"
   ]
  },
  {
   "cell_type": "code",
   "execution_count": 38,
   "metadata": {
    "collapsed": true
   },
   "outputs": [],
   "source": [
    "def unk_counter(sentence):\n",
    "    '''Counts the number of time UNK appears in a sentence.'''\n",
    "    unk_count = 0\n",
    "    for word in sentence:\n",
    "        if word == vocab_to_int[\"<UNK>\"]:\n",
    "            unk_count += 1\n",
    "    return unk_count"
   ]
  },
  {
   "cell_type": "code",
   "execution_count": 39,
   "metadata": {},
   "outputs": [
    {
     "name": "stdout",
     "output_type": "stream",
     "text": [
      "36387\n",
      "36387\n"
     ]
    }
   ],
   "source": [
    "# Sort the summaries and texts by the length of the texts, shortest to longest\n",
    "# Limit the length of summaries and texts based on the min and max ranges.\n",
    "# Remove reviews that include too many UNKs\n",
    "\n",
    "sorted_summaries = []\n",
    "sorted_texts = []\n",
    "max_text_length = 84\n",
    "max_summary_length = 13\n",
    "min_length = 2\n",
    "unk_text_limit = 1\n",
    "unk_summary_limit = 0\n",
    "\n",
    "for length in range(min(lengths_texts.counts), max_text_length): \n",
    "    for count, words in enumerate(int_summaries):\n",
    "        if (len(int_summaries[count]) >= min_length and\n",
    "            len(int_summaries[count]) <= max_summary_length and\n",
    "            len(int_texts[count]) >= min_length and\n",
    "            unk_counter(int_summaries[count]) <= unk_summary_limit and\n",
    "            unk_counter(int_texts[count]) <= unk_text_limit and\n",
    "            length == len(int_texts[count])\n",
    "           ):\n",
    "            sorted_summaries.append(int_summaries[count])\n",
    "            sorted_texts.append(int_texts[count])\n",
    "        \n",
    "# Compare lengths to ensure they match\n",
    "print(len(sorted_summaries))\n",
    "print(len(sorted_texts))"
   ]
  },
  {
   "cell_type": "markdown",
   "metadata": {},
   "source": [
    "## Building the Model"
   ]
  },
  {
   "cell_type": "code",
   "execution_count": 46,
   "metadata": {
    "collapsed": true
   },
   "outputs": [],
   "source": [
    "def model_inputs():\n",
    "    '''Create palceholders for inputs to the model'''\n",
    "    \n",
    "    input_data = tf.placeholder(tf.int32, [None, None], name='input')\n",
    "    targets = tf.placeholder(tf.int32, [None, None], name='targets')\n",
    "    lr = tf.placeholder(tf.float32, name='learning_rate')\n",
    "    keep_prob = tf.placeholder(tf.float32, name='keep_prob')\n",
    "    summary_length = tf.placeholder(tf.int32, (None,), name='summary_length')\n",
    "    max_summary_length = tf.reduce_max(summary_length, name='max_dec_len')\n",
    "    text_length = tf.placeholder(tf.int32, (None,), name='text_length')\n",
    "\n",
    "    return input_data, targets, lr, keep_prob, summary_length, max_summary_length, text_length"
   ]
  },
  {
   "cell_type": "code",
   "execution_count": 47,
   "metadata": {
    "collapsed": true
   },
   "outputs": [],
   "source": [
    "def process_encoding_input(target_data, vocab_to_int, batch_size):\n",
    "    '''Remove the last word id from each batch and concat the <GO> to the begining of each batch'''\n",
    "    \n",
    "    ending = tf.strided_slice(target_data, [0, 0], [batch_size, -1], [1, 1])\n",
    "    dec_input = tf.concat([tf.fill([batch_size, 1], vocab_to_int['<GO>']), ending], 1)\n",
    "\n",
    "    return dec_input"
   ]
  },
  {
   "cell_type": "code",
   "execution_count": 48,
   "metadata": {
    "collapsed": true
   },
   "outputs": [],
   "source": [
    "def encoding_layer(rnn_size, sequence_length, num_layers, rnn_inputs, keep_prob):\n",
    "    '''Create the encoding layer'''\n",
    "    \n",
    "    for layer in range(num_layers):\n",
    "        with tf.variable_scope('encoder_{}'.format(layer)):\n",
    "            cell_fw = tf.contrib.rnn.LSTMCell(rnn_size,\n",
    "                                              initializer=tf.random_uniform_initializer(-0.1, 0.1, seed=2))\n",
    "            cell_fw = tf.contrib.rnn.DropoutWrapper(cell_fw, \n",
    "                                                    input_keep_prob = keep_prob)\n",
    "\n",
    "            cell_bw = tf.contrib.rnn.LSTMCell(rnn_size,\n",
    "                                              initializer=tf.random_uniform_initializer(-0.1, 0.1, seed=2))\n",
    "            cell_bw = tf.contrib.rnn.DropoutWrapper(cell_bw, \n",
    "                                                    input_keep_prob = keep_prob)\n",
    "\n",
    "            enc_output, enc_state = tf.nn.bidirectional_dynamic_rnn(cell_fw, \n",
    "                                                                    cell_bw, \n",
    "                                                                    rnn_inputs,\n",
    "                                                                    sequence_length,\n",
    "                                                                    dtype=tf.float32)\n",
    "    # Join outputs since we are using a bidirectional RNN\n",
    "    enc_output = tf.concat(enc_output,2)\n",
    "    \n",
    "    return enc_output, enc_state"
   ]
  },
  {
   "cell_type": "code",
   "execution_count": 76,
   "metadata": {
    "collapsed": true
   },
   "outputs": [],
   "source": [
    "def training_decoding_layer(dec_embed_input, summary_length, dec_cell, initial_state, output_layer, \n",
    "                            vocab_size, max_summary_length):\n",
    "    '''Create the training logits'''\n",
    "    \n",
    "    training_helper = tf.contrib.seq2seq.TrainingHelper(inputs=dec_embed_input,\n",
    "                                                        sequence_length=summary_length,\n",
    "                                                        time_major=False)\n",
    "\n",
    "    training_decoder = tf.contrib.seq2seq.BasicDecoder(dec_cell,\n",
    "                                                       training_helper,\n",
    "                                                       initial_state,\n",
    "                                                       output_layer) \n",
    "    ret = tf.contrib.seq2seq.dynamic_decode(training_decoder,\n",
    "                                                           output_time_major=False,\n",
    "                                                           impute_finished=True,\n",
    "                                                           maximum_iterations=max_summary_length)\n",
    "    print len(ret)\n",
    "    training_logits, _, _ = ret\n",
    "    return training_logits"
   ]
  },
  {
   "cell_type": "code",
   "execution_count": 50,
   "metadata": {},
   "outputs": [
    {
     "ename": "AttributeError",
     "evalue": "'module' object has no attribute 'DynamicAttentionWrapper'",
     "output_type": "error",
     "traceback": [
      "\u001b[0;31m---------------------------------------------------------------------------\u001b[0m",
      "\u001b[0;31mAttributeError\u001b[0m                            Traceback (most recent call last)",
      "\u001b[0;32m<ipython-input-50-44ef39628732>\u001b[0m in \u001b[0;36m<module>\u001b[0;34m()\u001b[0m\n\u001b[0;32m----> 1\u001b[0;31m \u001b[0mtf\u001b[0m\u001b[0;34m.\u001b[0m\u001b[0mcontrib\u001b[0m\u001b[0;34m.\u001b[0m\u001b[0mseq2seq\u001b[0m\u001b[0;34m.\u001b[0m\u001b[0mDynamicAttentionWrapper\u001b[0m\u001b[0;34m\u001b[0m\u001b[0m\n\u001b[0m",
      "\u001b[0;31mAttributeError\u001b[0m: 'module' object has no attribute 'DynamicAttentionWrapper'"
     ]
    }
   ],
   "source": [
    "tf.contrib.seq2seq.DynamicAttentionWrapper"
   ]
  },
  {
   "cell_type": "code",
   "execution_count": 74,
   "metadata": {
    "collapsed": true
   },
   "outputs": [],
   "source": [
    "def inference_decoding_layer(embeddings, start_token, end_token, dec_cell, initial_state, output_layer,\n",
    "                             max_summary_length, batch_size):\n",
    "    '''Create the inference logits'''\n",
    "    \n",
    "    start_tokens = tf.tile(tf.constant([start_token], dtype=tf.int32), [batch_size], name='start_tokens')\n",
    "    \n",
    "    inference_helper = tf.contrib.seq2seq.GreedyEmbeddingHelper(embeddings,\n",
    "                                                                start_tokens,\n",
    "                                                                end_token)\n",
    "                \n",
    "    inference_decoder = tf.contrib.seq2seq.BasicDecoder(dec_cell,\n",
    "                                                        inference_helper,\n",
    "                                                        initial_state,\n",
    "                                                        output_layer)\n",
    "                \n",
    "    inference_logits, _, _ = tf.contrib.seq2seq.dynamic_decode(inference_decoder,\n",
    "                                                            output_time_major=False,\n",
    "                                                            impute_finished=True,\n",
    "                                                            maximum_iterations=max_summary_length)\n",
    "    \n",
    "    return inference_logits"
   ]
  },
  {
   "cell_type": "code",
   "execution_count": 52,
   "metadata": {},
   "outputs": [
    {
     "data": {
      "text/plain": [
       "<function tensorflow.python.ops.rnn_cell_impl._zero_state_tensors>"
      ]
     },
     "execution_count": 52,
     "metadata": {},
     "output_type": "execute_result"
    }
   ],
   "source": [
    "_zero_state_tensors"
   ]
  },
  {
   "cell_type": "code",
   "execution_count": 69,
   "metadata": {
    "collapsed": true
   },
   "outputs": [],
   "source": [
    "def decoding_layer(dec_embed_input, embeddings, enc_output, enc_state, vocab_size, text_length, summary_length, \n",
    "                   max_summary_length, rnn_size, vocab_to_int, keep_prob, batch_size, num_layers):\n",
    "    '''Create the decoding cell and attention for the training and inference decoding layers'''\n",
    "    \n",
    "    for layer in range(num_layers):\n",
    "        with tf.variable_scope('decoder_{}'.format(layer)):\n",
    "            lstm = tf.contrib.rnn.LSTMCell(rnn_size,\n",
    "                                           initializer=tf.random_uniform_initializer(-0.1, 0.1, seed=2))\n",
    "            dec_cell = tf.contrib.rnn.DropoutWrapper(lstm, \n",
    "                                                     input_keep_prob = keep_prob)\n",
    "    \n",
    "    output_layer = Dense(vocab_size,\n",
    "                         kernel_initializer = tf.truncated_normal_initializer(mean = 0.0, stddev=0.1))\n",
    "    \n",
    "    attn_mech = tf.contrib.seq2seq.BahdanauAttention(rnn_size,\n",
    "                                                  enc_output,\n",
    "                                                  text_length,\n",
    "                                                  normalize=False,\n",
    "                                                  name='BahdanauAttention')\n",
    "\n",
    "    dec_cell = tf.contrib.seq2seq.AttentionWrapper(dec_cell,\n",
    "                                                          attn_mech,\n",
    "                                                          rnn_size)\n",
    "            \n",
    "    unused_initial_state = tf.contrib.seq2seq.AttentionWrapperState(enc_state[0],\n",
    "                                                                    _zero_state_tensors(rnn_size, \n",
    "                                                                                        batch_size, \n",
    "                                                                                        tf.float32),\n",
    "                                                            #???\n",
    "                                                            time=0,\n",
    "                                                             alignments=(),\n",
    "                                                            alignment_history=()) \n",
    "    print help(dec_cell.zero_state)\n",
    "    initial_state = dec_cell.zero_state(batch_size=batch_size, dtype=tf.float32)\n",
    "    with tf.variable_scope(\"decode\"):\n",
    "        training_logits = training_decoding_layer(dec_embed_input, \n",
    "                                                  summary_length, \n",
    "                                                  dec_cell, \n",
    "                                                  initial_state,\n",
    "                                                  output_layer,\n",
    "                                                  vocab_size, \n",
    "                                                  max_summary_length)\n",
    "    with tf.variable_scope(\"decode\", reuse=True):\n",
    "        inference_logits = inference_decoding_layer(embeddings,  \n",
    "                                                    vocab_to_int['<GO>'], \n",
    "                                                    vocab_to_int['<EOS>'],\n",
    "                                                    dec_cell, \n",
    "                                                    initial_state, \n",
    "                                                    output_layer,\n",
    "                                                    max_summary_length,\n",
    "                                                    batch_size)\n",
    "\n",
    "    return training_logits, inference_logits"
   ]
  },
  {
   "cell_type": "code",
   "execution_count": 62,
   "metadata": {
    "collapsed": true
   },
   "outputs": [],
   "source": [
    "def seq2seq_model(input_data, target_data, keep_prob, text_length, summary_length, max_summary_length, \n",
    "                  vocab_size, rnn_size, num_layers, vocab_to_int, batch_size):\n",
    "    '''Use the previous functions to create the training and inference logits'''\n",
    "    \n",
    "    # Use Numberbatch's embeddings and the newly created ones as our embeddings\n",
    "    embeddings = word_embedding_matrix\n",
    "    \n",
    "    enc_embed_input = tf.nn.embedding_lookup(embeddings, input_data)\n",
    "    enc_output, enc_state = encoding_layer(rnn_size, text_length, num_layers, enc_embed_input, keep_prob)\n",
    "    \n",
    "    dec_input = process_encoding_input(target_data, vocab_to_int, batch_size)\n",
    "    dec_embed_input = tf.nn.embedding_lookup(embeddings, dec_input)\n",
    "    \n",
    "    training_logits, inference_logits  = decoding_layer(dec_embed_input, \n",
    "                                                        embeddings,\n",
    "                                                        enc_output,\n",
    "                                                        enc_state, \n",
    "                                                        vocab_size, \n",
    "                                                        text_length, \n",
    "                                                        summary_length, \n",
    "                                                        max_summary_length,\n",
    "                                                        rnn_size, \n",
    "                                                        vocab_to_int, \n",
    "                                                        keep_prob, \n",
    "                                                        batch_size,\n",
    "                                                        num_layers)\n",
    "    \n",
    "    return training_logits, inference_logits"
   ]
  },
  {
   "cell_type": "code",
   "execution_count": 63,
   "metadata": {
    "collapsed": true
   },
   "outputs": [],
   "source": [
    "def pad_sentence_batch(sentence_batch):\n",
    "    \"\"\"Pad sentences with <PAD> so that each sentence of a batch has the same length\"\"\"\n",
    "    max_sentence = max([len(sentence) for sentence in sentence_batch])\n",
    "    return [sentence + [vocab_to_int['<PAD>']] * (max_sentence - len(sentence)) for sentence in sentence_batch]"
   ]
  },
  {
   "cell_type": "code",
   "execution_count": 64,
   "metadata": {
    "collapsed": true
   },
   "outputs": [],
   "source": [
    "def get_batches(summaries, texts, batch_size):\n",
    "    \"\"\"Batch summaries, texts, and the lengths of their sentences together\"\"\"\n",
    "    for batch_i in range(0, len(texts)//batch_size):\n",
    "        start_i = batch_i * batch_size\n",
    "        summaries_batch = summaries[start_i:start_i + batch_size]\n",
    "        texts_batch = texts[start_i:start_i + batch_size]\n",
    "        pad_summaries_batch = np.array(pad_sentence_batch(summaries_batch))\n",
    "        pad_texts_batch = np.array(pad_sentence_batch(texts_batch))\n",
    "        \n",
    "        # Need the lengths for the _lengths parameters\n",
    "        pad_summaries_lengths = []\n",
    "        for summary in pad_summaries_batch:\n",
    "            pad_summaries_lengths.append(len(summary))\n",
    "        \n",
    "        pad_texts_lengths = []\n",
    "        for text in pad_texts_batch:\n",
    "            pad_texts_lengths.append(len(text))\n",
    "        \n",
    "        yield pad_summaries_batch, pad_texts_batch, pad_summaries_lengths, pad_texts_lengths"
   ]
  },
  {
   "cell_type": "code",
   "execution_count": 41,
   "metadata": {
    "collapsed": true
   },
   "outputs": [],
   "source": [
    "# Set the Hyperparameters\n",
    "epochs = 100\n",
    "batch_size = 64\n",
    "rnn_size = 256\n",
    "num_layers = 2\n",
    "learning_rate = 0.005\n",
    "keep_probability = 0.75"
   ]
  },
  {
   "cell_type": "code",
   "execution_count": 77,
   "metadata": {},
   "outputs": [
    {
     "name": "stdout",
     "output_type": "stream",
     "text": [
      "Help on method zero_state in module tensorflow.contrib.seq2seq.python.ops.attention_wrapper:\n",
      "\n",
      "zero_state(self, batch_size, dtype) method of tensorflow.contrib.seq2seq.python.ops.attention_wrapper.AttentionWrapper instance\n",
      "\n",
      "None\n",
      "3\n",
      "Graph is built.\n"
     ]
    }
   ],
   "source": [
    "# Build the graph\n",
    "train_graph = tf.Graph()\n",
    "# Set the graph to default to ensure that it is ready for training\n",
    "with train_graph.as_default():\n",
    "    \n",
    "    # Load the model inputs    \n",
    "    input_data, targets, lr, keep_prob, summary_length, max_summary_length, text_length = model_inputs()\n",
    "\n",
    "    # Create the training and inference logits\n",
    "    training_logits, inference_logits = seq2seq_model(tf.reverse(input_data, [-1]),\n",
    "                                                      targets, \n",
    "                                                      keep_prob,   \n",
    "                                                      text_length,\n",
    "                                                      summary_length,\n",
    "                                                      max_summary_length,\n",
    "                                                      len(vocab_to_int)+1,\n",
    "                                                      rnn_size, \n",
    "                                                      num_layers, \n",
    "                                                      vocab_to_int,\n",
    "                                                      batch_size)\n",
    "    \n",
    "    # Create tensors for the training logits and inference logits\n",
    "    training_logits = tf.identity(training_logits.rnn_output, 'logits')\n",
    "    inference_logits = tf.identity(inference_logits.sample_id, name='predictions')\n",
    "    \n",
    "    # Create the weights for sequence_loss\n",
    "    masks = tf.sequence_mask(summary_length, max_summary_length, dtype=tf.float32, name='masks')\n",
    "\n",
    "    with tf.name_scope(\"optimization\"):\n",
    "        # Loss function\n",
    "        cost = tf.contrib.seq2seq.sequence_loss(\n",
    "            training_logits,\n",
    "            targets,\n",
    "            masks)\n",
    "\n",
    "        # Optimizer\n",
    "        optimizer = tf.train.AdamOptimizer(learning_rate)\n",
    "\n",
    "        # Gradient Clipping\n",
    "        gradients = optimizer.compute_gradients(cost)\n",
    "        capped_gradients = [(tf.clip_by_value(grad, -5., 5.), var) for grad, var in gradients if grad is not None]\n",
    "        train_op = optimizer.apply_gradients(capped_gradients)\n",
    "print(\"Graph is built.\")"
   ]
  },
  {
   "cell_type": "markdown",
   "metadata": {},
   "source": [
    "## Training the Model"
   ]
  },
  {
   "cell_type": "markdown",
   "metadata": {},
   "source": [
    "Since I am training this model on my MacBook Pro, it would take me days if I used the whole dataset. For this reason, I am only going to use a subset of the data, so that I can train it over night. Normally I use [FloydHub's](https://www.floydhub.com/) services for my GPU needs, but it would take quite a bit of time to upload the dataset and ConceptNet Numberbatch, so I'm not going to bother with that for this project.\n",
    "\n",
    "I chose not use use the start of the subset because I didn't want to make it too easy for my model. The texts that I am using are closer to the median lengths; I thought this would be more fair."
   ]
  },
  {
   "cell_type": "code",
   "execution_count": 80,
   "metadata": {},
   "outputs": [
    {
     "name": "stdout",
     "output_type": "stream",
     "text": [
      "('The shortest text length:', 2)\n",
      "('The longest text length:', 83)\n"
     ]
    }
   ],
   "source": [
    "# Subset the data for training\n",
    "start = 0 # 20000\n",
    "end = -1 # start + 5000\n",
    "sorted_summaries_short = sorted_summaries[start:end]\n",
    "sorted_texts_short = sorted_texts[start:end]\n",
    "print(\"The shortest text length:\", len(sorted_texts_short[0]))\n",
    "print(\"The longest text length:\",len(sorted_texts_short[-1]))"
   ]
  },
  {
   "cell_type": "code",
   "execution_count": 81,
   "metadata": {
    "scrolled": true
   },
   "outputs": [
    {
     "name": "stdout",
     "output_type": "stream",
     "text": [
      "Epoch   1/100 Batch   20/568 - Loss:  3.777, Seconds: 64.64\n",
      "Epoch   1/100 Batch   40/568 - Loss:  2.610, Seconds: 53.49\n",
      "Epoch   1/100 Batch   60/568 - Loss:  2.622, Seconds: 53.98\n",
      "Epoch   1/100 Batch   80/568 - Loss:  2.497, Seconds: 60.04\n",
      "Epoch   1/100 Batch  100/568 - Loss:  2.504, Seconds: 70.92\n",
      "Epoch   1/100 Batch  120/568 - Loss:  2.594, Seconds: 61.01\n",
      "Epoch   1/100 Batch  140/568 - Loss:  2.425, Seconds: 70.03\n",
      "Epoch   1/100 Batch  160/568 - Loss:  2.503, Seconds: 80.31\n",
      "Epoch   1/100 Batch  180/568 - Loss:  2.513, Seconds: 68.69\n",
      "('Average loss for this update:', 2.666)\n",
      "New Record!\n",
      "Epoch   1/100 Batch  200/568 - Loss:  2.581, Seconds: 69.88\n",
      "Epoch   1/100 Batch  220/568 - Loss:  2.610, Seconds: 60.65\n",
      "Epoch   1/100 Batch  240/568 - Loss:  2.485, Seconds: 60.35\n",
      "Epoch   1/100 Batch  260/568 - Loss:  2.588, Seconds: 69.23\n",
      "Epoch   1/100 Batch  280/568 - Loss:  2.525, Seconds: 85.49\n",
      "Epoch   1/100 Batch  300/568 - Loss:  2.629, Seconds: 80.35\n",
      "Epoch   1/100 Batch  320/568 - Loss:  2.503, Seconds: 25963.47\n",
      "Epoch   1/100 Batch  340/568 - Loss:  2.640, Seconds: 70.89\n",
      "Epoch   1/100 Batch  360/568 - Loss:  2.677, Seconds: 72.80\n",
      "('Average loss for this update:', 2.577)\n",
      "New Record!\n",
      "Epoch   1/100 Batch  380/568 - Loss:  2.511, Seconds: 85.55\n",
      "Epoch   1/100 Batch  400/568 - Loss:  2.622, Seconds: 83.03\n",
      "Epoch   1/100 Batch  420/568 - Loss:  2.571, Seconds: 88.49\n",
      "Epoch   1/100 Batch  440/568 - Loss:  2.576, Seconds: 78.58\n",
      "Epoch   1/100 Batch  460/568 - Loss:  2.787, Seconds: 98.78\n",
      "Epoch   1/100 Batch  480/568 - Loss:  2.714, Seconds: 82.77\n",
      "Epoch   1/100 Batch  500/568 - Loss:  2.680, Seconds: 104.86\n",
      "Epoch   1/100 Batch  520/568 - Loss:  2.754, Seconds: 96.27\n",
      "Epoch   1/100 Batch  540/568 - Loss:  2.705, Seconds: 107.87\n",
      "Epoch   1/100 Batch  560/568 - Loss:  2.824, Seconds: 113.35\n",
      "('Average loss for this update:', 2.692)\n",
      "No Improvement.\n",
      "Epoch   2/100 Batch   20/568 - Loss:  2.218, Seconds: 63.39\n",
      "Epoch   2/100 Batch   40/568 - Loss:  2.043, Seconds: 53.63\n",
      "Epoch   2/100 Batch   60/568 - Loss:  2.108, Seconds: 54.20\n",
      "Epoch   2/100 Batch   80/568 - Loss:  2.039, Seconds: 60.71\n",
      "Epoch   2/100 Batch  100/568 - Loss:  2.074, Seconds: 71.16\n",
      "Epoch   2/100 Batch  120/568 - Loss:  2.139, Seconds: 64.81\n",
      "Epoch   2/100 Batch  140/568 - Loss:  1.998, Seconds: 67.75\n",
      "Epoch   2/100 Batch  160/568 - Loss:  2.084, Seconds: 80.21\n",
      "Epoch   2/100 Batch  180/568 - Loss:  2.112, Seconds: 69.32\n",
      "('Average loss for this update:', 2.093)\n",
      "New Record!\n",
      "Epoch   2/100 Batch  200/568 - Loss:  2.177, Seconds: 70.28\n",
      "Epoch   2/100 Batch  220/568 - Loss:  2.195, Seconds: 53.95\n",
      "Epoch   2/100 Batch  240/568 - Loss:  2.100, Seconds: 60.26\n",
      "Epoch   2/100 Batch  260/568 - Loss:  2.198, Seconds: 67.85\n",
      "Epoch   2/100 Batch  280/568 - Loss:  2.175, Seconds: 85.11\n",
      "Epoch   2/100 Batch  300/568 - Loss:  2.268, Seconds: 79.37\n",
      "Epoch   2/100 Batch  320/568 - Loss:  2.171, Seconds: 87.03\n",
      "Epoch   2/100 Batch  340/568 - Loss:  2.296, Seconds: 70.86\n",
      "Epoch   2/100 Batch  360/568 - Loss:  2.341, Seconds: 72.59\n",
      "('Average loss for this update:', 2.213)\n",
      "No Improvement.\n",
      "Epoch   2/100 Batch  380/568 - Loss:  2.190, Seconds: 85.16\n",
      "Epoch   2/100 Batch  400/568 - Loss:  2.294, Seconds: 80.56\n",
      "Epoch   2/100 Batch  420/568 - Loss:  2.266, Seconds: 89.38\n",
      "Epoch   2/100 Batch  440/568 - Loss:  2.270, Seconds: 78.40\n",
      "Epoch   2/100 Batch  460/568 - Loss:  2.458, Seconds: 97.71\n",
      "Epoch   2/100 Batch  480/568 - Loss:  2.402, Seconds: 82.48\n",
      "Epoch   2/100 Batch  500/568 - Loss:  2.395, Seconds: 104.08\n",
      "Epoch   2/100 Batch  520/568 - Loss:  2.462, Seconds: 94.61\n",
      "Epoch   2/100 Batch  540/568 - Loss:  2.435, Seconds: 106.88\n",
      "Epoch   2/100 Batch  560/568 - Loss:  2.544, Seconds: 112.59\n",
      "('Average loss for this update:', 2.392)\n",
      "No Improvement.\n",
      "Epoch   3/100 Batch   20/568 - Loss:  2.021, Seconds: 62.73\n",
      "Epoch   3/100 Batch   40/568 - Loss:  1.842, Seconds: 53.43\n",
      "Epoch   3/100 Batch   60/568 - Loss:  1.901, Seconds: 54.53\n",
      "Epoch   3/100 Batch   80/568 - Loss:  1.847, Seconds: 59.89\n",
      "Epoch   3/100 Batch  100/568 - Loss:  1.892, Seconds: 71.43\n",
      "Epoch   3/100 Batch  120/568 - Loss:  1.930, Seconds: 61.25\n",
      "Epoch   3/100 Batch  140/568 - Loss:  1.811, Seconds: 67.87\n",
      "Epoch   3/100 Batch  160/568 - Loss:  1.873, Seconds: 78.35\n",
      "Epoch   3/100 Batch  180/568 - Loss:  1.921, Seconds: 68.44\n",
      "('Average loss for this update:', 1.896)\n",
      "New Record!\n",
      "Epoch   3/100 Batch  200/568 - Loss:  1.975, Seconds: 69.33\n",
      "Epoch   3/100 Batch  220/568 - Loss:  2.002, Seconds: 53.67\n",
      "Epoch   3/100 Batch  240/568 - Loss:  1.924, Seconds: 59.49\n",
      "Epoch   3/100 Batch  260/568 - Loss:  2.008, Seconds: 65.96\n",
      "Epoch   3/100 Batch  280/568 - Loss:  1.996, Seconds: 84.38\n",
      "Epoch   3/100 Batch  300/568 - Loss:  2.080, Seconds: 78.76\n",
      "Epoch   3/100 Batch  320/568 - Loss:  1.989, Seconds: 86.52\n",
      "Epoch   3/100 Batch  340/568 - Loss:  2.105, Seconds: 70.28\n",
      "Epoch   3/100 Batch  360/568 - Loss:  2.144, Seconds: 72.42\n",
      "('Average loss for this update:', 2.027)\n",
      "No Improvement.\n",
      "Epoch   3/100 Batch  380/568 - Loss:  2.017, Seconds: 84.49\n",
      "Epoch   3/100 Batch  400/568 - Loss:  2.114, Seconds: 80.10\n",
      "Epoch   3/100 Batch  420/568 - Loss:  2.091, Seconds: 87.62\n",
      "Epoch   3/100 Batch  440/568 - Loss:  2.093, Seconds: 77.96\n",
      "Epoch   3/100 Batch  460/568 - Loss:  2.260, Seconds: 97.78\n",
      "Epoch   3/100 Batch  480/568 - Loss:  2.205, Seconds: 82.13\n",
      "Epoch   3/100 Batch  500/568 - Loss:  2.215, Seconds: 104.30\n",
      "Epoch   3/100 Batch  520/568 - Loss:  2.268, Seconds: 94.73\n",
      "Epoch   3/100 Batch  540/568 - Loss:  2.262, Seconds: 106.73\n",
      "Epoch   3/100 Batch  560/568 - Loss:  2.359, Seconds: 112.35\n",
      "('Average loss for this update:', 2.207)\n",
      "No Improvement.\n",
      "Epoch   4/100 Batch   20/568 - Loss:  1.918, Seconds: 62.53\n",
      "Epoch   4/100 Batch   40/568 - Loss:  1.726, Seconds: 53.39\n",
      "Epoch   4/100 Batch   60/568 - Loss:  1.779, Seconds: 54.39\n",
      "Epoch   4/100 Batch   80/568 - Loss:  1.746, Seconds: 59.70\n",
      "Epoch   4/100 Batch  100/568 - Loss:  1.765, Seconds: 71.28\n",
      "Epoch   4/100 Batch  120/568 - Loss:  1.789, Seconds: 61.23\n",
      "Epoch   4/100 Batch  140/568 - Loss:  1.694, Seconds: 67.03\n",
      "Epoch   4/100 Batch  160/568 - Loss:  1.752, Seconds: 79.12\n",
      "Epoch   4/100 Batch  180/568 - Loss:  1.793, Seconds: 67.95\n",
      "('Average loss for this update:', 1.777)\n",
      "New Record!\n",
      "Epoch   4/100 Batch  200/568 - Loss:  1.856, Seconds: 68.77\n",
      "Epoch   4/100 Batch  220/568 - Loss:  1.873, Seconds: 53.62\n",
      "Epoch   4/100 Batch  240/568 - Loss:  1.805, Seconds: 58.97\n",
      "Epoch   4/100 Batch  260/568 - Loss:  1.880, Seconds: 65.47\n",
      "Epoch   4/100 Batch  280/568 - Loss:  1.865, Seconds: 84.10\n",
      "Epoch   4/100 Batch  300/568 - Loss:  1.955, Seconds: 79.04\n",
      "Epoch   4/100 Batch  320/568 - Loss:  1.866, Seconds: 86.19\n",
      "Epoch   4/100 Batch  340/568 - Loss:  1.975, Seconds: 70.74\n",
      "Epoch   4/100 Batch  360/568 - Loss:  2.014, Seconds: 71.65\n",
      "('Average loss for this update:', 1.9)\n",
      "No Improvement.\n",
      "Epoch   4/100 Batch  380/568 - Loss:  1.896, Seconds: 85.22\n",
      "Epoch   4/100 Batch  400/568 - Loss:  1.984, Seconds: 80.04\n",
      "Epoch   4/100 Batch  420/568 - Loss:  1.975, Seconds: 87.79\n",
      "Epoch   4/100 Batch  440/568 - Loss:  1.976, Seconds: 78.20\n",
      "Epoch   4/100 Batch  460/568 - Loss:  2.126, Seconds: 97.98\n",
      "Epoch   4/100 Batch  480/568 - Loss:  2.076, Seconds: 82.42\n",
      "Epoch   4/100 Batch  500/568 - Loss:  2.095, Seconds: 103.34\n",
      "Epoch   4/100 Batch  520/568 - Loss:  2.138, Seconds: 94.81\n",
      "Epoch   4/100 Batch  540/568 - Loss:  2.138, Seconds: 106.66\n",
      "Epoch   4/100 Batch  560/568 - Loss:  2.230, Seconds: 112.11\n",
      "('Average loss for this update:', 2.083)\n",
      "No Improvement.\n",
      "Epoch   5/100 Batch   20/568 - Loss:  1.829, Seconds: 62.48\n",
      "Epoch   5/100 Batch   40/568 - Loss:  1.634, Seconds: 53.30\n",
      "Epoch   5/100 Batch   60/568 - Loss:  1.691, Seconds: 54.17\n",
      "Epoch   5/100 Batch   80/568 - Loss:  1.637, Seconds: 59.54\n",
      "Epoch   5/100 Batch  100/568 - Loss:  1.664, Seconds: 70.87\n",
      "Epoch   5/100 Batch  120/568 - Loss:  1.688, Seconds: 60.61\n",
      "Epoch   5/100 Batch  140/568 - Loss:  1.610, Seconds: 67.08\n",
      "Epoch   5/100 Batch  160/568 - Loss:  1.648, Seconds: 77.86\n",
      "Epoch   5/100 Batch  180/568 - Loss:  1.698, Seconds: 67.99\n",
      "('Average loss for this update:', 1.681)\n",
      "New Record!\n",
      "Epoch   5/100 Batch  200/568 - Loss:  1.751, Seconds: 68.57\n",
      "Epoch   5/100 Batch  220/568 - Loss:  1.781, Seconds: 53.67\n",
      "Epoch   5/100 Batch  240/568 - Loss:  1.696, Seconds: 59.22\n",
      "Epoch   5/100 Batch  260/568 - Loss:  1.782, Seconds: 66.07\n"
     ]
    },
    {
     "name": "stdout",
     "output_type": "stream",
     "text": [
      "Epoch   5/100 Batch  280/568 - Loss:  1.762, Seconds: 83.55\n",
      "Epoch   5/100 Batch  300/568 - Loss:  1.854, Seconds: 78.98\n",
      "Epoch   5/100 Batch  320/568 - Loss:  1.772, Seconds: 85.90\n",
      "Epoch   5/100 Batch  340/568 - Loss:  1.869, Seconds: 70.20\n",
      "Epoch   5/100 Batch  360/568 - Loss:  1.913, Seconds: 71.47\n",
      "('Average loss for this update:', 1.8)\n",
      "No Improvement.\n",
      "Epoch   5/100 Batch  380/568 - Loss:  1.803, Seconds: 83.86\n",
      "Epoch   5/100 Batch  400/568 - Loss:  1.885, Seconds: 79.37\n",
      "Epoch   5/100 Batch  420/568 - Loss:  1.892, Seconds: 87.34\n",
      "Epoch   5/100 Batch  440/568 - Loss:  1.879, Seconds: 77.51\n",
      "Epoch   5/100 Batch  460/568 - Loss:  2.027, Seconds: 97.30\n",
      "Epoch   5/100 Batch  480/568 - Loss:  1.973, Seconds: 81.76\n",
      "Epoch   5/100 Batch  500/568 - Loss:  1.988, Seconds: 103.72\n",
      "Epoch   5/100 Batch  520/568 - Loss:  2.032, Seconds: 94.07\n",
      "Epoch   5/100 Batch  540/568 - Loss:  2.028, Seconds: 106.32\n",
      "Epoch   5/100 Batch  560/568 - Loss:  2.121, Seconds: 112.62\n",
      "('Average loss for this update:', 1.981)\n",
      "No Improvement.\n",
      "Epoch   6/100 Batch   20/568 - Loss:  1.738, Seconds: 62.26\n",
      "Epoch   6/100 Batch   40/568 - Loss:  1.539, Seconds: 53.11\n",
      "Epoch   6/100 Batch   60/568 - Loss:  1.611, Seconds: 53.54\n",
      "Epoch   6/100 Batch   80/568 - Loss:  1.560, Seconds: 59.78\n",
      "Epoch   6/100 Batch  100/568 - Loss:  1.570, Seconds: 70.61\n",
      "Epoch   6/100 Batch  120/568 - Loss:  1.588, Seconds: 60.72\n",
      "Epoch   6/100 Batch  140/568 - Loss:  1.515, Seconds: 66.32\n",
      "Epoch   6/100 Batch  160/568 - Loss:  1.562, Seconds: 78.11\n",
      "Epoch   6/100 Batch  180/568 - Loss:  1.605, Seconds: 68.40\n",
      "('Average loss for this update:', 1.59)\n",
      "New Record!\n",
      "Epoch   6/100 Batch  200/568 - Loss:  1.648, Seconds: 69.32\n",
      "Epoch   6/100 Batch  220/568 - Loss:  1.689, Seconds: 53.46\n",
      "Epoch   6/100 Batch  240/568 - Loss:  1.616, Seconds: 59.27\n",
      "Epoch   6/100 Batch  260/568 - Loss:  1.701, Seconds: 65.44\n",
      "Epoch   6/100 Batch  280/568 - Loss:  1.680, Seconds: 83.52\n",
      "Epoch   6/100 Batch  300/568 - Loss:  1.751, Seconds: 78.90\n",
      "Epoch   6/100 Batch  320/568 - Loss:  1.686, Seconds: 85.66\n",
      "Epoch   6/100 Batch  340/568 - Loss:  1.781, Seconds: 70.07\n",
      "Epoch   6/100 Batch  360/568 - Loss:  1.824, Seconds: 71.99\n",
      "('Average loss for this update:', 1.711)\n",
      "No Improvement.\n",
      "Epoch   6/100 Batch  380/568 - Loss:  1.725, Seconds: 83.90\n",
      "Epoch   6/100 Batch  400/568 - Loss:  1.796, Seconds: 80.57\n",
      "Epoch   6/100 Batch  420/568 - Loss:  1.804, Seconds: 86.66\n",
      "Epoch   6/100 Batch  440/568 - Loss:  1.801, Seconds: 78.51\n",
      "Epoch   6/100 Batch  460/568 - Loss:  1.932, Seconds: 97.40\n",
      "Epoch   6/100 Batch  480/568 - Loss:  1.890, Seconds: 81.68\n",
      "Epoch   6/100 Batch  500/568 - Loss:  1.911, Seconds: 103.21\n",
      "Epoch   6/100 Batch  520/568 - Loss:  1.942, Seconds: 94.60\n",
      "Epoch   6/100 Batch  540/568 - Loss:  1.943, Seconds: 105.71\n",
      "Epoch   6/100 Batch  560/568 - Loss:  2.035, Seconds: 111.01\n",
      "('Average loss for this update:', 1.896)\n",
      "No Improvement.\n",
      "Epoch   7/100 Batch   20/568 - Loss:  1.647, Seconds: 62.57\n",
      "Epoch   7/100 Batch   40/568 - Loss:  1.480, Seconds: 53.39\n",
      "Epoch   7/100 Batch   60/568 - Loss:  1.522, Seconds: 53.23\n",
      "Epoch   7/100 Batch   80/568 - Loss:  1.489, Seconds: 59.74\n",
      "Epoch   7/100 Batch  100/568 - Loss:  1.502, Seconds: 70.69\n",
      "Epoch   7/100 Batch  120/568 - Loss:  1.510, Seconds: 60.30\n",
      "Epoch   7/100 Batch  140/568 - Loss:  1.441, Seconds: 66.34\n",
      "Epoch   7/100 Batch  160/568 - Loss:  1.487, Seconds: 77.93\n",
      "Epoch   7/100 Batch  180/568 - Loss:  1.526, Seconds: 67.59\n",
      "('Average loss for this update:', 1.514)\n",
      "New Record!\n",
      "Epoch   7/100 Batch  200/568 - Loss:  1.557, Seconds: 68.94\n",
      "Epoch   7/100 Batch  220/568 - Loss:  1.605, Seconds: 53.24\n",
      "Epoch   7/100 Batch  240/568 - Loss:  1.530, Seconds: 59.26\n",
      "Epoch   7/100 Batch  260/568 - Loss:  1.612, Seconds: 65.76\n",
      "Epoch   7/100 Batch  280/568 - Loss:  1.597, Seconds: 84.71\n",
      "Epoch   7/100 Batch  300/568 - Loss:  1.668, Seconds: 78.53\n",
      "Epoch   7/100 Batch  320/568 - Loss:  1.597, Seconds: 86.24\n",
      "Epoch   7/100 Batch  340/568 - Loss:  1.695, Seconds: 70.09\n",
      "Epoch   7/100 Batch  360/568 - Loss:  1.733, Seconds: 70.97\n",
      "('Average loss for this update:', 1.625)\n",
      "No Improvement.\n",
      "Epoch   7/100 Batch  380/568 - Loss:  1.641, Seconds: 87.64\n",
      "Epoch   7/100 Batch  400/568 - Loss:  1.723, Seconds: 79.36\n",
      "Epoch   7/100 Batch  420/568 - Loss:  1.725, Seconds: 88.28\n",
      "Epoch   7/100 Batch  440/568 - Loss:  1.733, Seconds: 77.43\n",
      "Epoch   7/100 Batch  460/568 - Loss:  1.855, Seconds: 97.09\n",
      "Epoch   7/100 Batch  480/568 - Loss:  1.817, Seconds: 81.51\n",
      "Epoch   7/100 Batch  500/568 - Loss:  1.839, Seconds: 103.52\n",
      "Epoch   7/100 Batch  520/568 - Loss:  1.875, Seconds: 94.48\n",
      "Epoch   7/100 Batch  540/568 - Loss:  1.871, Seconds: 105.60\n",
      "Epoch   7/100 Batch  560/568 - Loss:  1.942, Seconds: 111.42\n",
      "('Average loss for this update:', 1.821)\n",
      "No Improvement.\n",
      "Epoch   8/100 Batch   20/568 - Loss:  1.573, Seconds: 62.62\n",
      "Epoch   8/100 Batch   40/568 - Loss:  1.401, Seconds: 53.31\n",
      "Epoch   8/100 Batch   60/568 - Loss:  1.452, Seconds: 53.43\n",
      "Epoch   8/100 Batch   80/568 - Loss:  1.423, Seconds: 59.82\n",
      "Epoch   8/100 Batch  100/568 - Loss:  1.431, Seconds: 70.53\n",
      "Epoch   8/100 Batch  120/568 - Loss:  1.422, Seconds: 61.07\n",
      "Epoch   8/100 Batch  140/568 - Loss:  1.367, Seconds: 66.76\n",
      "Epoch   8/100 Batch  160/568 - Loss:  1.408, Seconds: 78.35\n",
      "Epoch   8/100 Batch  180/568 - Loss:  1.455, Seconds: 67.79\n",
      "('Average loss for this update:', 1.439)\n",
      "New Record!\n",
      "Epoch   8/100 Batch  200/568 - Loss:  1.480, Seconds: 68.66\n",
      "Epoch   8/100 Batch  220/568 - Loss:  1.522, Seconds: 53.12\n",
      "Epoch   8/100 Batch  240/568 - Loss:  1.473, Seconds: 59.08\n",
      "Epoch   8/100 Batch  260/568 - Loss:  1.530, Seconds: 66.07\n",
      "Epoch   8/100 Batch  280/568 - Loss:  1.530, Seconds: 83.48\n",
      "Epoch   8/100 Batch  300/568 - Loss:  1.587, Seconds: 78.48\n",
      "Epoch   8/100 Batch  320/568 - Loss:  1.530, Seconds: 85.26\n",
      "Epoch   8/100 Batch  340/568 - Loss:  1.632, Seconds: 69.72\n",
      "Epoch   8/100 Batch  360/568 - Loss:  1.669, Seconds: 70.98\n",
      "('Average loss for this update:', 1.555)\n",
      "No Improvement.\n",
      "Epoch   8/100 Batch  380/568 - Loss:  1.590, Seconds: 84.31\n",
      "Epoch   8/100 Batch  400/568 - Loss:  1.655, Seconds: 79.09\n",
      "Epoch   8/100 Batch  420/568 - Loss:  1.673, Seconds: 87.77\n",
      "Epoch   8/100 Batch  440/568 - Loss:  1.658, Seconds: 76.95\n",
      "Epoch   8/100 Batch  460/568 - Loss:  1.781, Seconds: 97.66\n",
      "Epoch   8/100 Batch  480/568 - Loss:  1.745, Seconds: 81.86\n",
      "Epoch   8/100 Batch  500/568 - Loss:  1.774, Seconds: 103.45\n",
      "Epoch   8/100 Batch  520/568 - Loss:  1.789, Seconds: 93.67\n",
      "Epoch   8/100 Batch  540/568 - Loss:  1.796, Seconds: 105.92\n",
      "Epoch   8/100 Batch  560/568 - Loss:  1.875, Seconds: 111.46\n",
      "('Average loss for this update:', 1.751)\n",
      "No Improvement.\n",
      "Epoch   9/100 Batch   20/568 - Loss:  1.474, Seconds: 61.86\n",
      "Epoch   9/100 Batch   40/568 - Loss:  1.330, Seconds: 53.08\n",
      "Epoch   9/100 Batch   60/568 - Loss:  1.369, Seconds: 53.77\n",
      "Epoch   9/100 Batch   80/568 - Loss:  1.352, Seconds: 59.43\n",
      "Epoch   9/100 Batch  100/568 - Loss:  1.351, Seconds: 71.32\n",
      "Epoch   9/100 Batch  120/568 - Loss:  1.352, Seconds: 60.44\n",
      "Epoch   9/100 Batch  140/568 - Loss:  1.292, Seconds: 67.03\n",
      "Epoch   9/100 Batch  160/568 - Loss:  1.335, Seconds: 77.89\n",
      "Epoch   9/100 Batch  180/568 - Loss:  1.372, Seconds: 68.89\n",
      "('Average loss for this update:', 1.361)\n",
      "New Record!\n",
      "Epoch   9/100 Batch  200/568 - Loss:  1.415, Seconds: 68.26\n",
      "Epoch   9/100 Batch  220/568 - Loss:  1.463, Seconds: 53.44\n",
      "Epoch   9/100 Batch  240/568 - Loss:  1.405, Seconds: 59.61\n",
      "Epoch   9/100 Batch  260/568 - Loss:  1.464, Seconds: 66.30\n",
      "Epoch   9/100 Batch  280/568 - Loss:  1.470, Seconds: 84.15\n",
      "Epoch   9/100 Batch  300/568 - Loss:  1.520, Seconds: 79.26\n",
      "Epoch   9/100 Batch  320/568 - Loss:  1.466, Seconds: 85.80\n",
      "Epoch   9/100 Batch  340/568 - Loss:  1.561, Seconds: 70.27\n",
      "Epoch   9/100 Batch  360/568 - Loss:  1.590, Seconds: 71.73\n",
      "('Average loss for this update:', 1.489)\n",
      "No Improvement.\n",
      "Epoch   9/100 Batch  380/568 - Loss:  1.520, Seconds: 83.86\n",
      "Epoch   9/100 Batch  400/568 - Loss:  1.593, Seconds: 79.59\n",
      "Epoch   9/100 Batch  420/568 - Loss:  1.587, Seconds: 87.87\n",
      "Epoch   9/100 Batch  440/568 - Loss:  1.594, Seconds: 77.35\n",
      "Epoch   9/100 Batch  460/568 - Loss:  1.694, Seconds: 97.53\n",
      "Epoch   9/100 Batch  480/568 - Loss:  1.674, Seconds: 82.04\n",
      "Epoch   9/100 Batch  500/568 - Loss:  1.704, Seconds: 103.36\n",
      "Epoch   9/100 Batch  520/568 - Loss:  1.720, Seconds: 94.09\n"
     ]
    },
    {
     "name": "stdout",
     "output_type": "stream",
     "text": [
      "Epoch   9/100 Batch  540/568 - Loss:  1.741, Seconds: 106.10\n",
      "Epoch   9/100 Batch  560/568 - Loss:  1.816, Seconds: 112.53\n",
      "('Average loss for this update:', 1.682)\n",
      "No Improvement.\n",
      "Epoch  10/100 Batch   20/568 - Loss:  1.413, Seconds: 62.08\n",
      "Epoch  10/100 Batch   40/568 - Loss:  1.276, Seconds: 53.17\n",
      "Epoch  10/100 Batch   60/568 - Loss:  1.298, Seconds: 53.63\n",
      "Epoch  10/100 Batch   80/568 - Loss:  1.295, Seconds: 59.80\n",
      "Epoch  10/100 Batch  100/568 - Loss:  1.287, Seconds: 70.95\n",
      "Epoch  10/100 Batch  120/568 - Loss:  1.292, Seconds: 60.76\n",
      "Epoch  10/100 Batch  140/568 - Loss:  1.239, Seconds: 66.97\n",
      "Epoch  10/100 Batch  160/568 - Loss:  1.286, Seconds: 77.60\n",
      "Epoch  10/100 Batch  180/568 - Loss:  1.305, Seconds: 68.21\n",
      "('Average loss for this update:', 1.302)\n",
      "New Record!\n",
      "Epoch  10/100 Batch  200/568 - Loss:  1.348, Seconds: 68.98\n",
      "Epoch  10/100 Batch  220/568 - Loss:  1.391, Seconds: 53.95\n",
      "Epoch  10/100 Batch  240/568 - Loss:  1.335, Seconds: 59.42\n",
      "Epoch  10/100 Batch  260/568 - Loss:  1.398, Seconds: 66.49\n",
      "Epoch  10/100 Batch  280/568 - Loss:  1.386, Seconds: 84.01\n",
      "Epoch  10/100 Batch  300/568 - Loss:  1.452, Seconds: 79.26\n",
      "Epoch  10/100 Batch  320/568 - Loss:  1.396, Seconds: 86.11\n",
      "Epoch  10/100 Batch  340/568 - Loss:  1.485, Seconds: 70.20\n",
      "Epoch  10/100 Batch  360/568 - Loss:  1.526, Seconds: 71.40\n",
      "('Average loss for this update:', 1.419)\n",
      "No Improvement.\n",
      "Epoch  10/100 Batch  380/568 - Loss:  1.467, Seconds: 83.73\n",
      "Epoch  10/100 Batch  400/568 - Loss:  1.515, Seconds: 80.18\n",
      "Epoch  10/100 Batch  420/568 - Loss:  1.525, Seconds: 87.89\n",
      "Epoch  10/100 Batch  440/568 - Loss:  1.524, Seconds: 77.89\n",
      "Epoch  10/100 Batch  460/568 - Loss:  1.623, Seconds: 97.03\n",
      "Epoch  10/100 Batch  480/568 - Loss:  1.615, Seconds: 82.33\n",
      "Epoch  10/100 Batch  500/568 - Loss:  1.631, Seconds: 104.09\n",
      "Epoch  10/100 Batch  520/568 - Loss:  1.675, Seconds: 94.01\n",
      "Epoch  10/100 Batch  540/568 - Loss:  1.689, Seconds: 107.07\n",
      "Epoch  10/100 Batch  560/568 - Loss:  1.743, Seconds: 111.66\n",
      "('Average loss for this update:', 1.618)\n",
      "No Improvement.\n",
      "Epoch  11/100 Batch   20/568 - Loss:  1.352, Seconds: 62.15\n",
      "Epoch  11/100 Batch   40/568 - Loss:  1.216, Seconds: 52.70\n",
      "Epoch  11/100 Batch   60/568 - Loss:  1.248, Seconds: 53.91\n",
      "Epoch  11/100 Batch   80/568 - Loss:  1.238, Seconds: 59.80\n",
      "Epoch  11/100 Batch  100/568 - Loss:  1.222, Seconds: 71.01\n",
      "Epoch  11/100 Batch  120/568 - Loss:  1.232, Seconds: 61.51\n",
      "Epoch  11/100 Batch  140/568 - Loss:  1.196, Seconds: 67.20\n",
      "Epoch  11/100 Batch  160/568 - Loss:  1.225, Seconds: 78.02\n",
      "Epoch  11/100 Batch  180/568 - Loss:  1.255, Seconds: 67.78\n",
      "('Average loss for this update:', 1.245)\n",
      "New Record!\n",
      "Epoch  11/100 Batch  200/568 - Loss:  1.287, Seconds: 68.94\n",
      "Epoch  11/100 Batch  220/568 - Loss:  1.331, Seconds: 53.33\n",
      "Epoch  11/100 Batch  240/568 - Loss:  1.288, Seconds: 59.30\n",
      "Epoch  11/100 Batch  260/568 - Loss:  1.350, Seconds: 66.01\n",
      "Epoch  11/100 Batch  280/568 - Loss:  1.338, Seconds: 83.95\n",
      "Epoch  11/100 Batch  300/568 - Loss:  1.385, Seconds: 79.18\n",
      "Epoch  11/100 Batch  320/568 - Loss:  1.339, Seconds: 85.24\n",
      "Epoch  11/100 Batch  340/568 - Loss:  1.426, Seconds: 70.11\n",
      "Epoch  11/100 Batch  360/568 - Loss:  1.479, Seconds: 71.58\n",
      "('Average loss for this update:', 1.364)\n",
      "No Improvement.\n",
      "Epoch  11/100 Batch  380/568 - Loss:  1.403, Seconds: 84.45\n",
      "Epoch  11/100 Batch  400/568 - Loss:  1.462, Seconds: 80.15\n",
      "Epoch  11/100 Batch  420/568 - Loss:  1.469, Seconds: 87.74\n",
      "Epoch  11/100 Batch  440/568 - Loss:  1.480, Seconds: 77.47\n",
      "Epoch  11/100 Batch  460/568 - Loss:  1.568, Seconds: 97.24\n",
      "Epoch  11/100 Batch  480/568 - Loss:  1.570, Seconds: 82.25\n",
      "Epoch  11/100 Batch  500/568 - Loss:  1.595, Seconds: 104.03\n",
      "Epoch  11/100 Batch  520/568 - Loss:  1.595, Seconds: 93.95\n",
      "Epoch  11/100 Batch  540/568 - Loss:  1.619, Seconds: 105.74\n",
      "Epoch  11/100 Batch  560/568 - Loss:  1.699, Seconds: 112.20\n",
      "('Average loss for this update:', 1.563)\n",
      "No Improvement.\n",
      "Epoch  12/100 Batch   20/568 - Loss:  1.291, Seconds: 62.27\n",
      "Epoch  12/100 Batch   40/568 - Loss:  1.180, Seconds: 53.30\n",
      "Epoch  12/100 Batch   60/568 - Loss:  1.198, Seconds: 53.84\n",
      "Epoch  12/100 Batch   80/568 - Loss:  1.192, Seconds: 59.49\n",
      "Epoch  12/100 Batch  100/568 - Loss:  1.174, Seconds: 70.59\n",
      "Epoch  12/100 Batch  120/568 - Loss:  1.178, Seconds: 61.15\n",
      "Epoch  12/100 Batch  140/568 - Loss:  1.146, Seconds: 67.33\n",
      "Epoch  12/100 Batch  160/568 - Loss:  1.184, Seconds: 77.60\n",
      "Epoch  12/100 Batch  180/568 - Loss:  1.202, Seconds: 68.35\n",
      "('Average loss for this update:', 1.196)\n",
      "New Record!\n",
      "Epoch  12/100 Batch  200/568 - Loss:  1.219, Seconds: 68.55\n",
      "Epoch  12/100 Batch  220/568 - Loss:  1.264, Seconds: 53.32\n",
      "Epoch  12/100 Batch  240/568 - Loss:  1.241, Seconds: 59.48\n",
      "Epoch  12/100 Batch  260/568 - Loss:  1.304, Seconds: 65.73\n",
      "Epoch  12/100 Batch  280/568 - Loss:  1.298, Seconds: 84.26\n",
      "Epoch  12/100 Batch  300/568 - Loss:  1.324, Seconds: 78.85\n",
      "Epoch  12/100 Batch  320/568 - Loss:  1.287, Seconds: 85.32\n",
      "Epoch  12/100 Batch  340/568 - Loss:  1.377, Seconds: 71.10\n",
      "Epoch  12/100 Batch  360/568 - Loss:  1.413, Seconds: 71.61\n",
      "('Average loss for this update:', 1.31)\n",
      "No Improvement.\n",
      "Epoch  12/100 Batch  380/568 - Loss:  1.361, Seconds: 83.97\n",
      "Epoch  12/100 Batch  400/568 - Loss:  1.406, Seconds: 79.71\n",
      "Epoch  12/100 Batch  420/568 - Loss:  1.421, Seconds: 87.20\n",
      "Epoch  12/100 Batch  440/568 - Loss:  1.420, Seconds: 77.51\n",
      "Epoch  12/100 Batch  460/568 - Loss:  1.503, Seconds: 96.89\n",
      "Epoch  12/100 Batch  480/568 - Loss:  1.514, Seconds: 82.21\n",
      "Epoch  12/100 Batch  500/568 - Loss:  1.540, Seconds: 103.30\n",
      "Epoch  12/100 Batch  520/568 - Loss:  1.533, Seconds: 94.14\n",
      "Epoch  12/100 Batch  540/568 - Loss:  1.572, Seconds: 105.99\n",
      "Epoch  12/100 Batch  560/568 - Loss:  1.653, Seconds: 112.14\n",
      "('Average loss for this update:', 1.508)\n",
      "No Improvement.\n",
      "Epoch  13/100 Batch   20/568 - Loss:  1.253, Seconds: 62.75\n",
      "Epoch  13/100 Batch   40/568 - Loss:  1.115, Seconds: 52.92\n",
      "Epoch  13/100 Batch   60/568 - Loss:  1.147, Seconds: 53.31\n",
      "Epoch  13/100 Batch   80/568 - Loss:  1.130, Seconds: 60.16\n",
      "Epoch  13/100 Batch  100/568 - Loss:  1.129, Seconds: 70.82\n",
      "Epoch  13/100 Batch  120/568 - Loss:  1.119, Seconds: 60.54\n",
      "Epoch  13/100 Batch  140/568 - Loss:  1.092, Seconds: 66.55\n",
      "Epoch  13/100 Batch  160/568 - Loss:  1.125, Seconds: 78.20\n",
      "Epoch  13/100 Batch  180/568 - Loss:  1.162, Seconds: 67.99\n",
      "('Average loss for this update:', 1.144)\n",
      "New Record!\n",
      "Epoch  13/100 Batch  200/568 - Loss:  1.173, Seconds: 68.84\n",
      "Epoch  13/100 Batch  220/568 - Loss:  1.207, Seconds: 53.24\n",
      "Epoch  13/100 Batch  240/568 - Loss:  1.182, Seconds: 59.32\n",
      "Epoch  13/100 Batch  260/568 - Loss:  1.233, Seconds: 66.25\n",
      "Epoch  13/100 Batch  280/568 - Loss:  1.250, Seconds: 83.19\n",
      "Epoch  13/100 Batch  300/568 - Loss:  1.269, Seconds: 78.14\n",
      "Epoch  13/100 Batch  320/568 - Loss:  1.239, Seconds: 85.61\n",
      "Epoch  13/100 Batch  340/568 - Loss:  1.321, Seconds: 69.91\n",
      "Epoch  13/100 Batch  360/568 - Loss:  1.354, Seconds: 71.92\n",
      "('Average loss for this update:', 1.255)\n",
      "No Improvement.\n",
      "Epoch  13/100 Batch  380/568 - Loss:  1.313, Seconds: 84.27\n",
      "Epoch  13/100 Batch  400/568 - Loss:  1.354, Seconds: 79.72\n",
      "Epoch  13/100 Batch  420/568 - Loss:  1.378, Seconds: 87.28\n",
      "Epoch  13/100 Batch  440/568 - Loss:  1.382, Seconds: 77.98\n",
      "Epoch  13/100 Batch  460/568 - Loss:  1.466, Seconds: 97.25\n",
      "Epoch  13/100 Batch  480/568 - Loss:  1.450, Seconds: 82.12\n",
      "Epoch  13/100 Batch  500/568 - Loss:  1.493, Seconds: 102.83\n",
      "Epoch  13/100 Batch  520/568 - Loss:  1.481, Seconds: 94.22\n",
      "Epoch  13/100 Batch  540/568 - Loss:  1.530, Seconds: 105.62\n",
      "Epoch  13/100 Batch  560/568 - Loss:  1.596, Seconds: 111.39\n",
      "('Average loss for this update:', 1.46)\n",
      "No Improvement.\n",
      "Epoch  14/100 Batch   20/568 - Loss:  1.207, Seconds: 62.21\n",
      "Epoch  14/100 Batch   40/568 - Loss:  1.079, Seconds: 53.29\n",
      "Epoch  14/100 Batch   60/568 - Loss:  1.104, Seconds: 53.27\n",
      "Epoch  14/100 Batch   80/568 - Loss:  1.082, Seconds: 59.36\n",
      "Epoch  14/100 Batch  100/568 - Loss:  1.083, Seconds: 70.39\n",
      "Epoch  14/100 Batch  120/568 - Loss:  1.073, Seconds: 60.87\n",
      "Epoch  14/100 Batch  140/568 - Loss:  1.057, Seconds: 66.55\n",
      "Epoch  14/100 Batch  160/568 - Loss:  1.081, Seconds: 78.35\n",
      "Epoch  14/100 Batch  180/568 - Loss:  1.117, Seconds: 68.38\n",
      "('Average loss for this update:', 1.101)\n",
      "New Record!\n",
      "Epoch  14/100 Batch  200/568 - Loss:  1.133, Seconds: 68.97\n"
     ]
    },
    {
     "name": "stdout",
     "output_type": "stream",
     "text": [
      "Epoch  14/100 Batch  220/568 - Loss:  1.149, Seconds: 52.91\n",
      "Epoch  14/100 Batch  240/568 - Loss:  1.129, Seconds: 58.94\n",
      "Epoch  14/100 Batch  260/568 - Loss:  1.200, Seconds: 65.72\n",
      "Epoch  14/100 Batch  280/568 - Loss:  1.201, Seconds: 83.98\n",
      "Epoch  14/100 Batch  300/568 - Loss:  1.235, Seconds: 78.84\n",
      "Epoch  14/100 Batch  320/568 - Loss:  1.186, Seconds: 85.69\n",
      "Epoch  14/100 Batch  340/568 - Loss:  1.278, Seconds: 69.69\n",
      "Epoch  14/100 Batch  360/568 - Loss:  1.281, Seconds: 71.73\n",
      "('Average loss for this update:', 1.207)\n",
      "No Improvement.\n",
      "Epoch  14/100 Batch  380/568 - Loss:  1.286, Seconds: 84.84\n",
      "Epoch  14/100 Batch  400/568 - Loss:  1.306, Seconds: 79.81\n",
      "Epoch  14/100 Batch  420/568 - Loss:  1.334, Seconds: 88.08\n",
      "Epoch  14/100 Batch  440/568 - Loss:  1.336, Seconds: 78.21\n",
      "Epoch  14/100 Batch  460/568 - Loss:  1.415, Seconds: 97.46\n",
      "Epoch  14/100 Batch  480/568 - Loss:  1.394, Seconds: 82.15\n",
      "Epoch  14/100 Batch  500/568 - Loss:  1.449, Seconds: 103.57\n",
      "Epoch  14/100 Batch  520/568 - Loss:  1.438, Seconds: 94.38\n",
      "Epoch  14/100 Batch  540/568 - Loss:  1.472, Seconds: 106.51\n",
      "Epoch  14/100 Batch  560/568 - Loss:  1.545, Seconds: 111.95\n",
      "('Average loss for this update:', 1.412)\n",
      "No Improvement.\n",
      "Epoch  15/100 Batch   20/568 - Loss:  1.152, Seconds: 61.86\n",
      "Epoch  15/100 Batch   40/568 - Loss:  1.029, Seconds: 53.52\n",
      "Epoch  15/100 Batch   60/568 - Loss:  1.074, Seconds: 53.67\n",
      "Epoch  15/100 Batch   80/568 - Loss:  1.044, Seconds: 59.75\n",
      "Epoch  15/100 Batch  100/568 - Loss:  1.051, Seconds: 70.70\n",
      "Epoch  15/100 Batch  120/568 - Loss:  1.019, Seconds: 60.99\n",
      "Epoch  15/100 Batch  140/568 - Loss:  1.006, Seconds: 66.52\n",
      "Epoch  15/100 Batch  160/568 - Loss:  1.043, Seconds: 78.23\n",
      "Epoch  15/100 Batch  180/568 - Loss:  1.076, Seconds: 68.12\n",
      "('Average loss for this update:', 1.058)\n",
      "New Record!\n",
      "Epoch  15/100 Batch  200/568 - Loss:  1.094, Seconds: 69.03\n",
      "Epoch  15/100 Batch  220/568 - Loss:  1.105, Seconds: 52.81\n",
      "Epoch  15/100 Batch  240/568 - Loss:  1.092, Seconds: 59.22\n",
      "Epoch  15/100 Batch  260/568 - Loss:  1.147, Seconds: 65.79\n",
      "Epoch  15/100 Batch  280/568 - Loss:  1.159, Seconds: 83.97\n",
      "Epoch  15/100 Batch  300/568 - Loss:  1.199, Seconds: 78.36\n",
      "Epoch  15/100 Batch  320/568 - Loss:  1.147, Seconds: 85.41\n",
      "Epoch  15/100 Batch  340/568 - Loss:  1.241, Seconds: 69.89\n",
      "Epoch  15/100 Batch  360/568 - Loss:  1.258, Seconds: 71.17\n",
      "('Average loss for this update:', 1.168)\n",
      "No Improvement.\n",
      "Epoch  15/100 Batch  380/568 - Loss:  1.241, Seconds: 83.77\n",
      "Epoch  15/100 Batch  400/568 - Loss:  1.264, Seconds: 79.94\n",
      "Epoch  15/100 Batch  420/568 - Loss:  1.288, Seconds: 86.73\n",
      "Epoch  15/100 Batch  440/568 - Loss:  1.297, Seconds: 77.62\n",
      "Epoch  15/100 Batch  460/568 - Loss:  1.365, Seconds: 97.61\n",
      "Epoch  15/100 Batch  480/568 - Loss:  1.348, Seconds: 81.96\n",
      "Epoch  15/100 Batch  500/568 - Loss:  1.401, Seconds: 103.55\n",
      "Epoch  15/100 Batch  520/568 - Loss:  1.409, Seconds: 94.34\n",
      "Epoch  15/100 Batch  540/568 - Loss:  1.431, Seconds: 105.48\n",
      "Epoch  15/100 Batch  560/568 - Loss:  1.493, Seconds: 111.84\n",
      "('Average loss for this update:', 1.369)\n",
      "No Improvement.\n",
      "Epoch  16/100 Batch   20/568 - Loss:  1.082, Seconds: 62.15\n",
      "Epoch  16/100 Batch   40/568 - Loss:  0.989, Seconds: 53.28\n",
      "Epoch  16/100 Batch   60/568 - Loss:  1.027, Seconds: 53.71\n",
      "Epoch  16/100 Batch   80/568 - Loss:  0.994, Seconds: 59.50\n",
      "Epoch  16/100 Batch  100/568 - Loss:  1.002, Seconds: 70.80\n",
      "Epoch  16/100 Batch  120/568 - Loss:  0.983, Seconds: 60.34\n",
      "Epoch  16/100 Batch  140/568 - Loss:  0.974, Seconds: 66.70\n",
      "Epoch  16/100 Batch  160/568 - Loss:  1.005, Seconds: 78.31\n",
      "Epoch  16/100 Batch  180/568 - Loss:  1.020, Seconds: 69.18\n",
      "('Average loss for this update:', 1.012)\n",
      "New Record!\n",
      "Epoch  16/100 Batch  200/568 - Loss:  1.051, Seconds: 68.93\n",
      "Epoch  16/100 Batch  220/568 - Loss:  1.064, Seconds: 53.37\n",
      "Epoch  16/100 Batch  240/568 - Loss:  1.042, Seconds: 59.75\n",
      "Epoch  16/100 Batch  260/568 - Loss:  1.112, Seconds: 66.21\n",
      "Epoch  16/100 Batch  280/568 - Loss:  1.102, Seconds: 83.35\n",
      "Epoch  16/100 Batch  300/568 - Loss:  1.162, Seconds: 78.82\n",
      "Epoch  16/100 Batch  320/568 - Loss:  1.116, Seconds: 85.14\n",
      "Epoch  16/100 Batch  340/568 - Loss:  1.198, Seconds: 69.91\n",
      "Epoch  16/100 Batch  360/568 - Loss:  1.218, Seconds: 71.21\n",
      "('Average loss for this update:', 1.125)\n",
      "No Improvement.\n",
      "Epoch  16/100 Batch  380/568 - Loss:  1.193, Seconds: 83.69\n",
      "Epoch  16/100 Batch  400/568 - Loss:  1.228, Seconds: 79.57\n",
      "Epoch  16/100 Batch  420/568 - Loss:  1.242, Seconds: 86.74\n",
      "Epoch  16/100 Batch  440/568 - Loss:  1.257, Seconds: 77.52\n",
      "Epoch  16/100 Batch  460/568 - Loss:  1.339, Seconds: 96.22\n",
      "Epoch  16/100 Batch  480/568 - Loss:  1.310, Seconds: 81.40\n",
      "Epoch  16/100 Batch  500/568 - Loss:  1.366, Seconds: 103.27\n",
      "Epoch  16/100 Batch  520/568 - Loss:  1.353, Seconds: 94.86\n",
      "Epoch  16/100 Batch  540/568 - Loss:  1.387, Seconds: 105.95\n",
      "Epoch  16/100 Batch  560/568 - Loss:  1.455, Seconds: 111.76\n",
      "('Average loss for this update:', 1.329)\n",
      "No Improvement.\n",
      "Epoch  17/100 Batch   20/568 - Loss:  1.060, Seconds: 62.86\n",
      "Epoch  17/100 Batch   40/568 - Loss:  0.961, Seconds: 52.79\n",
      "Epoch  17/100 Batch   60/568 - Loss:  0.995, Seconds: 53.87\n",
      "Epoch  17/100 Batch   80/568 - Loss:  0.961, Seconds: 59.85\n",
      "Epoch  17/100 Batch  100/568 - Loss:  0.966, Seconds: 70.73\n",
      "Epoch  17/100 Batch  120/568 - Loss:  0.953, Seconds: 60.67\n",
      "Epoch  17/100 Batch  140/568 - Loss:  0.944, Seconds: 66.72\n",
      "Epoch  17/100 Batch  160/568 - Loss:  0.967, Seconds: 78.43\n",
      "Epoch  17/100 Batch  180/568 - Loss:  1.001, Seconds: 67.84\n",
      "('Average loss for this update:', 0.982)\n",
      "New Record!\n",
      "Epoch  17/100 Batch  200/568 - Loss:  1.029, Seconds: 68.92\n",
      "Epoch  17/100 Batch  220/568 - Loss:  1.034, Seconds: 53.53\n",
      "Epoch  17/100 Batch  240/568 - Loss:  1.017, Seconds: 59.49\n",
      "Epoch  17/100 Batch  260/568 - Loss:  1.084, Seconds: 65.66\n",
      "Epoch  17/100 Batch  280/568 - Loss:  1.071, Seconds: 83.52\n",
      "Epoch  17/100 Batch  300/568 - Loss:  1.109, Seconds: 78.93\n",
      "Epoch  17/100 Batch  320/568 - Loss:  1.073, Seconds: 85.63\n",
      "Epoch  17/100 Batch  340/568 - Loss:  1.169, Seconds: 69.98\n",
      "Epoch  17/100 Batch  360/568 - Loss:  1.186, Seconds: 71.59\n",
      "('Average loss for this update:', 1.093)\n",
      "No Improvement.\n",
      "Epoch  17/100 Batch  380/568 - Loss:  1.158, Seconds: 84.05\n",
      "Epoch  17/100 Batch  400/568 - Loss:  1.193, Seconds: 80.04\n",
      "Epoch  17/100 Batch  420/568 - Loss:  1.204, Seconds: 86.45\n",
      "Epoch  17/100 Batch  440/568 - Loss:  1.222, Seconds: 77.87\n",
      "Epoch  17/100 Batch  460/568 - Loss:  1.285, Seconds: 96.86\n",
      "Epoch  17/100 Batch  480/568 - Loss:  1.265, Seconds: 82.09\n",
      "Epoch  17/100 Batch  500/568 - Loss:  1.336, Seconds: 103.54\n",
      "Epoch  17/100 Batch  520/568 - Loss:  1.331, Seconds: 94.01\n",
      "Epoch  17/100 Batch  540/568 - Loss:  1.355, Seconds: 105.44\n",
      "Epoch  17/100 Batch  560/568 - Loss:  1.420, Seconds: 112.18\n",
      "('Average loss for this update:', 1.292)\n",
      "No Improvement.\n",
      "Epoch  18/100 Batch   20/568 - Loss:  1.035, Seconds: 62.43\n",
      "Epoch  18/100 Batch   40/568 - Loss:  0.929, Seconds: 52.62\n",
      "Epoch  18/100 Batch   60/568 - Loss:  0.965, Seconds: 75.60\n",
      "Epoch  18/100 Batch   80/568 - Loss:  0.928, Seconds: 59.77\n",
      "Epoch  18/100 Batch  100/568 - Loss:  0.926, Seconds: 70.19\n",
      "Epoch  18/100 Batch  120/568 - Loss:  0.926, Seconds: 60.60\n",
      "Epoch  18/100 Batch  140/568 - Loss:  0.922, Seconds: 67.33\n",
      "Epoch  18/100 Batch  160/568 - Loss:  0.939, Seconds: 77.38\n",
      "Epoch  18/100 Batch  180/568 - Loss:  0.970, Seconds: 67.88\n",
      "('Average loss for this update:', 0.953)\n",
      "New Record!\n",
      "Epoch  18/100 Batch  200/568 - Loss:  0.991, Seconds: 69.06\n",
      "Epoch  18/100 Batch  220/568 - Loss:  1.004, Seconds: 53.51\n",
      "Epoch  18/100 Batch  240/568 - Loss:  0.984, Seconds: 59.71\n",
      "Epoch  18/100 Batch  260/568 - Loss:  1.037, Seconds: 65.94\n",
      "Epoch  18/100 Batch  280/568 - Loss:  1.046, Seconds: 83.85\n",
      "Epoch  18/100 Batch  300/568 - Loss:  1.077, Seconds: 79.93\n",
      "Epoch  18/100 Batch  320/568 - Loss:  1.054, Seconds: 85.83\n",
      "Epoch  18/100 Batch  340/568 - Loss:  1.130, Seconds: 70.57\n",
      "Epoch  18/100 Batch  360/568 - Loss:  1.158, Seconds: 71.37\n",
      "('Average loss for this update:', 1.059)\n",
      "No Improvement.\n",
      "Epoch  18/100 Batch  380/568 - Loss:  1.126, Seconds: 83.91\n",
      "Epoch  18/100 Batch  400/568 - Loss:  1.165, Seconds: 80.05\n",
      "Epoch  18/100 Batch  420/568 - Loss:  1.168, Seconds: 87.18\n",
      "Epoch  18/100 Batch  440/568 - Loss:  1.191, Seconds: 77.99\n",
      "Epoch  18/100 Batch  460/568 - Loss:  1.250, Seconds: 96.76\n"
     ]
    },
    {
     "name": "stdout",
     "output_type": "stream",
     "text": [
      "Epoch  18/100 Batch  480/568 - Loss:  1.238, Seconds: 82.21\n",
      "Epoch  18/100 Batch  500/568 - Loss:  1.292, Seconds: 103.67\n",
      "Epoch  18/100 Batch  520/568 - Loss:  1.284, Seconds: 94.78\n",
      "Epoch  18/100 Batch  540/568 - Loss:  1.328, Seconds: 106.12\n",
      "Epoch  18/100 Batch  560/568 - Loss:  1.386, Seconds: 112.16\n",
      "('Average loss for this update:', 1.259)\n",
      "No Improvement.\n",
      "Epoch  19/100 Batch   20/568 - Loss:  0.991, Seconds: 62.28\n",
      "Epoch  19/100 Batch   40/568 - Loss:  0.904, Seconds: 53.34\n",
      "Epoch  19/100 Batch   60/568 - Loss:  0.939, Seconds: 53.64\n",
      "Epoch  19/100 Batch   80/568 - Loss:  0.906, Seconds: 59.85\n",
      "Epoch  19/100 Batch  100/568 - Loss:  0.897, Seconds: 70.59\n",
      "Epoch  19/100 Batch  120/568 - Loss:  0.887, Seconds: 60.35\n",
      "Epoch  19/100 Batch  140/568 - Loss:  0.885, Seconds: 67.22\n",
      "Epoch  19/100 Batch  160/568 - Loss:  0.918, Seconds: 78.18\n",
      "Epoch  19/100 Batch  180/568 - Loss:  0.927, Seconds: 67.68\n",
      "('Average loss for this update:', 0.92)\n",
      "New Record!\n",
      "Epoch  19/100 Batch  200/568 - Loss:  0.953, Seconds: 68.44\n",
      "Epoch  19/100 Batch  220/568 - Loss:  0.969, Seconds: 53.16\n",
      "Epoch  19/100 Batch  240/568 - Loss:  0.954, Seconds: 59.32\n",
      "Epoch  19/100 Batch  260/568 - Loss:  1.005, Seconds: 66.75\n"
     ]
    },
    {
     "ename": "KeyboardInterrupt",
     "evalue": "",
     "output_type": "error",
     "traceback": [
      "\u001b[0;31m---------------------------------------------------------------------------\u001b[0m",
      "\u001b[0;31mKeyboardInterrupt\u001b[0m                         Traceback (most recent call last)",
      "\u001b[0;32m<ipython-input-81-00d9c501c660>\u001b[0m in \u001b[0;36m<module>\u001b[0;34m()\u001b[0m\n\u001b[1;32m     33\u001b[0m                  \u001b[0msummary_length\u001b[0m\u001b[0;34m:\u001b[0m \u001b[0msummaries_lengths\u001b[0m\u001b[0;34m,\u001b[0m\u001b[0;34m\u001b[0m\u001b[0m\n\u001b[1;32m     34\u001b[0m                  \u001b[0mtext_length\u001b[0m\u001b[0;34m:\u001b[0m \u001b[0mtexts_lengths\u001b[0m\u001b[0;34m,\u001b[0m\u001b[0;34m\u001b[0m\u001b[0m\n\u001b[0;32m---> 35\u001b[0;31m                  keep_prob: keep_probability})\n\u001b[0m\u001b[1;32m     36\u001b[0m \u001b[0;34m\u001b[0m\u001b[0m\n\u001b[1;32m     37\u001b[0m             \u001b[0mbatch_loss\u001b[0m \u001b[0;34m+=\u001b[0m \u001b[0mloss\u001b[0m\u001b[0;34m\u001b[0m\u001b[0m\n",
      "\u001b[0;32m/usr/local/lib/python2.7/dist-packages/tensorflow/python/client/session.pyc\u001b[0m in \u001b[0;36mrun\u001b[0;34m(self, fetches, feed_dict, options, run_metadata)\u001b[0m\n\u001b[1;32m    787\u001b[0m     \u001b[0;32mtry\u001b[0m\u001b[0;34m:\u001b[0m\u001b[0;34m\u001b[0m\u001b[0m\n\u001b[1;32m    788\u001b[0m       result = self._run(None, fetches, feed_dict, options_ptr,\n\u001b[0;32m--> 789\u001b[0;31m                          run_metadata_ptr)\n\u001b[0m\u001b[1;32m    790\u001b[0m       \u001b[0;32mif\u001b[0m \u001b[0mrun_metadata\u001b[0m\u001b[0;34m:\u001b[0m\u001b[0;34m\u001b[0m\u001b[0m\n\u001b[1;32m    791\u001b[0m         \u001b[0mproto_data\u001b[0m \u001b[0;34m=\u001b[0m \u001b[0mtf_session\u001b[0m\u001b[0;34m.\u001b[0m\u001b[0mTF_GetBuffer\u001b[0m\u001b[0;34m(\u001b[0m\u001b[0mrun_metadata_ptr\u001b[0m\u001b[0;34m)\u001b[0m\u001b[0;34m\u001b[0m\u001b[0m\n",
      "\u001b[0;32m/usr/local/lib/python2.7/dist-packages/tensorflow/python/client/session.pyc\u001b[0m in \u001b[0;36m_run\u001b[0;34m(self, handle, fetches, feed_dict, options, run_metadata)\u001b[0m\n\u001b[1;32m    995\u001b[0m     \u001b[0;32mif\u001b[0m \u001b[0mfinal_fetches\u001b[0m \u001b[0;32mor\u001b[0m \u001b[0mfinal_targets\u001b[0m\u001b[0;34m:\u001b[0m\u001b[0;34m\u001b[0m\u001b[0m\n\u001b[1;32m    996\u001b[0m       results = self._do_run(handle, final_targets, final_fetches,\n\u001b[0;32m--> 997\u001b[0;31m                              feed_dict_string, options, run_metadata)\n\u001b[0m\u001b[1;32m    998\u001b[0m     \u001b[0;32melse\u001b[0m\u001b[0;34m:\u001b[0m\u001b[0;34m\u001b[0m\u001b[0m\n\u001b[1;32m    999\u001b[0m       \u001b[0mresults\u001b[0m \u001b[0;34m=\u001b[0m \u001b[0;34m[\u001b[0m\u001b[0;34m]\u001b[0m\u001b[0;34m\u001b[0m\u001b[0m\n",
      "\u001b[0;32m/usr/local/lib/python2.7/dist-packages/tensorflow/python/client/session.pyc\u001b[0m in \u001b[0;36m_do_run\u001b[0;34m(self, handle, target_list, fetch_list, feed_dict, options, run_metadata)\u001b[0m\n\u001b[1;32m   1130\u001b[0m     \u001b[0;32mif\u001b[0m \u001b[0mhandle\u001b[0m \u001b[0;32mis\u001b[0m \u001b[0mNone\u001b[0m\u001b[0;34m:\u001b[0m\u001b[0;34m\u001b[0m\u001b[0m\n\u001b[1;32m   1131\u001b[0m       return self._do_call(_run_fn, self._session, feed_dict, fetch_list,\n\u001b[0;32m-> 1132\u001b[0;31m                            target_list, options, run_metadata)\n\u001b[0m\u001b[1;32m   1133\u001b[0m     \u001b[0;32melse\u001b[0m\u001b[0;34m:\u001b[0m\u001b[0;34m\u001b[0m\u001b[0m\n\u001b[1;32m   1134\u001b[0m       return self._do_call(_prun_fn, self._session, handle, feed_dict,\n",
      "\u001b[0;32m/usr/local/lib/python2.7/dist-packages/tensorflow/python/client/session.pyc\u001b[0m in \u001b[0;36m_do_call\u001b[0;34m(self, fn, *args)\u001b[0m\n\u001b[1;32m   1137\u001b[0m   \u001b[0;32mdef\u001b[0m \u001b[0m_do_call\u001b[0m\u001b[0;34m(\u001b[0m\u001b[0mself\u001b[0m\u001b[0;34m,\u001b[0m \u001b[0mfn\u001b[0m\u001b[0;34m,\u001b[0m \u001b[0;34m*\u001b[0m\u001b[0margs\u001b[0m\u001b[0;34m)\u001b[0m\u001b[0;34m:\u001b[0m\u001b[0;34m\u001b[0m\u001b[0m\n\u001b[1;32m   1138\u001b[0m     \u001b[0;32mtry\u001b[0m\u001b[0;34m:\u001b[0m\u001b[0;34m\u001b[0m\u001b[0m\n\u001b[0;32m-> 1139\u001b[0;31m       \u001b[0;32mreturn\u001b[0m \u001b[0mfn\u001b[0m\u001b[0;34m(\u001b[0m\u001b[0;34m*\u001b[0m\u001b[0margs\u001b[0m\u001b[0;34m)\u001b[0m\u001b[0;34m\u001b[0m\u001b[0m\n\u001b[0m\u001b[1;32m   1140\u001b[0m     \u001b[0;32mexcept\u001b[0m \u001b[0merrors\u001b[0m\u001b[0;34m.\u001b[0m\u001b[0mOpError\u001b[0m \u001b[0;32mas\u001b[0m \u001b[0me\u001b[0m\u001b[0;34m:\u001b[0m\u001b[0;34m\u001b[0m\u001b[0m\n\u001b[1;32m   1141\u001b[0m       \u001b[0mmessage\u001b[0m \u001b[0;34m=\u001b[0m \u001b[0mcompat\u001b[0m\u001b[0;34m.\u001b[0m\u001b[0mas_text\u001b[0m\u001b[0;34m(\u001b[0m\u001b[0me\u001b[0m\u001b[0;34m.\u001b[0m\u001b[0mmessage\u001b[0m\u001b[0;34m)\u001b[0m\u001b[0;34m\u001b[0m\u001b[0m\n",
      "\u001b[0;32m/usr/local/lib/python2.7/dist-packages/tensorflow/python/client/session.pyc\u001b[0m in \u001b[0;36m_run_fn\u001b[0;34m(session, feed_dict, fetch_list, target_list, options, run_metadata)\u001b[0m\n\u001b[1;32m   1119\u001b[0m         return tf_session.TF_Run(session, options,\n\u001b[1;32m   1120\u001b[0m                                  \u001b[0mfeed_dict\u001b[0m\u001b[0;34m,\u001b[0m \u001b[0mfetch_list\u001b[0m\u001b[0;34m,\u001b[0m \u001b[0mtarget_list\u001b[0m\u001b[0;34m,\u001b[0m\u001b[0;34m\u001b[0m\u001b[0m\n\u001b[0;32m-> 1121\u001b[0;31m                                  status, run_metadata)\n\u001b[0m\u001b[1;32m   1122\u001b[0m \u001b[0;34m\u001b[0m\u001b[0m\n\u001b[1;32m   1123\u001b[0m     \u001b[0;32mdef\u001b[0m \u001b[0m_prun_fn\u001b[0m\u001b[0;34m(\u001b[0m\u001b[0msession\u001b[0m\u001b[0;34m,\u001b[0m \u001b[0mhandle\u001b[0m\u001b[0;34m,\u001b[0m \u001b[0mfeed_dict\u001b[0m\u001b[0;34m,\u001b[0m \u001b[0mfetch_list\u001b[0m\u001b[0;34m)\u001b[0m\u001b[0;34m:\u001b[0m\u001b[0;34m\u001b[0m\u001b[0m\n",
      "\u001b[0;31mKeyboardInterrupt\u001b[0m: "
     ]
    }
   ],
   "source": [
    "# Train the Model\n",
    "learning_rate_decay = 0.95\n",
    "min_learning_rate = 0.0005\n",
    "display_step = 20 # Check training loss after every 20 batches\n",
    "stop_early = 0 \n",
    "stop = 3 # If the update loss does not decrease in 3 consecutive update checks, stop training\n",
    "per_epoch = 3 # Make 3 update checks per epoch\n",
    "update_check = (len(sorted_texts_short)//batch_size//per_epoch)-1\n",
    "\n",
    "update_loss = 0 \n",
    "batch_loss = 0\n",
    "summary_update_loss = [] # Record the update losses for saving improvements in the model\n",
    "\n",
    "checkpoint = \"best_model.ckpt\" \n",
    "with tf.Session(graph=train_graph) as sess:\n",
    "    sess.run(tf.global_variables_initializer())\n",
    "    \n",
    "    # If we want to continue training a previous session\n",
    "    #loader = tf.train.import_meta_graph(\"./\" + checkpoint + '.meta')\n",
    "    #loader.restore(sess, checkpoint)\n",
    "    \n",
    "    for epoch_i in range(1, epochs+1):\n",
    "        update_loss = 0\n",
    "        batch_loss = 0\n",
    "        for batch_i, (summaries_batch, texts_batch, summaries_lengths, texts_lengths) in enumerate(\n",
    "                get_batches(sorted_summaries_short, sorted_texts_short, batch_size)):\n",
    "            start_time = time.time()\n",
    "            _, loss = sess.run(\n",
    "                [train_op, cost],\n",
    "                {input_data: texts_batch,\n",
    "                 targets: summaries_batch,\n",
    "                 lr: learning_rate,\n",
    "                 summary_length: summaries_lengths,\n",
    "                 text_length: texts_lengths,\n",
    "                 keep_prob: keep_probability})\n",
    "\n",
    "            batch_loss += loss\n",
    "            update_loss += loss\n",
    "            end_time = time.time()\n",
    "            batch_time = end_time - start_time\n",
    "\n",
    "            if batch_i % display_step == 0 and batch_i > 0:\n",
    "                print('Epoch {:>3}/{} Batch {:>4}/{} - Loss: {:>6.3f}, Seconds: {:>4.2f}'\n",
    "                      .format(epoch_i,\n",
    "                              epochs, \n",
    "                              batch_i, \n",
    "                              len(sorted_texts_short) // batch_size, \n",
    "                              batch_loss / display_step, \n",
    "                              batch_time*display_step))\n",
    "                batch_loss = 0\n",
    "\n",
    "            if batch_i % update_check == 0 and batch_i > 0:\n",
    "                print(\"Average loss for this update:\", round(update_loss/update_check,3))\n",
    "                summary_update_loss.append(update_loss)\n",
    "                \n",
    "                # If the update loss is at a new minimum, save the model\n",
    "                if update_loss <= min(summary_update_loss):\n",
    "                    print('New Record!') \n",
    "                    stop_early = 0\n",
    "                    saver = tf.train.Saver() \n",
    "                    saver.save(sess, checkpoint)\n",
    "\n",
    "                else:\n",
    "                    print(\"No Improvement.\")\n",
    "                    stop_early += 1\n",
    "                    if stop_early == stop:\n",
    "                        break\n",
    "                update_loss = 0\n",
    "            \n",
    "                    \n",
    "        # Reduce learning rate, but not below its minimum value\n",
    "        learning_rate *= learning_rate_decay\n",
    "        if learning_rate < min_learning_rate:\n",
    "            learning_rate = min_learning_rate\n",
    "        \n",
    "        if stop_early == stop:\n",
    "            print(\"Stopping Training.\")\n",
    "            break"
   ]
  },
  {
   "cell_type": "markdown",
   "metadata": {},
   "source": [
    "## Making Our Own Summaries"
   ]
  },
  {
   "cell_type": "markdown",
   "metadata": {},
   "source": [
    "To see the quality of the summaries that this model can generate, you can either create your own review, or use a review from the dataset. You can set the length of the summary to a fixed value, or use a random value like I have here."
   ]
  },
  {
   "cell_type": "code",
   "execution_count": 19,
   "metadata": {},
   "outputs": [],
   "source": [
    "def text_to_seq(text):\n",
    "    '''Prepare the text for the model'''\n",
    "    \n",
    "    text = clean_text(text)\n",
    "    return [vocab_to_int.get(word, vocab_to_int['<UNK>']) for word in text.split()]"
   ]
  },
  {
   "cell_type": "code",
   "execution_count": 45,
   "metadata": {},
   "outputs": [
    {
     "name": "stdout",
     "output_type": "stream",
     "text": [
      "INFO:tensorflow:Restoring parameters from ./best_model.ckpt\n",
      "('Original Text:', 'wonderful assortment chocolate nuggets great value money hershey chocolates creamy almonds huge toffee pieces tasty plentiful well')\n",
      "\n",
      "Text\n",
      "  Word Ids:    [18399, 18553, 14043, 2812, 24485, 13291, 20002, 14185, 16833, 27345, 24815, 1103, 25618, 24534, 6659, 9682, 19017]\n",
      "  Input Words: wonderful assortment chocolate nuggets great value money hershey chocolates creamy almonds huge toffee pieces tasty plentiful well\n",
      "\n",
      "Summary\n",
      "  Word Ids:       [17449, 14177, 10191]\n",
      "  Response Words: delicious and waxy\n"
     ]
    }
   ],
   "source": [
    "# Create your own review or use one from the dataset\n",
    "#input_sentence = \"I have never eaten an apple before, but this red one was nice. \\\n",
    "                  #I think that I will try a green apple next time.\"\n",
    "#text = text_to_seq(input_sentence)\n",
    "random = np.random.randint(0,len(clean_texts))\n",
    "input_sentence = clean_texts[random]\n",
    "text = text_to_seq(clean_texts[random])\n",
    "\n",
    "checkpoint = \"./best_model.ckpt\"\n",
    "\n",
    "loaded_graph = tf.Graph()\n",
    "with tf.Session(graph=loaded_graph) as sess:\n",
    "    # Load saved model\n",
    "    loader = tf.train.import_meta_graph(checkpoint + '.meta')\n",
    "    loader.restore(sess, checkpoint)\n",
    "\n",
    "    input_data = loaded_graph.get_tensor_by_name('input:0')\n",
    "    logits = loaded_graph.get_tensor_by_name('predictions:0')\n",
    "    text_length = loaded_graph.get_tensor_by_name('text_length:0')\n",
    "    summary_length = loaded_graph.get_tensor_by_name('summary_length:0')\n",
    "    keep_prob = loaded_graph.get_tensor_by_name('keep_prob:0')\n",
    "    \n",
    "    #Multiply by batch_size to match the model's input parameters\n",
    "    answer_logits = sess.run(logits, {input_data: [text]*batch_size, \n",
    "                                      summary_length: [np.random.randint(5,8)], \n",
    "                                      text_length: [len(text)]*batch_size,\n",
    "                                      keep_prob: 1.0})[0] \n",
    "\n",
    "# Remove the padding from the tweet\n",
    "pad = vocab_to_int[\"<PAD>\"] \n",
    "\n",
    "print('Original Text:', input_sentence)\n",
    "\n",
    "print('\\nText')\n",
    "print('  Word Ids:    {}'.format([i for i in text]))\n",
    "print('  Input Words: {}'.format(\" \".join([int_to_vocab[i] for i in text])))\n",
    "\n",
    "print('\\nSummary')\n",
    "print('  Word Ids:       {}'.format([i for i in answer_logits if i != pad]))\n",
    "print('  Response Words: {}'.format(\" \".join([int_to_vocab[i] for i in answer_logits if i != pad])))"
   ]
  },
  {
   "cell_type": "markdown",
   "metadata": {
    "collapsed": true
   },
   "source": [
    "Examples of reviews and summaries:\n",
    "- Review(1): The coffee tasted great and was at such a good price! I highly recommend this to everyone!\n",
    "- Summary(1): great coffee\n",
    "\n",
    "\n",
    "- Review(2): This is the worst cheese that I have ever bought! I will never buy it again and I hope you won't either!\n",
    "- Summary(2): omg gross gross\n",
    "\n",
    "\n",
    "- Review(3): love individual oatmeal cups found years ago sam quit selling sound big lots quit selling found target expensive buy individually trilled get entire case time go anywhere need water microwave spoon know quaker flavor packets\n",
    "- Summary(3): love it"
   ]
  },
  {
   "cell_type": "markdown",
   "metadata": {},
   "source": [
    "## Summary"
   ]
  },
  {
   "cell_type": "markdown",
   "metadata": {},
   "source": [
    "I hope that you found this project to be rather interesting and informative. One of my main recommendations for working with this dataset and model is either use a GPU, a subset of the dataset, or plenty of time to train your model. As you might be able to expect, the model will not be able to make good predictions just by seeing many reviews, it needs so see the reviews many times to be able to understand the relationship between words and between descriptions & summaries. \n",
    "\n",
    "In short, I'm pleased with how well this model performs. After creating numerous reviews and checking those from the dataset, I can happily say that most of the generated summaries are appropriate, some of them are great, and some of them make mistakes. I'll try to improve this model and if it gets better, I'll update my GitHub.\n",
    "\n",
    "Thanks for reading!"
   ]
  },
  {
   "cell_type": "code",
   "execution_count": null,
   "metadata": {
    "collapsed": true
   },
   "outputs": [],
   "source": []
  }
 ],
 "metadata": {
  "anaconda-cloud": {},
  "kernelspec": {
   "display_name": "Python 2",
   "language": "python",
   "name": "python2"
  },
  "language_info": {
   "codemirror_mode": {
    "name": "ipython",
    "version": 2
   },
   "file_extension": ".py",
   "mimetype": "text/x-python",
   "name": "python",
   "nbconvert_exporter": "python",
   "pygments_lexer": "ipython2",
   "version": "2.7.12"
  }
 },
 "nbformat": 4,
 "nbformat_minor": 1
}
