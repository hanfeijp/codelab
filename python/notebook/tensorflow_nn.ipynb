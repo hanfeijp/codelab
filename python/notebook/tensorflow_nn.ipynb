{
 "cells": [
  {
   "cell_type": "code",
   "execution_count": 1,
   "metadata": {
    "collapsed": true
   },
   "outputs": [],
   "source": [
    "import matplotlib.pyplot as plt\n",
    "import tensorflow as tf\n",
    "from tensorflow.examples.tutorials.mnist import input_data\n",
    "\n",
    "%matplotlib inline"
   ]
  },
  {
   "cell_type": "code",
   "execution_count": 2,
   "metadata": {
    "collapsed": false
   },
   "outputs": [
    {
     "data": {
      "text/plain": [
       "'0.9.0'"
      ]
     },
     "execution_count": 2,
     "metadata": {},
     "output_type": "execute_result"
    }
   ],
   "source": [
    "tf.__version__"
   ]
  },
  {
   "cell_type": "markdown",
   "metadata": {},
   "source": [
    "# Load MNIST"
   ]
  },
  {
   "cell_type": "code",
   "execution_count": 3,
   "metadata": {
    "collapsed": false
   },
   "outputs": [
    {
     "name": "stdout",
     "output_type": "stream",
     "text": [
      "Extracting mnist/train-images-idx3-ubyte.gz\n",
      "Extracting mnist/train-labels-idx1-ubyte.gz\n",
      "Extracting mnist/t10k-images-idx3-ubyte.gz\n",
      "Extracting mnist/t10k-labels-idx1-ubyte.gz\n"
     ]
    }
   ],
   "source": [
    "mnist = input_data.read_data_sets('mnist', one_hot=True)\n",
    "image_size = 28 * 28\n",
    "num_classes = 10\n",
    "assert mnist.train.images.shape[1] == image_size\n",
    "assert mnist.train.labels.shape[1] == num_classes"
   ]
  },
  {
   "cell_type": "markdown",
   "metadata": {},
   "source": [
    "# Linear Logistic Regression"
   ]
  },
  {
   "cell_type": "code",
   "execution_count": 4,
   "metadata": {
    "collapsed": false,
    "scrolled": true
   },
   "outputs": [
    {
     "name": "stdout",
     "output_type": "stream",
     "text": [
      "step: 0, batch loss: 10.315619, train loss: 12.232466, train accuracy: 7.45%, validation loss: 12.376769, validation accuracy: 7.48%\n",
      "step: 1000, batch loss: 0.398619, train loss: 1.324386, train accuracy: 72.95%, validation loss: 1.281298, validation accuracy: 75.60%\n",
      "step: 2000, batch loss: 1.028669, train loss: 0.934611, train accuracy: 79.87%, validation loss: 0.914769, validation accuracy: 81.32%\n",
      "step: 3000, batch loss: 0.586172, train loss: 0.786268, train accuracy: 82.79%, validation loss: 0.768607, validation accuracy: 83.70%\n",
      "step: 4000, batch loss: 0.380030, train loss: 0.717456, train accuracy: 84.01%, validation loss: 0.709984, validation accuracy: 84.84%\n",
      "step: 5000, batch loss: 0.585375, train loss: 0.648079, train accuracy: 85.17%, validation loss: 0.632494, validation accuracy: 86.16%\n",
      "step: 6000, batch loss: 0.365921, train loss: 0.612381, train accuracy: 85.69%, validation loss: 0.603611, validation accuracy: 86.22%\n",
      "step: 7000, batch loss: 0.105980, train loss: 0.574791, train accuracy: 86.42%, validation loss: 0.571843, validation accuracy: 86.98%\n",
      "step: 8000, batch loss: 0.021492, train loss: 0.541212, train accuracy: 87.09%, validation loss: 0.534764, validation accuracy: 88.06%\n",
      "step: 9000, batch loss: 0.266055, train loss: 0.526106, train accuracy: 87.40%, validation loss: 0.530966, validation accuracy: 87.82%\n",
      "step: 10000, batch loss: 0.040239, train loss: 0.500304, train accuracy: 87.73%, validation loss: 0.493277, validation accuracy: 88.60%\n",
      "step: 11000, batch loss: 0.031686, train loss: 0.487383, train accuracy: 87.89%, validation loss: 0.489008, validation accuracy: 88.54%\n",
      "step: 12000, batch loss: 0.851616, train loss: 0.467428, train accuracy: 88.41%, validation loss: 0.468748, validation accuracy: 88.78%\n",
      "step: 13000, batch loss: 0.083847, train loss: 0.455736, train accuracy: 88.77%, validation loss: 0.461711, validation accuracy: 89.12%\n",
      "step: 14000, batch loss: 0.679243, train loss: 0.454929, train accuracy: 88.61%, validation loss: 0.454442, validation accuracy: 89.20%\n",
      "step: 15000, batch loss: 0.438960, train loss: 0.450466, train accuracy: 88.61%, validation loss: 0.449916, validation accuracy: 89.38%\n",
      "step: 16000, batch loss: 0.629555, train loss: 0.441383, train accuracy: 88.78%, validation loss: 0.444363, validation accuracy: 89.30%\n",
      "step: 17000, batch loss: 0.757836, train loss: 0.423531, train accuracy: 89.23%, validation loss: 0.426791, validation accuracy: 89.94%\n",
      "step: 18000, batch loss: 0.039433, train loss: 0.420775, train accuracy: 89.22%, validation loss: 0.427668, validation accuracy: 89.94%\n",
      "step: 19000, batch loss: 0.024773, train loss: 0.412281, train accuracy: 89.48%, validation loss: 0.420154, validation accuracy: 89.86%\n",
      "step: 20000, batch loss: 0.199742, train loss: 0.403492, train accuracy: 89.62%, validation loss: 0.410961, validation accuracy: 89.86%\n",
      "step: 21000, batch loss: 0.060561, train loss: 0.399942, train accuracy: 89.72%, validation loss: 0.403939, validation accuracy: 90.12%\n",
      "step: 22000, batch loss: 0.078289, train loss: 0.394502, train accuracy: 89.84%, validation loss: 0.408670, validation accuracy: 90.02%\n",
      "step: 23000, batch loss: 0.181766, train loss: 0.393653, train accuracy: 89.85%, validation loss: 0.398837, validation accuracy: 90.12%\n",
      "step: 24000, batch loss: 0.065694, train loss: 0.383298, train accuracy: 89.96%, validation loss: 0.394136, validation accuracy: 90.20%\n",
      "step: 25000, batch loss: 0.091653, train loss: 0.376877, train accuracy: 90.29%, validation loss: 0.386286, validation accuracy: 90.44%\n",
      "step: 26000, batch loss: 0.113835, train loss: 0.372010, train accuracy: 90.30%, validation loss: 0.379337, validation accuracy: 90.56%\n",
      "step: 27000, batch loss: 0.314741, train loss: 0.372608, train accuracy: 90.31%, validation loss: 0.384500, validation accuracy: 90.68%\n",
      "step: 28000, batch loss: 0.585565, train loss: 0.365840, train accuracy: 90.41%, validation loss: 0.380017, validation accuracy: 90.62%\n",
      "step: 29000, batch loss: 0.900997, train loss: 0.367852, train accuracy: 90.27%, validation loss: 0.376446, validation accuracy: 90.32%\n",
      "step: 30000, batch loss: 0.021327, train loss: 0.360908, train accuracy: 90.53%, validation loss: 0.374891, validation accuracy: 90.46%\n",
      "step: 31000, batch loss: 0.083092, train loss: 0.364192, train accuracy: 90.45%, validation loss: 0.374616, validation accuracy: 90.40%\n",
      "step: 32000, batch loss: 0.014458, train loss: 0.354326, train accuracy: 90.73%, validation loss: 0.368173, validation accuracy: 90.60%\n",
      "step: 33000, batch loss: 0.064707, train loss: 0.360313, train accuracy: 90.42%, validation loss: 0.372248, validation accuracy: 90.32%\n",
      "step: 34000, batch loss: 0.445821, train loss: 0.351900, train accuracy: 90.64%, validation loss: 0.363975, validation accuracy: 90.60%\n",
      "step: 35000, batch loss: 0.058556, train loss: 0.347554, train accuracy: 90.84%, validation loss: 0.356757, validation accuracy: 90.76%\n",
      "step: 36000, batch loss: 0.018404, train loss: 0.346086, train accuracy: 90.83%, validation loss: 0.359746, validation accuracy: 90.82%\n",
      "step: 37000, batch loss: 0.938500, train loss: 0.352822, train accuracy: 90.59%, validation loss: 0.366668, validation accuracy: 90.56%\n",
      "step: 38000, batch loss: 0.126090, train loss: 0.358092, train accuracy: 90.31%, validation loss: 0.374566, validation accuracy: 90.42%\n",
      "step: 39000, batch loss: 0.736637, train loss: 0.339287, train accuracy: 91.00%, validation loss: 0.356162, validation accuracy: 90.72%\n",
      "step: 40000, batch loss: 0.163276, train loss: 0.344386, train accuracy: 90.78%, validation loss: 0.361590, validation accuracy: 90.36%\n",
      "step: 41000, batch loss: 0.030620, train loss: 0.335817, train accuracy: 91.07%, validation loss: 0.352193, validation accuracy: 90.74%\n",
      "step: 42000, batch loss: 0.820319, train loss: 0.334679, train accuracy: 91.12%, validation loss: 0.353897, validation accuracy: 91.00%\n",
      "step: 43000, batch loss: 0.024085, train loss: 0.337608, train accuracy: 91.00%, validation loss: 0.353283, validation accuracy: 91.12%\n",
      "step: 44000, batch loss: 0.015755, train loss: 0.344269, train accuracy: 90.78%, validation loss: 0.361066, validation accuracy: 90.78%\n",
      "step: 45000, batch loss: 0.019731, train loss: 0.329092, train accuracy: 91.19%, validation loss: 0.343184, validation accuracy: 90.76%\n",
      "step: 46000, batch loss: 0.116836, train loss: 0.330886, train accuracy: 91.21%, validation loss: 0.353154, validation accuracy: 91.08%\n",
      "step: 47000, batch loss: 0.012289, train loss: 0.322515, train accuracy: 91.36%, validation loss: 0.339812, validation accuracy: 90.86%\n",
      "step: 48000, batch loss: 0.231323, train loss: 0.331104, train accuracy: 91.03%, validation loss: 0.347890, validation accuracy: 91.00%\n",
      "step: 49000, batch loss: 0.294248, train loss: 0.329522, train accuracy: 91.23%, validation loss: 0.351384, validation accuracy: 91.16%\n",
      "step: 50000, batch loss: 0.335925, train loss: 0.321571, train accuracy: 91.40%, validation loss: 0.339528, validation accuracy: 91.34%\n",
      "step: 51000, batch loss: 0.119039, train loss: 0.326977, train accuracy: 91.14%, validation loss: 0.342996, validation accuracy: 90.94%\n",
      "step: 52000, batch loss: 0.644314, train loss: 0.322040, train accuracy: 91.34%, validation loss: 0.339244, validation accuracy: 91.30%\n",
      "step: 53000, batch loss: 0.455682, train loss: 0.313437, train accuracy: 91.56%, validation loss: 0.332820, validation accuracy: 91.16%\n",
      "step: 54000, batch loss: 0.067731, train loss: 0.321980, train accuracy: 91.37%, validation loss: 0.343548, validation accuracy: 91.10%\n",
      "step: 55000, batch loss: 0.144732, train loss: 0.315274, train accuracy: 91.49%, validation loss: 0.336260, validation accuracy: 91.16%\n",
      "step: 56000, batch loss: 0.008469, train loss: 0.316499, train accuracy: 91.35%, validation loss: 0.341148, validation accuracy: 90.94%\n",
      "step: 57000, batch loss: 0.145192, train loss: 0.310496, train accuracy: 91.61%, validation loss: 0.332166, validation accuracy: 91.34%\n",
      "step: 58000, batch loss: 0.131688, train loss: 0.308106, train accuracy: 91.65%, validation loss: 0.326610, validation accuracy: 91.34%\n",
      "step: 59000, batch loss: 0.807177, train loss: 0.319748, train accuracy: 91.23%, validation loss: 0.335632, validation accuracy: 91.28%\n",
      "step: 60000, batch loss: 0.257427, train loss: 0.309503, train accuracy: 91.60%, validation loss: 0.333399, validation accuracy: 90.84%\n",
      "step: 61000, batch loss: 0.052815, train loss: 0.310886, train accuracy: 91.53%, validation loss: 0.329494, validation accuracy: 91.12%\n",
      "step: 62000, batch loss: 0.129870, train loss: 0.309939, train accuracy: 91.51%, validation loss: 0.334447, validation accuracy: 91.24%\n",
      "step: 63000, batch loss: 0.089658, train loss: 0.313148, train accuracy: 91.43%, validation loss: 0.335249, validation accuracy: 91.36%\n",
      "step: 64000, batch loss: 0.057120, train loss: 0.311807, train accuracy: 91.61%, validation loss: 0.332262, validation accuracy: 91.22%\n",
      "step: 65000, batch loss: 0.201349, train loss: 0.303935, train accuracy: 91.84%, validation loss: 0.328245, validation accuracy: 91.36%\n",
      "step: 66000, batch loss: 0.157631, train loss: 0.309198, train accuracy: 91.54%, validation loss: 0.332361, validation accuracy: 91.36%\n",
      "step: 67000, batch loss: 0.040992, train loss: 0.310020, train accuracy: 91.64%, validation loss: 0.332014, validation accuracy: 91.52%\n",
      "step: 68000, batch loss: 0.094685, train loss: 0.303840, train accuracy: 91.70%, validation loss: 0.329642, validation accuracy: 91.14%\n",
      "step: 69000, batch loss: 0.026753, train loss: 0.301182, train accuracy: 91.80%, validation loss: 0.326286, validation accuracy: 91.38%\n",
      "step: 70000, batch loss: 0.026239, train loss: 0.305985, train accuracy: 91.58%, validation loss: 0.326127, validation accuracy: 91.38%\n",
      "step: 71000, batch loss: 0.389758, train loss: 0.303644, train accuracy: 91.59%, validation loss: 0.327004, validation accuracy: 91.30%\n",
      "step: 72000, batch loss: 0.252058, train loss: 0.303734, train accuracy: 91.74%, validation loss: 0.328686, validation accuracy: 91.28%\n",
      "step: 73000, batch loss: 0.399573, train loss: 0.309377, train accuracy: 91.46%, validation loss: 0.334662, validation accuracy: 91.16%\n",
      "step: 74000, batch loss: 0.354951, train loss: 0.293839, train accuracy: 91.94%, validation loss: 0.320689, validation accuracy: 91.50%\n",
      "step: 75000, batch loss: 0.080668, train loss: 0.293863, train accuracy: 91.95%, validation loss: 0.318444, validation accuracy: 91.40%\n",
      "step: 76000, batch loss: 0.164915, train loss: 0.293560, train accuracy: 91.93%, validation loss: 0.320498, validation accuracy: 91.30%\n",
      "step: 77000, batch loss: 0.421105, train loss: 0.294414, train accuracy: 92.00%, validation loss: 0.321238, validation accuracy: 91.42%\n",
      "step: 78000, batch loss: 1.014642, train loss: 0.294354, train accuracy: 91.92%, validation loss: 0.319312, validation accuracy: 91.44%\n",
      "step: 79000, batch loss: 0.059581, train loss: 0.290100, train accuracy: 92.13%, validation loss: 0.313541, validation accuracy: 91.70%\n",
      "step: 80000, batch loss: 0.294088, train loss: 0.290225, train accuracy: 92.00%, validation loss: 0.316710, validation accuracy: 91.70%\n",
      "step: 81000, batch loss: 0.240907, train loss: 0.289326, train accuracy: 92.13%, validation loss: 0.315068, validation accuracy: 91.72%\n",
      "step: 82000, batch loss: 0.173685, train loss: 0.295967, train accuracy: 91.83%, validation loss: 0.323684, validation accuracy: 91.22%\n",
      "step: 83000, batch loss: 0.074906, train loss: 0.288582, train accuracy: 92.06%, validation loss: 0.311751, validation accuracy: 91.70%\n",
      "step: 84000, batch loss: 0.211877, train loss: 0.290608, train accuracy: 92.08%, validation loss: 0.314540, validation accuracy: 91.16%\n",
      "step: 85000, batch loss: 0.015019, train loss: 0.293405, train accuracy: 91.79%, validation loss: 0.315390, validation accuracy: 91.38%\n",
      "step: 86000, batch loss: 0.056876, train loss: 0.291379, train accuracy: 91.94%, validation loss: 0.315550, validation accuracy: 91.34%\n",
      "step: 87000, batch loss: 0.012988, train loss: 0.285569, train accuracy: 92.26%, validation loss: 0.310953, validation accuracy: 91.64%\n",
      "step: 88000, batch loss: 0.031024, train loss: 0.286947, train accuracy: 92.14%, validation loss: 0.316194, validation accuracy: 91.44%\n",
      "step: 89000, batch loss: 0.142300, train loss: 0.291048, train accuracy: 91.92%, validation loss: 0.315194, validation accuracy: 91.24%\n",
      "step: 90000, batch loss: 0.708775, train loss: 0.289431, train accuracy: 92.03%, validation loss: 0.316270, validation accuracy: 91.52%\n",
      "step: 91000, batch loss: 0.520591, train loss: 0.285160, train accuracy: 92.21%, validation loss: 0.314751, validation accuracy: 91.58%\n",
      "step: 92000, batch loss: 0.091002, train loss: 0.282595, train accuracy: 92.19%, validation loss: 0.310439, validation accuracy: 91.58%\n",
      "step: 93000, batch loss: 0.062687, train loss: 0.282760, train accuracy: 92.22%, validation loss: 0.310259, validation accuracy: 91.74%\n",
      "step: 94000, batch loss: 0.368998, train loss: 0.286270, train accuracy: 92.11%, validation loss: 0.312926, validation accuracy: 91.40%\n",
      "step: 95000, batch loss: 0.102775, train loss: 0.280703, train accuracy: 92.34%, validation loss: 0.309616, validation accuracy: 91.62%\n",
      "step: 96000, batch loss: 0.145864, train loss: 0.284974, train accuracy: 92.15%, validation loss: 0.307097, validation accuracy: 91.88%\n",
      "step: 97000, batch loss: 0.119787, train loss: 0.290412, train accuracy: 92.03%, validation loss: 0.317476, validation accuracy: 91.38%\n",
      "step: 98000, batch loss: 0.029483, train loss: 0.283620, train accuracy: 92.33%, validation loss: 0.311632, validation accuracy: 91.64%\n",
      "step: 99000, batch loss: 0.042419, train loss: 0.294015, train accuracy: 91.91%, validation loss: 0.321598, validation accuracy: 91.10%\n",
      "step: 100000, batch loss: 0.154891, train loss: 0.278319, train accuracy: 92.43%, validation loss: 0.304752, validation accuracy: 91.86%\n",
      "step: 101000, batch loss: 1.473445, train loss: 0.282076, train accuracy: 92.28%, validation loss: 0.308323, validation accuracy: 91.62%\n",
      "step: 102000, batch loss: 0.266631, train loss: 0.279586, train accuracy: 92.29%, validation loss: 0.306856, validation accuracy: 91.54%\n",
      "step: 103000, batch loss: 0.115208, train loss: 0.290344, train accuracy: 91.86%, validation loss: 0.321579, validation accuracy: 91.02%\n",
      "step: 104000, batch loss: 0.128595, train loss: 0.277867, train accuracy: 92.49%, validation loss: 0.308982, validation accuracy: 91.74%\n",
      "step: 105000, batch loss: 0.034878, train loss: 0.276839, train accuracy: 92.49%, validation loss: 0.305535, validation accuracy: 91.84%\n",
      "step: 106000, batch loss: 0.063157, train loss: 0.282361, train accuracy: 92.21%, validation loss: 0.310766, validation accuracy: 91.78%\n",
      "step: 107000, batch loss: 0.012763, train loss: 0.280948, train accuracy: 92.33%, validation loss: 0.309549, validation accuracy: 91.84%\n",
      "step: 108000, batch loss: 0.152843, train loss: 0.278432, train accuracy: 92.30%, validation loss: 0.308167, validation accuracy: 91.52%\n",
      "step: 109000, batch loss: 0.411255, train loss: 0.278399, train accuracy: 92.39%, validation loss: 0.310252, validation accuracy: 91.88%\n",
      "step: 110000, batch loss: 0.323467, train loss: 0.281907, train accuracy: 92.15%, validation loss: 0.315378, validation accuracy: 91.50%\n",
      "step: 111000, batch loss: 0.771127, train loss: 0.274919, train accuracy: 92.51%, validation loss: 0.304817, validation accuracy: 91.68%\n",
      "step: 112000, batch loss: 0.166416, train loss: 0.278342, train accuracy: 92.43%, validation loss: 0.307770, validation accuracy: 91.78%\n",
      "step: 113000, batch loss: 0.201026, train loss: 0.275448, train accuracy: 92.46%, validation loss: 0.302862, validation accuracy: 91.92%\n",
      "step: 114000, batch loss: 0.418198, train loss: 0.272077, train accuracy: 92.62%, validation loss: 0.303925, validation accuracy: 91.62%\n",
      "step: 115000, batch loss: 0.102948, train loss: 0.281007, train accuracy: 92.25%, validation loss: 0.309113, validation accuracy: 91.54%\n",
      "step: 116000, batch loss: 0.858824, train loss: 0.278422, train accuracy: 92.37%, validation loss: 0.313366, validation accuracy: 91.46%\n",
      "step: 117000, batch loss: 0.997578, train loss: 0.277635, train accuracy: 92.36%, validation loss: 0.306252, validation accuracy: 91.82%\n",
      "step: 118000, batch loss: 0.033906, train loss: 0.272644, train accuracy: 92.51%, validation loss: 0.304186, validation accuracy: 91.68%\n",
      "step: 119000, batch loss: 0.095903, train loss: 0.278594, train accuracy: 92.33%, validation loss: 0.311404, validation accuracy: 91.62%\n",
      "step: 120000, batch loss: 0.135420, train loss: 0.272888, train accuracy: 92.32%, validation loss: 0.300703, validation accuracy: 91.94%\n",
      "step: 121000, batch loss: 0.157932, train loss: 0.275105, train accuracy: 92.46%, validation loss: 0.305126, validation accuracy: 91.96%\n",
      "step: 122000, batch loss: 0.264308, train loss: 0.274971, train accuracy: 92.35%, validation loss: 0.304920, validation accuracy: 91.84%\n",
      "step: 123000, batch loss: 0.041283, train loss: 0.267615, train accuracy: 92.66%, validation loss: 0.297783, validation accuracy: 91.92%\n",
      "step: 124000, batch loss: 1.364383, train loss: 0.273630, train accuracy: 92.46%, validation loss: 0.301744, validation accuracy: 92.04%\n",
      "step: 125000, batch loss: 0.127066, train loss: 0.268478, train accuracy: 92.67%, validation loss: 0.301698, validation accuracy: 91.70%\n",
      "step: 126000, batch loss: 0.081494, train loss: 0.269371, train accuracy: 92.58%, validation loss: 0.301134, validation accuracy: 91.94%\n",
      "step: 127000, batch loss: 2.107178, train loss: 0.271594, train accuracy: 92.48%, validation loss: 0.301995, validation accuracy: 91.76%\n",
      "step: 128000, batch loss: 0.011665, train loss: 0.271417, train accuracy: 92.44%, validation loss: 0.301067, validation accuracy: 91.88%\n",
      "step: 129000, batch loss: 0.299739, train loss: 0.272238, train accuracy: 92.48%, validation loss: 0.304182, validation accuracy: 91.78%\n",
      "step: 130000, batch loss: 0.007840, train loss: 0.268742, train accuracy: 92.58%, validation loss: 0.302519, validation accuracy: 91.80%\n",
      "step: 131000, batch loss: 0.070522, train loss: 0.274955, train accuracy: 92.42%, validation loss: 0.302927, validation accuracy: 91.66%\n",
      "step: 132000, batch loss: 0.199234, train loss: 0.272961, train accuracy: 92.56%, validation loss: 0.306948, validation accuracy: 91.76%\n",
      "step: 133000, batch loss: 0.051950, train loss: 0.271993, train accuracy: 92.58%, validation loss: 0.306083, validation accuracy: 91.74%\n",
      "step: 134000, batch loss: 0.023755, train loss: 0.268802, train accuracy: 92.52%, validation loss: 0.298403, validation accuracy: 91.90%\n",
      "step: 135000, batch loss: 0.039369, train loss: 0.266698, train accuracy: 92.72%, validation loss: 0.299181, validation accuracy: 91.94%\n",
      "step: 136000, batch loss: 0.017914, train loss: 0.265316, train accuracy: 92.81%, validation loss: 0.298259, validation accuracy: 91.92%\n",
      "step: 137000, batch loss: 0.638034, train loss: 0.267351, train accuracy: 92.70%, validation loss: 0.299309, validation accuracy: 91.58%\n",
      "step: 138000, batch loss: 0.102812, train loss: 0.268306, train accuracy: 92.60%, validation loss: 0.303006, validation accuracy: 92.02%\n",
      "step: 139000, batch loss: 0.068522, train loss: 0.262838, train accuracy: 92.73%, validation loss: 0.298640, validation accuracy: 91.84%\n",
      "step: 140000, batch loss: 0.012137, train loss: 0.265106, train accuracy: 92.80%, validation loss: 0.300656, validation accuracy: 92.02%\n",
      "step: 141000, batch loss: 0.092531, train loss: 0.266807, train accuracy: 92.68%, validation loss: 0.302291, validation accuracy: 91.60%\n",
      "step: 142000, batch loss: 0.137061, train loss: 0.263636, train accuracy: 92.79%, validation loss: 0.295497, validation accuracy: 92.02%\n",
      "step: 143000, batch loss: 3.337349, train loss: 0.266896, train accuracy: 92.68%, validation loss: 0.304026, validation accuracy: 91.70%\n",
      "step: 144000, batch loss: 0.053331, train loss: 0.265718, train accuracy: 92.65%, validation loss: 0.297043, validation accuracy: 91.82%\n",
      "step: 145000, batch loss: 0.018920, train loss: 0.274662, train accuracy: 92.43%, validation loss: 0.301867, validation accuracy: 92.12%\n",
      "step: 146000, batch loss: 0.675669, train loss: 0.267708, train accuracy: 92.59%, validation loss: 0.298944, validation accuracy: 91.72%\n",
      "step: 147000, batch loss: 0.010728, train loss: 0.269498, train accuracy: 92.40%, validation loss: 0.302462, validation accuracy: 91.74%\n",
      "step: 148000, batch loss: 2.198852, train loss: 0.262675, train accuracy: 92.85%, validation loss: 0.297946, validation accuracy: 91.92%\n",
      "step: 149000, batch loss: 0.071812, train loss: 0.268400, train accuracy: 92.58%, validation loss: 0.302635, validation accuracy: 91.66%\n",
      "step: 150000, batch loss: 0.247511, train loss: 0.266837, train accuracy: 92.53%, validation loss: 0.299996, validation accuracy: 91.66%\n",
      "step: 151000, batch loss: 0.050465, train loss: 0.266018, train accuracy: 92.70%, validation loss: 0.297019, validation accuracy: 91.98%\n",
      "step: 152000, batch loss: 0.577861, train loss: 0.269549, train accuracy: 92.48%, validation loss: 0.304057, validation accuracy: 91.44%\n",
      "step: 153000, batch loss: 0.112059, train loss: 0.264156, train accuracy: 92.68%, validation loss: 0.302948, validation accuracy: 91.60%\n",
      "step: 154000, batch loss: 0.401760, train loss: 0.263472, train accuracy: 92.77%, validation loss: 0.298320, validation accuracy: 91.96%\n",
      "step: 155000, batch loss: 0.319741, train loss: 0.260805, train accuracy: 92.87%, validation loss: 0.295304, validation accuracy: 92.04%\n",
      "step: 156000, batch loss: 0.592103, train loss: 0.272096, train accuracy: 92.49%, validation loss: 0.305210, validation accuracy: 91.80%\n",
      "step: 157000, batch loss: 0.042288, train loss: 0.268085, train accuracy: 92.65%, validation loss: 0.302315, validation accuracy: 91.68%\n",
      "step: 158000, batch loss: 0.007190, train loss: 0.274369, train accuracy: 92.40%, validation loss: 0.304894, validation accuracy: 91.64%\n",
      "step: 159000, batch loss: 1.363637, train loss: 0.263256, train accuracy: 92.73%, validation loss: 0.297715, validation accuracy: 91.92%\n",
      "step: 160000, batch loss: 0.239029, train loss: 0.261451, train accuracy: 92.82%, validation loss: 0.295352, validation accuracy: 92.06%\n",
      "step: 161000, batch loss: 0.027503, train loss: 0.265265, train accuracy: 92.60%, validation loss: 0.299294, validation accuracy: 91.90%\n",
      "step: 162000, batch loss: 0.047385, train loss: 0.257425, train accuracy: 92.89%, validation loss: 0.294711, validation accuracy: 92.16%\n",
      "step: 163000, batch loss: 0.084723, train loss: 0.264862, train accuracy: 92.71%, validation loss: 0.301394, validation accuracy: 91.82%\n",
      "step: 164000, batch loss: 0.024742, train loss: 0.261279, train accuracy: 92.83%, validation loss: 0.293521, validation accuracy: 92.14%\n",
      "step: 165000, batch loss: 0.005050, train loss: 0.261298, train accuracy: 92.82%, validation loss: 0.297520, validation accuracy: 92.02%\n",
      "step: 166000, batch loss: 0.137626, train loss: 0.265116, train accuracy: 92.57%, validation loss: 0.300967, validation accuracy: 91.70%\n",
      "step: 167000, batch loss: 0.835616, train loss: 0.260978, train accuracy: 92.90%, validation loss: 0.294354, validation accuracy: 91.80%\n",
      "step: 168000, batch loss: 0.806057, train loss: 0.258331, train accuracy: 92.92%, validation loss: 0.296012, validation accuracy: 91.90%\n",
      "step: 169000, batch loss: 0.121903, train loss: 0.264681, train accuracy: 92.70%, validation loss: 0.300160, validation accuracy: 91.68%\n",
      "step: 170000, batch loss: 1.050885, train loss: 0.257528, train accuracy: 92.82%, validation loss: 0.294912, validation accuracy: 92.06%\n",
      "step: 171000, batch loss: 0.223307, train loss: 0.262083, train accuracy: 92.86%, validation loss: 0.297501, validation accuracy: 91.94%\n",
      "step: 172000, batch loss: 1.049877, train loss: 0.265369, train accuracy: 92.65%, validation loss: 0.298509, validation accuracy: 91.74%\n",
      "step: 173000, batch loss: 0.034483, train loss: 0.260553, train accuracy: 92.71%, validation loss: 0.292362, validation accuracy: 92.08%\n",
      "step: 174000, batch loss: 0.028558, train loss: 0.260700, train accuracy: 92.82%, validation loss: 0.295125, validation accuracy: 91.92%\n",
      "step: 175000, batch loss: 0.048844, train loss: 0.260886, train accuracy: 92.74%, validation loss: 0.296233, validation accuracy: 91.98%\n",
      "step: 176000, batch loss: 0.116613, train loss: 0.259756, train accuracy: 92.87%, validation loss: 0.297309, validation accuracy: 91.86%\n",
      "step: 177000, batch loss: 0.031406, train loss: 0.265399, train accuracy: 92.77%, validation loss: 0.306986, validation accuracy: 91.64%\n",
      "step: 178000, batch loss: 0.107554, train loss: 0.254960, train accuracy: 92.99%, validation loss: 0.291831, validation accuracy: 92.14%\n",
      "step: 179000, batch loss: 0.319670, train loss: 0.268172, train accuracy: 92.50%, validation loss: 0.302068, validation accuracy: 92.08%\n",
      "step: 180000, batch loss: 0.522155, train loss: 0.259928, train accuracy: 92.89%, validation loss: 0.297604, validation accuracy: 91.94%\n",
      "step: 181000, batch loss: 0.219882, train loss: 0.261111, train accuracy: 92.78%, validation loss: 0.301875, validation accuracy: 92.00%\n",
      "step: 182000, batch loss: 0.107440, train loss: 0.261074, train accuracy: 92.88%, validation loss: 0.301609, validation accuracy: 91.54%\n",
      "step: 183000, batch loss: 0.078157, train loss: 0.257194, train accuracy: 92.90%, validation loss: 0.294967, validation accuracy: 92.10%\n",
      "step: 184000, batch loss: 0.031616, train loss: 0.256870, train accuracy: 92.85%, validation loss: 0.297101, validation accuracy: 91.80%\n",
      "step: 185000, batch loss: 0.230460, train loss: 0.260868, train accuracy: 92.78%, validation loss: 0.294750, validation accuracy: 92.04%\n",
      "step: 186000, batch loss: 0.173556, train loss: 0.263223, train accuracy: 92.61%, validation loss: 0.298120, validation accuracy: 91.94%\n",
      "step: 187000, batch loss: 0.172437, train loss: 0.261558, train accuracy: 92.75%, validation loss: 0.296645, validation accuracy: 91.94%\n",
      "step: 188000, batch loss: 0.035768, train loss: 0.257897, train accuracy: 92.84%, validation loss: 0.294664, validation accuracy: 91.94%\n",
      "step: 189000, batch loss: 0.091194, train loss: 0.260211, train accuracy: 92.90%, validation loss: 0.294617, validation accuracy: 91.84%\n",
      "step: 190000, batch loss: 0.062037, train loss: 0.256057, train accuracy: 92.89%, validation loss: 0.294695, validation accuracy: 91.78%\n",
      "step: 191000, batch loss: 0.019448, train loss: 0.272812, train accuracy: 92.09%, validation loss: 0.309043, validation accuracy: 91.46%\n",
      "step: 192000, batch loss: 1.353569, train loss: 0.257454, train accuracy: 92.87%, validation loss: 0.296147, validation accuracy: 92.02%\n",
      "step: 193000, batch loss: 0.022200, train loss: 0.261067, train accuracy: 92.79%, validation loss: 0.302511, validation accuracy: 91.94%\n",
      "step: 194000, batch loss: 0.003980, train loss: 0.260743, train accuracy: 92.72%, validation loss: 0.298229, validation accuracy: 91.70%\n",
      "step: 195000, batch loss: 1.497911, train loss: 0.255675, train accuracy: 93.08%, validation loss: 0.295927, validation accuracy: 91.90%\n",
      "step: 196000, batch loss: 0.094750, train loss: 0.253419, train accuracy: 92.95%, validation loss: 0.290322, validation accuracy: 92.30%\n",
      "step: 197000, batch loss: 0.033300, train loss: 0.256088, train accuracy: 92.97%, validation loss: 0.289407, validation accuracy: 92.12%\n",
      "step: 198000, batch loss: 0.320902, train loss: 0.255128, train accuracy: 93.02%, validation loss: 0.292365, validation accuracy: 91.88%\n",
      "step: 199000, batch loss: 0.326912, train loss: 0.255490, train accuracy: 92.93%, validation loss: 0.295906, validation accuracy: 91.98%\n"
     ]
    },
    {
     "data": {
      "text/plain": [
       "<module 'matplotlib.pyplot' from '/Users/yunabe/local/homebrew/lib/python2.7/site-packages/matplotlib/pyplot.pyc'>"
      ]
     },
     "execution_count": 4,
     "metadata": {},
     "output_type": "execute_result"
    }
   ],
   "source": [
    "learning_rate = 0.05\n",
    "steps = 200 * 1000\n",
    "sample = 1000\n",
    "batch_size = 8\n",
    "\n",
    "graph = tf.Graph()\n",
    "sess = tf.Session(graph=graph)\n",
    "\n",
    "with graph.as_default():\n",
    "    inputs = tf.placeholder(tf.float32, [None, image_size])\n",
    "    labels = tf.placeholder(tf.float32, [None, num_classes])\n",
    "\n",
    "    weight = tf.Variable(tf.truncated_normal([image_size, num_classes], stddev=1), name='a')\n",
    "    bias = tf.Variable(tf.constant(0.1, shape=[num_classes]), name='bias')\n",
    "    logits = tf.matmul(inputs, weight) + bias\n",
    "    cross_entropy = tf.reduce_mean(tf.nn.softmax_cross_entropy_with_logits(logits, labels))\n",
    "    \n",
    "    train_step = tf.train.GradientDescentOptimizer(learning_rate).minimize(cross_entropy)\n",
    "    \n",
    "    correct_pred = tf.equal(tf.argmax(logits, 1), tf.argmax(labels, 1))\n",
    "    accuracy = tf.reduce_mean(tf.cast(correct_pred, tf.float32))\n",
    "    \n",
    "    init_variables = tf.initialize_all_variables()\n",
    "\n",
    "    train_losses = []\n",
    "    validation_losses = []\n",
    "    step_records = []\n",
    "    with sess.as_default():\n",
    "        init_variables.run()\n",
    "        for step in xrange(steps):\n",
    "            batch_input, batch_label = mnist.train.next_batch(batch_size)\n",
    "            sess.run(train_step, {inputs: batch_input, labels: batch_label})\n",
    "            if step % sample == 0:\n",
    "                batch_entropy, batch_accuracy = sess.run((cross_entropy, accuracy), {inputs: batch_input, labels: batch_label})\n",
    "                train_entropy, train_accuracy = sess.run((cross_entropy, accuracy), {inputs: mnist.train.images, labels: mnist.train.labels})\n",
    "                validation_entropy, validation_accuracy = sess.run((cross_entropy, accuracy), {inputs: mnist.validation.images, labels: mnist.validation.labels})\n",
    "                print 'step: %d, batch loss: %f, train loss: %f, train accuracy: %.2f%%, validation loss: %f, validation accuracy: %.2f%%' % (\n",
    "                    step, batch_entropy, train_entropy, 100. * train_accuracy, validation_entropy, 100. * validation_accuracy)\n",
    "                if step > 0:\n",
    "                    step_records.append(step)\n",
    "                    train_losses.append(train_entropy)\n",
    "                    validation_losses.append(validation_entropy)"
   ]
  },
  {
   "cell_type": "code",
   "execution_count": 5,
   "metadata": {
    "collapsed": false
   },
   "outputs": [
    {
     "data": {
      "image/png": "[encoded data removed]",
      "text/plain": [
       "<matplotlib.figure.Figure at 0x1154e2b90>"
      ]
     },
     "metadata": {},
     "output_type": "display_data"
    }
   ],
   "source": [
    "plt.plot(step_records, train_losses)\n",
    "plt.plot(step_records, validation_losses)\n",
    "plt.show()"
   ]
  }
 ],
 "metadata": {
  "kernelspec": {
   "display_name": "Python 2",
   "language": "python",
   "name": "python2"
  },
  "language_info": {
   "codemirror_mode": {
    "name": "ipython",
    "version": 2
   },
   "file_extension": ".py",
   "mimetype": "text/x-python",
   "name": "python",
   "nbconvert_exporter": "python",
   "pygments_lexer": "ipython2",
   "version": "2.7.11"
  }
 },
 "nbformat": 4,
 "nbformat_minor": 0
}
