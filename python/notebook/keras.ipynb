{
 "cells": [
  {
   "cell_type": "markdown",
   "metadata": {},
   "source": [
    "# Examples of ML with Keras\n",
    "- [https://keras.io/](https://keras.io/)"
   ]
  },
  {
   "cell_type": "code",
   "execution_count": 1,
   "metadata": {},
   "outputs": [
    {
     "name": "stderr",
     "output_type": "stream",
     "text": [
      "Using TensorFlow backend.\n"
     ]
    }
   ],
   "source": [
    "import numpy as np\n",
    "import keras\n",
    "import tensorflow as tf\n",
    "import matplotlib.pyplot as plt\n",
    "\n",
    "from keras.layers import Dense, Activation\n",
    "from keras.models import Sequential\n",
    "\n",
    "%matplotlib inline"
   ]
  },
  {
   "cell_type": "code",
   "execution_count": 2,
   "metadata": {},
   "outputs": [
    {
     "name": "stdout",
     "output_type": "stream",
     "text": [
      "keras: 2.0.5\n",
      "tensorflow: 1.1.0\n"
     ]
    }
   ],
   "source": [
    "print 'keras:', keras.__version__\n",
    "print 'tensorflow:', tf.__version__"
   ]
  },
  {
   "cell_type": "code",
   "execution_count": 3,
   "metadata": {},
   "outputs": [],
   "source": [
    "from keras.datasets import mnist\n",
    "(x_train, y_train), (x_test, y_test) = mnist.load_data()"
   ]
  },
  {
   "cell_type": "code",
   "execution_count": 4,
   "metadata": {},
   "outputs": [
    {
     "data": {
      "image/png": "[encoded data removed]",
      "text/plain": [
       "<matplotlib.figure.Figure at 0x7f996ac86e10>"
      ]
     },
     "metadata": {},
     "output_type": "display_data"
    }
   ],
   "source": [
    "for i in xrange(3):\n",
    "    plt.subplot(1, 3, i + 1)\n",
    "    plt.imshow(x_train[i], cmap='gray')\n",
    "    plt.colorbar()"
   ]
  },
  {
   "cell_type": "code",
   "execution_count": 5,
   "metadata": {},
   "outputs": [
    {
     "name": "stdout",
     "output_type": "stream",
     "text": [
      "5\n",
      "[ 0.  0.  0.  0.  0.  1.  0.  0.  0.  0.]\n"
     ]
    }
   ],
   "source": [
    "y_train_oneshot = np.zeros((len(y_train), 10))\n",
    "y_train_oneshot[np.arange(len(y_train)), y_train] = 1\n",
    "\n",
    "print y_train[0]\n",
    "print y_train_oneshot[0]"
   ]
  },
  {
   "cell_type": "code",
   "execution_count": 6,
   "metadata": {},
   "outputs": [
    {
     "name": "stdout",
     "output_type": "stream",
     "text": [
      "Epoch 1/10\n",
      "60000/60000 [==============================] - 5s - loss: 0.6716 - acc: 0.8109     \n",
      "Epoch 2/10\n",
      "60000/60000 [==============================] - 4s - loss: 0.2649 - acc: 0.9241     \n",
      "Epoch 3/10\n",
      "60000/60000 [==============================] - 5s - loss: 0.2070 - acc: 0.9398     \n",
      "Epoch 4/10\n",
      "60000/60000 [==============================] - 5s - loss: 0.1714 - acc: 0.9500     \n",
      "Epoch 5/10\n",
      "60000/60000 [==============================] - 5s - loss: 0.1476 - acc: 0.9569     \n",
      "Epoch 6/10\n",
      "60000/60000 [==============================] - 5s - loss: 0.1284 - acc: 0.9619     \n",
      "Epoch 7/10\n",
      "60000/60000 [==============================] - 5s - loss: 0.1143 - acc: 0.9667     \n",
      "Epoch 8/10\n",
      "60000/60000 [==============================] - 5s - loss: 0.1029 - acc: 0.9698     \n",
      "Epoch 9/10\n",
      "60000/60000 [==============================] - 4s - loss: 0.0933 - acc: 0.9731     \n",
      "Epoch 10/10\n",
      "60000/60000 [==============================] - 5s - loss: 0.0848 - acc: 0.9748     \n"
     ]
    },
    {
     "data": {
      "text/plain": [
       "<keras.callbacks.History at 0x7f994e363ed0>"
      ]
     },
     "execution_count": 6,
     "metadata": {},
     "output_type": "execute_result"
    }
   ],
   "source": [
    "model = Sequential()\n",
    "model.add(Dense(units=100, input_dim=28*28))\n",
    "model.add(Activation('relu'))\n",
    "model.add(Dense(units=75))\n",
    "model.add(Activation('relu'))\n",
    "model.add(Dense(units=50))\n",
    "model.add(Activation('relu'))\n",
    "model.add(Dense(units=10))\n",
    "model.add(Activation('softmax'))\n",
    "\n",
    "model.compile(loss='categorical_crossentropy',\n",
    "              optimizer='sgd',\n",
    "              metrics=['accuracy'])\n",
    "model.fit(x_train.reshape((-1, 28*28))/256., y_train_oneshot, epochs=10, batch_size=32)"
   ]
  },
  {
   "cell_type": "code",
   "execution_count": 7,
   "metadata": {},
   "outputs": [
    {
     "name": "stdout",
     "output_type": "stream",
     "text": [
      "5\n",
      "0\n",
      "4\n"
     ]
    }
   ],
   "source": [
    "print model.predict(x_train[0].reshape((1, 28*28))).argmax()\n",
    "print model.predict(x_train[1].reshape((1, 28*28))).argmax()\n",
    "print model.predict(x_train[2].reshape((1, 28*28))).argmax()"
   ]
  }
 ],
 "metadata": {
  "kernelspec": {
   "display_name": "Python 2",
   "language": "python",
   "name": "python2"
  },
  "language_info": {
   "codemirror_mode": {
    "name": "ipython",
    "version": 2
   },
   "file_extension": ".py",
   "mimetype": "text/x-python",
   "name": "python",
   "nbconvert_exporter": "python",
   "pygments_lexer": "ipython2",
   "version": "2.7.12"
  }
 },
 "nbformat": 4,
 "nbformat_minor": 2
}
